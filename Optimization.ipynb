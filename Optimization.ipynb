{
 "cells": [
  {
   "cell_type": "markdown",
   "metadata": {},
   "source": [
    "# Largest circle within Gaussians\n",
    "\n",
    "What is the largest circle you can inscribe between a positive and negative Gaussian function. \n",
    "\n",
    "A Gaussian function is described by \n",
    "\n",
    "$y = e^{-x^{2}}$ and $y = -e^{-x^{2}}$"
   ]
  },
  {
   "cell_type": "code",
   "execution_count": 3,
   "metadata": {
    "collapsed": false
   },
   "outputs": [
    {
     "name": "stdout",
     "output_type": "stream",
     "text": [
      "0.9201342456315758\n",
      "0.9201342456315758\n"
     ]
    },
    {
     "name": "stderr",
     "output_type": "stream",
     "text": [
      "C:\\Users\\Karim\\Anaconda3\\lib\\site-packages\\ipykernel\\__main__.py:42: RuntimeWarning: invalid value encountered in sqrt\n",
      "C:\\Users\\Karim\\Anaconda3\\lib\\site-packages\\ipykernel\\__main__.py:43: RuntimeWarning: invalid value encountered in sqrt\n",
      "C:\\Users\\Karim\\Anaconda3\\lib\\site-packages\\ipykernel\\__main__.py:47: RuntimeWarning: invalid value encountered in less\n",
      "C:\\Users\\Karim\\Anaconda3\\lib\\site-packages\\ipykernel\\__main__.py:14: RuntimeWarning: invalid value encountered in power\n",
      "C:\\Users\\Karim\\Anaconda3\\lib\\site-packages\\numpy\\core\\fromnumeric.py:2822: RuntimeWarning: invalid value encountered in rint\n",
      "  return round(decimals, out)\n"
     ]
    }
   ],
   "source": [
    "import numpy as np\n",
    "import matplotlib.pyplot as plt\n",
    "\n",
    "res = 100\n",
    "\n",
    "y_gauss_p = np.zeros((res, 1))\n",
    "y_gauss_n = np.zeros((res, 1))\n",
    "\n",
    "for i, x in enumerate(np.linspace(-1, 1, num=res)):\n",
    "    y_gauss_p[i] = np.e **(-x*x)\n",
    "    y_gauss_n[i] = - np.e **(-x*x)\n",
    "    \n",
    "\n",
    "omag      = lambda x: 10**np.floor(np.log10(np.abs(x)))\n",
    "signifFig = lambda x, n: (np.around(x/omag(x),n)*omag(x))\n",
    "\n",
    "sigfigs = 9\n",
    "\n",
    "r = 0\n",
    "r_low = 0.001\n",
    "r_up = 1\n",
    "\n",
    "done = 0\n",
    "counter = 0\n",
    "\n",
    "cir_up = np.zeros((res, 1)) \n",
    "cir_down = np.zeros ((res, 1))\n",
    "\n",
    "while done == 0:\n",
    "    \n",
    "    r = r_low + ((r_up - r_low) / 2)\n",
    "    #print(str(r_up) + '   ' + str(r_low) + '   ' + str(r))\n",
    "    for i, x in enumerate(np.linspace(-1, 1, num=res)):\n",
    "        cir_up[i] = np.sqrt((r**2) - (x**2))\n",
    "        cir_down[i] = -np.sqrt((r**2) - (x**2))\n",
    "    \n",
    "    diff = np.subtract(y_gauss_p,cir_up)\n",
    "    \n",
    "    if any( diff < 0 ):\n",
    "        r_up = r\n",
    "    else:\n",
    "        r_low = r\n",
    "    \n",
    "    if 0 in np.subtract(signifFig(cir_up,sigfigs), signifFig(y_gauss_p,sigfigs)):\n",
    "        done = 1\n",
    "        print(r)\n",
    "        break\n",
    "    \n",
    "plt.plot(np.linspace(-1, 1, num=res), y_gauss_p)\n",
    "plt.plot(np.linspace(-1, 1, num=res), y_gauss_n)\n",
    "plt.plot(np.linspace(-1, 1, num=res), cir_up)\n",
    "plt.plot(np.linspace(-1, 1, num=res), cir_down)\n",
    "plt.show()\n",
    "\n",
    "print(r)"
   ]
  },
  {
   "cell_type": "code",
   "execution_count": null,
   "metadata": {
    "collapsed": true
   },
   "outputs": [],
   "source": []
  }
 ],
 "metadata": {
  "kernelspec": {
   "display_name": "Python 3",
   "language": "python",
   "name": "python3"
  },
  "language_info": {
   "codemirror_mode": {
    "name": "ipython",
    "version": 3
   },
   "file_extension": ".py",
   "mimetype": "text/x-python",
   "name": "python",
   "nbconvert_exporter": "python",
   "pygments_lexer": "ipython3",
   "version": "3.4.5"
  }
 },
 "nbformat": 4,
 "nbformat_minor": 2
}
