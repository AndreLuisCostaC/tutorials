{
 "cells": [
  {
   "cell_type": "code",
   "execution_count": 1,
   "metadata": {
    "collapsed": true
   },
   "outputs": [],
   "source": [
    "import csv\n",
    "import random\n",
    "import math\n",
    "import pandas as pd\n",
    "import numpy as np"
   ]
  },
  {
   "cell_type": "code",
   "execution_count": 2,
   "metadata": {
    "collapsed": true
   },
   "outputs": [],
   "source": [
    "class NaiveBayes(object):\n",
    "    \n",
    "    def __init__(self):\n",
    "        self.groupClass = None\n",
    "        self.stats = None\n",
    "\n",
    "    ################################################\n",
    "    ########## Training Methods ####################\n",
    "    ################################################\n",
    "    def train(self, x, y):\n",
    "        self.splitClasses(x, y)\n",
    "        self.getStats()\n",
    "        pass\n",
    "        \n",
    "    def splitClasses(self, x, y):\n",
    "        \"\"\" Split the classes by their labels\n",
    "        \n",
    "        Create a dictionary which will contain the data for each\n",
    "        label set.\n",
    "        \n",
    "        Args:\n",
    "            - x: the dataset\n",
    "            - y: the labels\n",
    "        \"\"\"\n",
    "        self.groupClass = groupClass\n",
    "        \n",
    "    def getStats(self):\n",
    "        \"\"\" Get the statistics.\n",
    "        \n",
    "        For each label group in the dictionary get the relevant\n",
    "        statistics for the Gaussian distribution we will be assuming. \n",
    "        We thus need to get the mean and the variance for each \n",
    "        feature and each label.\n",
    "        \n",
    "        For example. For all datapoints in label 1. Get the mean\n",
    "        and the standard deviation of each feature.\n",
    "        \"\"\"\n",
    "        self.stats = stats\n",
    "    \n",
    "    ################################################\n",
    "    ########## Predicting Methods ##################\n",
    "    ################################################\n",
    "    \n",
    "    def score(self, x, y):\n",
    "        \"\"\" Get the percentage of correctly labeled value.\n",
    "        \n",
    "        For a dataset x and labels y, determine the number\n",
    "        of correctly identified labels from our trained model.\n",
    "        \n",
    "        Args:\n",
    "            - x: the dataset\n",
    "            - y: the labels\n",
    "        \"\"\"\n",
    "        return result\n",
    "    \n",
    "    def predict(self, x):\n",
    "        \"\"\" Predict the labels for a dataset \n",
    "        \n",
    "        Args:\n",
    "            - x: the dataset        \n",
    "        \"\"\"\n",
    "        return np.argmax(probs, 1)\n",
    "    \n",
    "    def calculateGaussian(self, x, mean, std):\n",
    "        \"\"\" Calculate the probability of a Gaussian\n",
    "        \n",
    "        Calculate p(x) of a Gaussian with a given \n",
    "        mean and standard deviation.\n",
    "        \n",
    "        Args:\n",
    "            - x: Input value\n",
    "            - mean: The mean of the Gaussian\n",
    "            - std: The standard deviation of the Gaussian        \n",
    "        \"\"\"\n",
    "        return p"
   ]
  },
  {
   "cell_type": "code",
   "execution_count": 5,
   "metadata": {
    "collapsed": true
   },
   "outputs": [],
   "source": [
    "# Load the data\n",
    "def loadCSV(filename):\n",
    "    df = pd.read_csv(filename)\n",
    "    return df\n",
    "\n",
    "# Split the data into a tran/test set\n",
    "def split_dataset(dataset, train_percent=.66):\n",
    "    perm = np.random.permutation(dataset)\n",
    "    m = len(dataset)\n",
    "\n",
    "    # Get the split indices\n",
    "    train_end = int(train_percent * m)\n",
    "    train, test = perm[:train_end], perm[train_end:]\n",
    "    return train, test"
   ]
  },
  {
   "cell_type": "code",
   "execution_count": 6,
   "metadata": {},
   "outputs": [
    {
     "name": "stdout",
     "output_type": "stream",
     "text": [
      "(767, 9)\n",
      "(506, 8)\n",
      "(506,)\n",
      "(261, 8)\n",
      "(261,)\n"
     ]
    },
    {
     "data": {
      "text/plain": [
       "0.7351778656126482"
      ]
     },
     "execution_count": 6,
     "metadata": {},
     "output_type": "execute_result"
    }
   ],
   "source": [
    "filename = 'indians.csv'\n",
    "dataset = loadCSV(filename)\n",
    "\n",
    "print(dataset.shape)\n",
    "\n",
    "train, test = split_dataset(dataset)\n",
    "x_train, y_train = train[:, 0:-1], train[:, -1]\n",
    "x_test, y_test = test[:, 0:-1], test[:, -1]\n",
    "\n",
    "print(x_train.shape)\n",
    "print(y_train.shape)\n",
    "print(x_test.shape)\n",
    "print(y_test.shape)\n",
    "\n",
    "clf = NaiveBayes()\n",
    "clf.train(x_train, y_train)\n",
    "\n",
    "clf.score(x_train, y_train)\n"
   ]
  },
  {
   "cell_type": "code",
   "execution_count": 7,
   "metadata": {},
   "outputs": [
    {
     "data": {
      "text/plain": [
       "0.74712643678160917"
      ]
     },
     "execution_count": 7,
     "metadata": {},
     "output_type": "execute_result"
    }
   ],
   "source": [
    "clf.score(x_test, y_test)"
   ]
  },
  {
   "cell_type": "code",
   "execution_count": null,
   "metadata": {
    "collapsed": true
   },
   "outputs": [],
   "source": []
  }
 ],
 "metadata": {
  "kernelspec": {
   "display_name": "Python 3",
   "language": "python",
   "name": "python3"
  },
  "language_info": {
   "codemirror_mode": {
    "name": "ipython",
    "version": 3
   },
   "file_extension": ".py",
   "mimetype": "text/x-python",
   "name": "python",
   "nbconvert_exporter": "python",
   "pygments_lexer": "ipython3",
   "version": "3.6.3"
  }
 },
 "nbformat": 4,
 "nbformat_minor": 2
}
