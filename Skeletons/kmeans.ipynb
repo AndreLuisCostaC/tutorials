{
 "cells": [
  {
   "cell_type": "code",
   "execution_count": 1,
   "metadata": {
    "collapsed": true
   },
   "outputs": [],
   "source": [
    "import numpy as np\n",
    "import matplotlib.pyplot as plt"
   ]
  },
  {
   "cell_type": "markdown",
   "metadata": {},
   "source": [
    "Clustering works well on Gaussians. So we will make some artifical data based on Gaussians."
   ]
  },
  {
   "cell_type": "code",
   "execution_count": 2,
   "metadata": {},
   "outputs": [
    {
     "name": "stdout",
     "output_type": "stream",
     "text": [
      "(150,)\n",
      "(150, 2)\n"
     ]
    }
   ],
   "source": [
    "# Create the 2D Gaussians. \n",
    "# len(params): # of clusters\n",
    "# len(params[0]): # of features\n",
    "# len(params[0][0]): mean and variance\n",
    "params = [[[ 0,1],  [ 0,1]], \n",
    "          [[ 5,1],  [ 5,1]], \n",
    "          [[-2,1],  [ 2,1]],\n",
    "          [[ 2,1],  [ 2,1]],\n",
    "          [[-5,1],  [-5,1]]]\n",
    "\n",
    "# Number of instances per cluster\n",
    "n = 30\n",
    "dims = len(params[0])\n",
    "\n",
    "# Save the data and their associated labels\n",
    "data = []\n",
    "y = []\n",
    "for ix, i in enumerate(params):\n",
    "    inst = np.random.randn(n, dims)\n",
    "    for dim in range(dims):\n",
    "        inst[:,dim] = params[ix][dim][0]+params[ix][dim][1]*inst[:,dim]\n",
    "        label = ix + np.zeros(n)\n",
    "        \n",
    "    if len(data) == 0: data = inst\n",
    "    else: data = np.append( data, inst, axis= 0)\n",
    "    if len(y) == 0: y = label\n",
    "    else: y = np.append(y, label)\n",
    "        \n",
    "num_clusters = len(params)\n",
    "\n",
    "print(y.shape)\n",
    "print(data.shape)"
   ]
  },
  {
   "cell_type": "code",
   "execution_count": 3,
   "metadata": {},
   "outputs": [
    {
     "data": {
      "image/png": "[encoded data removed]",
      "text/plain": [
       "<matplotlib.figure.Figure at 0x2039ad2f860>"
      ]
     },
     "metadata": {},
     "output_type": "display_data"
    }
   ],
   "source": [
    "plt.scatter(data[:,0], data[:,1])\n",
    "plt.show()"
   ]
  },
  {
   "cell_type": "code",
   "execution_count": null,
   "metadata": {
    "collapsed": true
   },
   "outputs": [],
   "source": [
    "class Kmeans(object):\n",
    "    \n",
    "    def __init__(self, k=1):\n",
    "        self.k = k\n",
    "        self.centroids = None\n",
    "    \n",
    "    ################################################\n",
    "    ########## Training Methods ####################\n",
    "    ################################################\n",
    "    def init_centroids(self, data):\n",
    "        \"\"\" We want to initialize k centroids. \n",
    "        \n",
    "        We do not know the range of the data. If a centroid\n",
    "        falls too far away from the data it will never be able \n",
    "        to move closer towards it associated cluster. Thus we want\n",
    "        to go through the data and identify the range of its values\n",
    "        for each dimension. \n",
    "        \n",
    "        Args:\n",
    "            - data\n",
    "        \"\"\"\n",
    "        \n",
    "        ###### CODE GOES HERE #####\n",
    "        \n",
    "        self.centroids = centroids\n",
    "    \n",
    "    def distance_to_centroids(self, data, centroids):\n",
    "        \"\"\" Distance from each datapoint to each centroid.\n",
    "        \n",
    "        We want to identify the distance from each datapoint to\n",
    "        each centroid.\n",
    "        \n",
    "        \"\"\"\n",
    "        \n",
    "        ###### CODE GOES HERE #####\n",
    "        \n",
    "        return distances\n",
    "    \n",
    "    def update_centroids(self, data, labels):\n",
    "        \"\"\" Find the update centroids\n",
    "        \n",
    "        Based on the centorid label associated for each dataset. \n",
    "        We will then find the center of all these datapoints and\n",
    "        this will be the new centorid.\n",
    "        \n",
    "        \"\"\"\n",
    "        \n",
    "        ###### CODE GOES HERE #####\n",
    "        \n",
    "        return new_centroids\n",
    "    \n",
    "    def train(self, data, verbose=1):\n",
    "        \"\"\" Train the k-means algorithm\n",
    "        \n",
    "        Train the centroids to identify the clusters.\n",
    "        \"\"\"\n",
    "        \n",
    "        shape = data.shape\n",
    "        \n",
    "        # Initialize centroids.\n",
    "        self.init_centroids(data)\n",
    "        centroids = self.centroids \n",
    "        \n",
    "        # Draw the initialize centroids.\n",
    "        if verbose == 1:\n",
    "            print('Centroids: ')\n",
    "            print(centroids)\n",
    "            plt.scatter(data[:,0], data[:,1])\n",
    "            plt.scatter(centroids[:,0], centroids[:,1], c = 'r')\n",
    "            plt.show()\n",
    "        \n",
    "        iteration = 0\n",
    "        while iteration < 100:\n",
    "            iteration += 1\n",
    "            \n",
    "            # Get the distance from each datapoint to each centroid\n",
    "            distances = self.distance_to_centroids(data, centroids)\n",
    "            # Identify the new label for each datapoint.\n",
    "            labels = np.argmin(distances, axis = 1)\n",
    "            # Get the new centroids\n",
    "            new_centroids = self.update_centroids(data, labels)\n",
    "            \n",
    "            # Flag the error\n",
    "            if new_centroids is None:\n",
    "                return 0\n",
    "            \n",
    "            # Plot the data and the new centroids\n",
    "            if verbose == 1:\n",
    "                print('-----------------------------------------------')\n",
    "                print('Iteration: ', iteration)\n",
    "                plt.scatter(data[:,0], data[:,1], c = labels)\n",
    "                plt.scatter(new_centroids[:,0], new_centroids[:,1], c = 'r')\n",
    "                plt.show()\n",
    "            \n",
    "            # Verify convergence. If the centorids\n",
    "            # are in the same place as the last then we are done.\n",
    "            if np.linalg.norm(new_centroids - centroids) < np.finfo(float).eps:\n",
    "                print(\"DONE!\")\n",
    "                break\n",
    "                \n",
    "            centroids = new_centroids\n",
    "        \n",
    "        # When we are done.\n",
    "        # We will save the centroids and labels\n",
    "        self.centroids = centroids\n",
    "        self.labels = labels\n",
    "        \n",
    "        if verbose == 1:\n",
    "            print(labels)\n",
    "            print(centroids)\n",
    "        return 1\n",
    "    \n",
    "    ################################################\n",
    "    ########## Additional Methods ##################\n",
    "    ################################################\n",
    "    def getAverageDistance(self, data):\n",
    "        dists = np.zeros((len(self.centroids),))\n",
    "        for ix, centroid in enumerate(self.centroids):\n",
    "            temp = data[self.labels == ix]\n",
    "            dist = 0\n",
    "            for i in temp:\n",
    "                dist += np.linalg.norm(i - centroid)\n",
    "            dists[ix] = dist/len(temp)\n",
    "        return dists\n",
    "    \n",
    "    def getLabels(self):\n",
    "        return self.labels"
   ]
  }
 ],
 "metadata": {
  "kernelspec": {
   "display_name": "Python 3",
   "language": "python",
   "name": "python3"
  },
  "language_info": {
   "codemirror_mode": {
    "name": "ipython",
    "version": 3
   },
   "file_extension": ".py",
   "mimetype": "text/x-python",
   "name": "python",
   "nbconvert_exporter": "python",
   "pygments_lexer": "ipython3",
   "version": "3.6.3"
  }
 },
 "nbformat": 4,
 "nbformat_minor": 2
}
