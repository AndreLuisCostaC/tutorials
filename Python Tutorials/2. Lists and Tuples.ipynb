{
 "cells": [
  {
   "cell_type": "markdown",
   "metadata": {},
   "source": [
    "# Sequences in Python"
   ]
  },
  {
   "cell_type": "markdown",
   "metadata": {},
   "source": [
    "# Lists\n",
    "\n",
    "Lists are created by using the square brackets [ ] around some grouping of variables. In Python you can have different data types in the same list. Each list element is indexed into a spot in memory which allows for this mix and match unlike in other languages. This also means that memory allocation for lists is not consistent."
   ]
  },
  {
   "cell_type": "code",
   "execution_count": 40,
   "metadata": {},
   "outputs": [
    {
     "name": "stdout",
     "output_type": "stream",
     "text": [
      "[1, 2.0, 'Hello', 'World']\n",
      "[1, 'Hello', 'World']\n"
     ]
    }
   ],
   "source": [
    "x = [1, 2.0, 'Hello', 'World']\n",
    "print(x)\n",
    "\n",
    "# Delete an element in a list\n",
    "del x[1]\n",
    "print(x)"
   ]
  },
  {
   "cell_type": "markdown",
   "metadata": {},
   "source": [
    "## Indexing\n",
    "\n",
    "Indexing in Python starts at 0. Usin indices like -1 means the last index. You can also use -2, which would be the before last index."
   ]
  },
  {
   "cell_type": "code",
   "execution_count": 39,
   "metadata": {},
   "outputs": [
    {
     "name": "stdout",
     "output_type": "stream",
     "text": [
      "1\n",
      "[1, 'Hello', 'World']\n",
      "World\n",
      "[1, 'Hello', 'World']\n"
     ]
    }
   ],
   "source": [
    "print(x[0])\n",
    "print(x[0:3])\n",
    "print(x[-1])\n",
    "print(x[:])"
   ]
  },
  {
   "cell_type": "markdown",
   "metadata": {},
   "source": [
    "## List comprehensions"
   ]
  },
  {
   "cell_type": "markdown",
   "metadata": {},
   "source": [
    "Lists are widely used in Python such very readable and convinient means for generating and manipulating lists were added to the language. However, they can seem daunting at first."
   ]
  },
  {
   "cell_type": "code",
   "execution_count": 63,
   "metadata": {},
   "outputs": [
    {
     "name": "stdout",
     "output_type": "stream",
     "text": [
      "y =  [0, 2, 4, 6, 8, 10, 12, 14, 16, 18]\n",
      "Adjacent coordinates:  [(-1, -1), (-1, 0), (-1, 1), (0, -1), (0, 1), (1, -1), (1, 0), (1, 1)]\n",
      "Greater than 5:  [6, 8, 10, 12, 14, 16, 18]\n",
      "Make negative:   [0, -2, -4, -6, -8, -10, -12, -14, -16, -18]\n",
      "Make squared :   [0, 4, 16, 36, 64, 100, 144, 196, 256, 324]\n"
     ]
    }
   ],
   "source": [
    "# Creating a list using an iteratable function\n",
    "y = [2*x for x in range(10)]\n",
    "print('y = ', y)\n",
    "\n",
    "# Genereating a list which satisfies a condition\n",
    "# This list contains the relative coordinates for all adjacent 2d points.\n",
    "adjacent_coordinates = [(x, y) for x in [-1,0,1] for y in [-1,0,1] if x != 0 or y!= 0]\n",
    "print('Adjacent coordinates: ', adjacent_coordinates)\n",
    "\n",
    "# Filtering a list to keep values larger than or equal to 5\n",
    "y = [2*x for x in range(10)]\n",
    "print('Greater than 5: ', [val for val in y if val >= 5])\n",
    "\n",
    "# Apply a function to all elements of a list\n",
    "print('Make negative:  ', [-1*val for val in y])\n",
    "print('Make squared :  ', [val**2 for val in y])"
   ]
  },
  {
   "cell_type": "markdown",
   "metadata": {},
   "source": [
    "## Making a reference to a list\n",
    "\n",
    "The variable x holds the address which points to the location in memory where the list is located. Thus if you do something like the following. Then by chnaging the information at the pointer, you will also be chnaging the information in x. Because they both point to the same location. This is what is meant by in Python lists are mutable."
   ]
  },
  {
   "cell_type": "code",
   "execution_count": 13,
   "metadata": {
    "collapsed": true
   },
   "outputs": [],
   "source": [
    "y = x\n",
    "y[1] = 'NEW STRING'"
   ]
  },
  {
   "cell_type": "code",
   "execution_count": 14,
   "metadata": {},
   "outputs": [
    {
     "name": "stdout",
     "output_type": "stream",
     "text": [
      "[1, 'NEW STRING', 'Hello', 'World']\n",
      "[1, 'NEW STRING', 'Hello', 'World']\n"
     ]
    }
   ],
   "source": [
    "print(x)\n",
    "print(y)"
   ]
  },
  {
   "cell_type": "markdown",
   "metadata": {},
   "source": [
    "# Tuples"
   ]
  },
  {
   "cell_type": "markdown",
   "metadata": {},
   "source": [
    "Tuples are very much like lists however you cannot chnage them once they are created. They are not mutable. "
   ]
  },
  {
   "cell_type": "code",
   "execution_count": 24,
   "metadata": {},
   "outputs": [
    {
     "name": "stdout",
     "output_type": "stream",
     "text": [
      "(1, 2.0, 'Hello', 'World')\n",
      "(1, 2.0, 'Hello', 'World')\n",
      "2.0\n"
     ]
    }
   ],
   "source": [
    "x = (1, 2.0, 'Hello', 'World')\n",
    "y = x\n",
    "\n",
    "print(x)\n",
    "print(y)\n",
    "\n",
    "# Referencing a tuples is the same as a list\n",
    "print(x[1])"
   ]
  },
  {
   "cell_type": "code",
   "execution_count": 9,
   "metadata": {},
   "outputs": [
    {
     "ename": "TypeError",
     "evalue": "'tuple' object does not support item assignment",
     "output_type": "error",
     "traceback": [
      "\u001b[1;31m---------------------------------------------------------------------------\u001b[0m",
      "\u001b[1;31mTypeError\u001b[0m                                 Traceback (most recent call last)",
      "\u001b[1;32m<ipython-input-9-bd40b244acdd>\u001b[0m in \u001b[0;36m<module>\u001b[1;34m()\u001b[0m\n\u001b[1;32m----> 1\u001b[1;33m \u001b[0my\u001b[0m\u001b[1;33m[\u001b[0m\u001b[1;36m1\u001b[0m\u001b[1;33m]\u001b[0m \u001b[1;33m=\u001b[0m \u001b[1;34m'NEW STRING'\u001b[0m\u001b[1;33m\u001b[0m\u001b[0m\n\u001b[0m",
      "\u001b[1;31mTypeError\u001b[0m: 'tuple' object does not support item assignment"
     ]
    }
   ],
   "source": [
    "y[1] = 'NEW STRING'"
   ]
  },
  {
   "cell_type": "markdown",
   "metadata": {
    "collapsed": true
   },
   "source": [
    "# Dictionaries"
   ]
  },
  {
   "cell_type": "markdown",
   "metadata": {},
   "source": [
    "Dictionaries are used to store information that pertains to a certain key. In essence the dictionary is indexed by a hash function. This means that through a super fast function a location in memory pertaining to the desired location can be retrieved using the key. This is a very efficient means by which to organize your data."
   ]
  },
  {
   "cell_type": "code",
   "execution_count": 3,
   "metadata": {},
   "outputs": [
    {
     "name": "stdout",
     "output_type": "stream",
     "text": [
      "{'blue': 'bleu', 'green': 'vert', 'red': 'rouge', 'black': 'noir'}\n",
      "{'blue': 'bleu', 'green': 'vert', 'red': 'rouge', 'black': 'noir'}\n"
     ]
    }
   ],
   "source": [
    "# Initialize the dictionary construct\n",
    "colors = {}\n",
    "# Add values to the dictionary\n",
    "colors.update({'blue': 'bleu'})\n",
    "colors.update({'green': 'vert'})\n",
    "colors.update({'red': 'rouge'})\n",
    "colors.update({'black': 'noir'})\n",
    "print(colors)\n",
    "\n",
    "# Or if you already know the contents of the dictionary you can initiate them directly\n",
    "colors = {'blue': 'bleu', 'green': 'vert', 'red': 'rouge', 'black': 'noir'}\n",
    "print(colors)"
   ]
  },
  {
   "cell_type": "code",
   "execution_count": 7,
   "metadata": {},
   "outputs": [
    {
     "name": "stdout",
     "output_type": "stream",
     "text": [
      "noir\n"
     ]
    }
   ],
   "source": [
    "print(colors['black'])"
   ]
  },
  {
   "cell_type": "code",
   "execution_count": 23,
   "metadata": {},
   "outputs": [
    {
     "data": {
      "text/plain": [
       "['blue', 'green', 'red', 'black']"
      ]
     },
     "execution_count": 23,
     "metadata": {},
     "output_type": "execute_result"
    }
   ],
   "source": [
    "# Get a list of all the keys in the dictionaries\n",
    "list(colors.keys())"
   ]
  },
  {
   "cell_type": "markdown",
   "metadata": {},
   "source": [
    "# Unordered sets"
   ]
  },
  {
   "cell_type": "code",
   "execution_count": 11,
   "metadata": {},
   "outputs": [],
   "source": [
    "animals_hk = {'dog', 'cat', 'pig', 'porcupine', 'monkey'}\n",
    "animals_ca = {'dog', 'cat', 'wolf', 'bear', 'squirrel'}"
   ]
  },
  {
   "cell_type": "code",
   "execution_count": 22,
   "metadata": {},
   "outputs": [
    {
     "name": "stdout",
     "output_type": "stream",
     "text": [
      "Animals which exist ...\n",
      "in either Hong Kong or Canada:          {'porcupine', 'wolf', 'squirrel', 'dog', 'pig', 'monkey', 'cat', 'bear'}\n",
      "in both Hong Kong and Canada:           {'dog', 'cat'}\n",
      "in uniquely HK:                         {'porcupine', 'pig', 'monkey'}\n",
      "in uniquely HK or uniquely in Canada:   {'porcupine', 'pig', 'monkey', 'wolf', 'squirrel', 'bear'}\n"
     ]
    }
   ],
   "source": [
    "print('Animals which exist ...')\n",
    "print('in either Hong Kong or Canada:         ', animals_hk | animals_ca)  # Union of sets\n",
    "print('in both Hong Kong and Canada:          ', animals_hk & animals_ca)  # Intersection of sets\n",
    "print('in uniquely HK:                        ', animals_hk - animals_ca)  # Difference of sets\n",
    "print('in uniquely HK or uniquely in Canada:  ', animals_hk ^ animals_ca)  # Difference of sets"
   ]
  },
  {
   "cell_type": "markdown",
   "metadata": {},
   "source": [
    "# Iterating through sequences"
   ]
  },
  {
   "cell_type": "code",
   "execution_count": 30,
   "metadata": {
    "scrolled": true
   },
   "outputs": [
    {
     "name": "stdout",
     "output_type": "stream",
     "text": [
      "Key:  blue \t Item:  bleu\n",
      "Key:  green \t Item:  vert\n",
      "Key:  red \t Item:  rouge\n",
      "Key:  black \t Item:  noir\n"
     ]
    }
   ],
   "source": [
    "colors = {'blue': 'bleu', 'green': 'vert', 'red': 'rouge', 'black': 'noir'}\n",
    "for key in colors:\n",
    "    print('Key: ', key, '\\t Item: ', colors[key]) # \\t denotes the tab character"
   ]
  },
  {
   "cell_type": "code",
   "execution_count": 33,
   "metadata": {
    "scrolled": true
   },
   "outputs": [
    {
     "name": "stdout",
     "output_type": "stream",
     "text": [
      "Index:  0 \t Item: sin\n",
      "Index:  1 \t Item: cos\n",
      "Index:  2 \t Item: tan\n"
     ]
    }
   ],
   "source": [
    "funcs = ['sin', 'cos', 'tan']\n",
    "\n",
    "for ix, item in enumerate(funcs):\n",
    "    print('Index: ', ix, '\\t Item:', item)"
   ]
  },
  {
   "cell_type": "code",
   "execution_count": 34,
   "metadata": {},
   "outputs": [
    {
     "name": "stdout",
     "output_type": "stream",
     "text": [
      "Name:  Mike \t Ages:  26\n",
      "Name:  John \t Ages:  13\n",
      "Name:  Mark \t Ages:  34\n"
     ]
    }
   ],
   "source": [
    "names = ['Mike', 'John', 'Mark']\n",
    "ages  = [26, 13, 34]\n",
    "\n",
    "for name, age in zip(names, ages):\n",
    "    print('Name: ', name, '\\t Ages: ', age)"
   ]
  },
  {
   "cell_type": "code",
   "execution_count": 35,
   "metadata": {},
   "outputs": [
    {
     "name": "stdout",
     "output_type": "stream",
     "text": [
      "Item: tan\n",
      "Item: cos\n",
      "Item: sin\n"
     ]
    }
   ],
   "source": [
    "funcs = ['sin', 'cos', 'tan']\n",
    "\n",
    "for item in reversed(funcs):\n",
    "    print('Item:', item)"
   ]
  },
  {
   "cell_type": "markdown",
   "metadata": {},
   "source": [
    "# Using lists as common data structures"
   ]
  },
  {
   "cell_type": "markdown",
   "metadata": {},
   "source": [
    "## A Stack\n",
    "\n",
    "Lists can be used as a stack. This is a last-in first-out structure to store information. You can imagine this like putting items into a long tube. To reach the first thing you put in the tube you need to take out all of the other things you put above it. This might seem silly to use, but in fact it isvery fast and memory efficient and conveniently most algorithms only need access to the current value. "
   ]
  },
  {
   "cell_type": "code",
   "execution_count": 74,
   "metadata": {},
   "outputs": [
    {
     "name": "stdout",
     "output_type": "stream",
     "text": [
      "['socks', 'shoes', 'toothbrush', 'shirt', 'pants']\n",
      "Removed from stack:  pants\n",
      "['socks', 'shoes', 'toothbrush', 'shirt']\n"
     ]
    }
   ],
   "source": [
    "# Fill up the tube\n",
    "stack = ['socks', 'shoes', 'toothbrush']\n",
    "# Add more things to our stack\n",
    "stack.append('shirt')\n",
    "stack.append('pants')\n",
    "print(stack)\n",
    "# Pull out from our stack.\n",
    "print('Removed from stack: ', stack.pop())\n",
    "print(stack)"
   ]
  },
  {
   "cell_type": "markdown",
   "metadata": {},
   "source": [
    "## A Queue\n",
    "\n",
    "Similar to a stack however, it is like a queue at the store. You can join the line from the back and then you can leave from the front. This a first-in first-out data structure."
   ]
  },
  {
   "cell_type": "code",
   "execution_count": 82,
   "metadata": {},
   "outputs": [
    {
     "name": "stdout",
     "output_type": "stream",
     "text": [
      "Current queue:          deque(['Eric', 'John', 'Michael', 'Terry'])\n",
      "This person is served:  Eric\n",
      "Current queue:          deque(['John', 'Michael', 'Terry'])\n"
     ]
    }
   ],
   "source": [
    "from collections import deque\n",
    "queue = deque([\"Eric\", \"John\", \"Michael\"])\n",
    "queue.append(\"Terry\")  \n",
    "print('Current queue:         ', queue)\n",
    "print('This person is served: ', queue.popleft())\n",
    "print('Current queue:         ', queue)"
   ]
  },
  {
   "cell_type": "code",
   "execution_count": null,
   "metadata": {},
   "outputs": [],
   "source": []
  }
 ],
 "metadata": {
  "kernelspec": {
   "display_name": "Python 3",
   "language": "python",
   "name": "python3"
  },
  "language_info": {
   "codemirror_mode": {
    "name": "ipython",
    "version": 3
   },
   "file_extension": ".py",
   "mimetype": "text/x-python",
   "name": "python",
   "nbconvert_exporter": "python",
   "pygments_lexer": "ipython3",
   "version": "3.6.3"
  }
 },
 "nbformat": 4,
 "nbformat_minor": 2
}
