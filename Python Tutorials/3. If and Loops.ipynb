{
 "cells": [
  {
   "cell_type": "markdown",
   "metadata": {},
   "source": [
    "# Conditional statements IF\n",
    "\n",
    "These are used to make decision as to how the program should progress based on some logical statement. \n",
    "\n",
    "The general syntax should look like the following code snippet. You can omit the elif and else if they are not necessary. You can have as many elif as you please, but you can only have one else. "
   ]
  },
  {
   "cell_type": "code",
   "execution_count": 3,
   "metadata": {},
   "outputs": [
    {
     "name": "stdout",
     "output_type": "stream",
     "text": [
      "3\n"
     ]
    }
   ],
   "source": [
    "x = 4\n",
    "\n",
    "if x < 2: \n",
    "    x += 1\n",
    "elif x == 3:\n",
    "    x = x\n",
    "else:\n",
    "    x-=1\n",
    "    \n",
    "print(x)"
   ]
  },
  {
   "cell_type": "markdown",
   "metadata": {},
   "source": [
    "# While loop"
   ]
  },
  {
   "cell_type": "markdown",
   "metadata": {},
   "source": [
    "A while loop is used to repeat the same operations until a condition is no longer met.\n",
    "\n",
    "BE CAREFUL: If the condition is always met your code will never stop execution, this is called an infinite loop. You will need to terminate your shell in this case."
   ]
  },
  {
   "cell_type": "code",
   "execution_count": 6,
   "metadata": {},
   "outputs": [
    {
     "name": "stdout",
     "output_type": "stream",
     "text": [
      "current total = 1\n",
      "current total = 3\n",
      "current total = 6\n",
      "current total = 10\n",
      "current total = 15\n",
      "15\n"
     ]
    }
   ],
   "source": [
    "# Add up the first numbers less than or equal to n\n",
    "\n",
    "n = 5\n",
    "ix = 1\n",
    "total_sum = 0\n",
    "while(ix <= n):\n",
    "    total_sum += ix\n",
    "    # This is super important, without it we would have an infinite loop\n",
    "    # remove it and see what happens (if you do, click Kernel in the header above, and press Restart)\n",
    "    ix += 1\n",
    "    print('current total = ' + str(total_sum))\n",
    "    \n",
    "print(total_sum)"
   ]
  },
  {
   "cell_type": "markdown",
   "metadata": {},
   "source": [
    "# For loop\n",
    "\n",
    "A for loop is used when you want to do the same operations a known number of times or if you want to go through a specific ordering of elements (list, tuple, dictionary, etc.). \n",
    "\n",
    "For example if you want to print the first 5 numbers you can do the following. "
   ]
  },
  {
   "cell_type": "code",
   "execution_count": null,
   "metadata": {},
   "outputs": [],
   "source": [
    "numbers = [1, 2, 3, 4, 5]\n",
    "\n",
    "for i in numbers:\n",
    "    print(i)"
   ]
  },
  {
   "cell_type": "markdown",
   "metadata": {},
   "source": [
    "You can also create the range, (start_value, end_value, increment)"
   ]
  },
  {
   "cell_type": "code",
   "execution_count": 2,
   "metadata": {},
   "outputs": [
    {
     "name": "stdout",
     "output_type": "stream",
     "text": [
      "1\n",
      "2\n",
      "3\n",
      "4\n",
      "5\n"
     ]
    }
   ],
   "source": [
    "for i in range(1, 6):\n",
    "    print(i)"
   ]
  },
  {
   "cell_type": "markdown",
   "metadata": {},
   "source": [
    "# Break, continue and else"
   ]
  },
  {
   "cell_type": "markdown",
   "metadata": {},
   "source": [
    "It is often good to **break** away from a for loop early if a specific condition that may or may not occur is reached. For example, you may want to break a loop once the answer to a problem is solved in an optimization problem or in arithmetics. "
   ]
  },
  {
   "cell_type": "code",
   "execution_count": 51,
   "metadata": {},
   "outputs": [
    {
     "name": "stdout",
     "output_type": "stream",
     "text": [
      "Found prime 97\n"
     ]
    }
   ],
   "source": [
    "import math \n",
    "\n",
    "# Find the largest prime smaller than max_val\n",
    "max_val = 100\n",
    "for i in reversed(range(1, max_val)):\n",
    "    if all([i%a!=0 for a in range(2, i)]):\n",
    "        print('Found prime', i)\n",
    "        # We can stop searching once we found our answer\n",
    "        break\n",
    "else:\n",
    "    print('No primes found smaller than specified value', max_val)\n",
    "        "
   ]
  },
  {
   "cell_type": "markdown",
   "metadata": {},
   "source": [
    "The **continue** clause can be used to go on to the next iteration. This is useful when you do not want certain operations to occur given a condition is met."
   ]
  },
  {
   "cell_type": "code",
   "execution_count": 56,
   "metadata": {},
   "outputs": [
    {
     "name": "stdout",
     "output_type": "stream",
     "text": [
      "[-1, 4, 2, 5, 6, -4, -5]\n",
      "[-1, -4, -2, -5, -6, -4, -5]\n"
     ]
    }
   ],
   "source": [
    "# Make a list all negative\n",
    "x = [-1, 4, 2, 5, 6, -4, -5]\n",
    "print(x)\n",
    "for ix, i in enumerate(x):\n",
    "    if i < 0: continue\n",
    "    x[ix] = -1*i\n",
    "print(x)"
   ]
  },
  {
   "cell_type": "markdown",
   "metadata": {},
   "source": [
    "The **else** clause in for loops can be used to perform an operation when a certain condition is met. "
   ]
  },
  {
   "cell_type": "code",
   "execution_count": 60,
   "metadata": {
    "scrolled": true
   },
   "outputs": [
    {
     "name": "stdout",
     "output_type": "stream",
     "text": [
      "2 not found :(\n"
     ]
    }
   ],
   "source": [
    "# Find the number 2 in a list\n",
    "x = [-1, 4, 5, 6, -4, -5]\n",
    "for i in x:\n",
    "    if i == 2:\n",
    "        print('Found 2!')\n",
    "        break\n",
    "else:\n",
    "    print('2 not found :(')"
   ]
  },
  {
   "cell_type": "markdown",
   "metadata": {},
   "source": [
    "# The pass statement"
   ]
  },
  {
   "cell_type": "markdown",
   "metadata": {},
   "source": [
    "If you are too lazy to finish code just write **pass**. Python will skip over it."
   ]
  },
  {
   "cell_type": "code",
   "execution_count": 66,
   "metadata": {},
   "outputs": [
    {
     "name": "stdout",
     "output_type": "stream",
     "text": [
      "7  >= 5\n"
     ]
    }
   ],
   "source": [
    "x = 7\n",
    "if x<5:\n",
    "    pass\n",
    "else: print(x,' >= 5')"
   ]
  },
  {
   "cell_type": "code",
   "execution_count": null,
   "metadata": {},
   "outputs": [],
   "source": []
  }
 ],
 "metadata": {
  "kernelspec": {
   "display_name": "Python 3",
   "language": "python",
   "name": "python3"
  },
  "language_info": {
   "codemirror_mode": {
    "name": "ipython",
    "version": 3
   },
   "file_extension": ".py",
   "mimetype": "text/x-python",
   "name": "python",
   "nbconvert_exporter": "python",
   "pygments_lexer": "ipython3",
   "version": "3.6.3"
  }
 },
 "nbformat": 4,
 "nbformat_minor": 2
}
