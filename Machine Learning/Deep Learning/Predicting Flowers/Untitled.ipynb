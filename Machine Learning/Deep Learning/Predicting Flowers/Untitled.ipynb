{
 "cells": [
  {
   "cell_type": "code",
   "execution_count": 1,
   "metadata": {
    "collapsed": true
   },
   "outputs": [],
   "source": [
    "import pandas as pd"
   ]
  },
  {
   "cell_type": "code",
   "execution_count": 17,
   "metadata": {},
   "outputs": [
    {
     "data": {
      "text/html": [
       "<div>\n",
       "<style>\n",
       "    .dataframe thead tr:only-child th {\n",
       "        text-align: right;\n",
       "    }\n",
       "\n",
       "    .dataframe thead th {\n",
       "        text-align: left;\n",
       "    }\n",
       "\n",
       "    .dataframe tbody tr th {\n",
       "        vertical-align: top;\n",
       "    }\n",
       "</style>\n",
       "<table border=\"1\" class=\"dataframe\">\n",
       "  <thead>\n",
       "    <tr style=\"text-align: right;\">\n",
       "      <th></th>\n",
       "      <th>sepal_length</th>\n",
       "      <th>sepal_width</th>\n",
       "      <th>petal_length</th>\n",
       "      <th>petal_width</th>\n",
       "      <th>species</th>\n",
       "    </tr>\n",
       "  </thead>\n",
       "  <tbody>\n",
       "    <tr>\n",
       "      <th>0</th>\n",
       "      <td>5.1</td>\n",
       "      <td>3.5</td>\n",
       "      <td>1.4</td>\n",
       "      <td>0.2</td>\n",
       "      <td>Iris-setosa</td>\n",
       "    </tr>\n",
       "    <tr>\n",
       "      <th>1</th>\n",
       "      <td>4.9</td>\n",
       "      <td>3.0</td>\n",
       "      <td>1.4</td>\n",
       "      <td>0.2</td>\n",
       "      <td>Iris-setosa</td>\n",
       "    </tr>\n",
       "    <tr>\n",
       "      <th>2</th>\n",
       "      <td>4.7</td>\n",
       "      <td>3.2</td>\n",
       "      <td>1.3</td>\n",
       "      <td>0.2</td>\n",
       "      <td>Iris-setosa</td>\n",
       "    </tr>\n",
       "    <tr>\n",
       "      <th>3</th>\n",
       "      <td>4.6</td>\n",
       "      <td>3.1</td>\n",
       "      <td>1.5</td>\n",
       "      <td>0.2</td>\n",
       "      <td>Iris-setosa</td>\n",
       "    </tr>\n",
       "    <tr>\n",
       "      <th>4</th>\n",
       "      <td>5.0</td>\n",
       "      <td>3.6</td>\n",
       "      <td>1.4</td>\n",
       "      <td>0.2</td>\n",
       "      <td>Iris-setosa</td>\n",
       "    </tr>\n",
       "  </tbody>\n",
       "</table>\n",
       "</div>"
      ],
      "text/plain": [
       "   sepal_length  sepal_width  petal_length  petal_width      species\n",
       "0           5.1          3.5           1.4          0.2  Iris-setosa\n",
       "1           4.9          3.0           1.4          0.2  Iris-setosa\n",
       "2           4.7          3.2           1.3          0.2  Iris-setosa\n",
       "3           4.6          3.1           1.5          0.2  Iris-setosa\n",
       "4           5.0          3.6           1.4          0.2  Iris-setosa"
      ]
     },
     "execution_count": 17,
     "metadata": {},
     "output_type": "execute_result"
    }
   ],
   "source": [
    "df = pd.read_csv('iris.csv', header=None, names=['sepal_length', 'sepal_width', 'petal_length', 'petal_width', 'species'])\n",
    "df.head()"
   ]
  },
  {
   "cell_type": "code",
   "execution_count": 18,
   "metadata": {},
   "outputs": [],
   "source": [
    "df['labels'] =df['species'].astype('category').cat.codes"
   ]
  },
  {
   "cell_type": "code",
   "execution_count": 19,
   "metadata": {},
   "outputs": [
    {
     "data": {
      "text/html": [
       "<div>\n",
       "<style>\n",
       "    .dataframe thead tr:only-child th {\n",
       "        text-align: right;\n",
       "    }\n",
       "\n",
       "    .dataframe thead th {\n",
       "        text-align: left;\n",
       "    }\n",
       "\n",
       "    .dataframe tbody tr th {\n",
       "        vertical-align: top;\n",
       "    }\n",
       "</style>\n",
       "<table border=\"1\" class=\"dataframe\">\n",
       "  <thead>\n",
       "    <tr style=\"text-align: right;\">\n",
       "      <th></th>\n",
       "      <th>sepal_length</th>\n",
       "      <th>sepal_width</th>\n",
       "      <th>petal_length</th>\n",
       "      <th>petal_width</th>\n",
       "      <th>species</th>\n",
       "      <th>labels</th>\n",
       "    </tr>\n",
       "  </thead>\n",
       "  <tbody>\n",
       "    <tr>\n",
       "      <th>0</th>\n",
       "      <td>5.1</td>\n",
       "      <td>3.5</td>\n",
       "      <td>1.4</td>\n",
       "      <td>0.2</td>\n",
       "      <td>Iris-setosa</td>\n",
       "      <td>0</td>\n",
       "    </tr>\n",
       "    <tr>\n",
       "      <th>1</th>\n",
       "      <td>4.9</td>\n",
       "      <td>3.0</td>\n",
       "      <td>1.4</td>\n",
       "      <td>0.2</td>\n",
       "      <td>Iris-setosa</td>\n",
       "      <td>0</td>\n",
       "    </tr>\n",
       "    <tr>\n",
       "      <th>2</th>\n",
       "      <td>4.7</td>\n",
       "      <td>3.2</td>\n",
       "      <td>1.3</td>\n",
       "      <td>0.2</td>\n",
       "      <td>Iris-setosa</td>\n",
       "      <td>0</td>\n",
       "    </tr>\n",
       "    <tr>\n",
       "      <th>3</th>\n",
       "      <td>4.6</td>\n",
       "      <td>3.1</td>\n",
       "      <td>1.5</td>\n",
       "      <td>0.2</td>\n",
       "      <td>Iris-setosa</td>\n",
       "      <td>0</td>\n",
       "    </tr>\n",
       "    <tr>\n",
       "      <th>4</th>\n",
       "      <td>5.0</td>\n",
       "      <td>3.6</td>\n",
       "      <td>1.4</td>\n",
       "      <td>0.2</td>\n",
       "      <td>Iris-setosa</td>\n",
       "      <td>0</td>\n",
       "    </tr>\n",
       "  </tbody>\n",
       "</table>\n",
       "</div>"
      ],
      "text/plain": [
       "   sepal_length  sepal_width  petal_length  petal_width      species  labels\n",
       "0           5.1          3.5           1.4          0.2  Iris-setosa       0\n",
       "1           4.9          3.0           1.4          0.2  Iris-setosa       0\n",
       "2           4.7          3.2           1.3          0.2  Iris-setosa       0\n",
       "3           4.6          3.1           1.5          0.2  Iris-setosa       0\n",
       "4           5.0          3.6           1.4          0.2  Iris-setosa       0"
      ]
     },
     "execution_count": 19,
     "metadata": {},
     "output_type": "execute_result"
    }
   ],
   "source": [
    "df.head()"
   ]
  },
  {
   "cell_type": "code",
   "execution_count": 70,
   "metadata": {},
   "outputs": [
    {
     "name": "stdout",
     "output_type": "stream",
     "text": [
      "(150, 4)\n"
     ]
    }
   ],
   "source": [
    "X = df[['sepal_length', 'sepal_width', 'petal_length', 'petal_width']]\n",
    "Y = df['labels']\n",
    "\n",
    "print(X.shape)"
   ]
  },
  {
   "cell_type": "code",
   "execution_count": 80,
   "metadata": {},
   "outputs": [],
   "source": [
    "from sklearn.model_selection import train_test_split\n",
    "\n",
    "\n",
    "x_train, x_test, y_train, y_test = train_test_split(np.asarray(X), np.asarray(Y), test_size=0.33, shuffle= True)"
   ]
  },
  {
   "cell_type": "code",
   "execution_count": 81,
   "metadata": {},
   "outputs": [
    {
     "data": {
      "image/png": "[encoded data removed]",
      "text/plain": [
       "<matplotlib.figure.Figure at 0x2c7a5b9bdd8>"
      ]
     },
     "metadata": {},
     "output_type": "display_data"
    }
   ],
   "source": [
    "import matplotlib.pyplot as plt\n",
    "import numpy as np\n",
    "%matplotlib inline\n",
    "\n",
    "n_classes = 3\n",
    "\n",
    "training_counts = [None] * n_classes \n",
    "testing_counts = [None] * n_classes\n",
    "for i in range(n_classes):\n",
    "    training_counts[i] = len(y_train[y_train == i])/len(y_train)\n",
    "    testing_counts[i] = len(y_test[y_test == i])/len(y_test)\n",
    "\n",
    "# the histogram of the data\n",
    "train_bar = plt.bar(np.arange(n_classes)-0.2, training_counts, align='center', color = 'r', alpha=0.75, width = 0.41, label='Training')\n",
    "test_bar = plt.bar(np.arange(n_classes)+0.2, testing_counts, align='center', color = 'b', alpha=0.75, width = 0.41, label = 'Testing')\n",
    "\n",
    "plt.xlabel('Labels')\n",
    "plt.xticks((0,1,2))\n",
    "plt.ylabel('Count (%)')\n",
    "plt.title('Label distribution in the training and test set')\n",
    "plt.legend(bbox_to_anchor=(1.05, 1), handles=[train_bar, test_bar], loc=2)\n",
    "plt.grid(True)\n",
    "plt.show()"
   ]
  },
  {
   "cell_type": "code",
   "execution_count": 82,
   "metadata": {},
   "outputs": [
    {
     "name": "stdout",
     "output_type": "stream",
     "text": [
      "(100, 4, 1)\n"
     ]
    }
   ],
   "source": [
    "import keras\n",
    "\n",
    "# The known number of output classes.\n",
    "num_classes = 3\n",
    "\n",
    "# Input image dimensions\n",
    "input_shape = (4,)\n",
    "\n",
    "# Convert class vectors to binary class matrices. This uses 1 hot encoding.\n",
    "y_train_binary = keras.utils.to_categorical(y_train, num_classes)\n",
    "y_test_binary = keras.utils.to_categorical(y_test, num_classes)\n",
    "\n",
    "x_train = x_train.reshape(100, 4,1)\n",
    "x_test = x_test.reshape(50, 4,1)\n",
    "\n",
    "print(x_train.shape)"
   ]
  },
  {
   "cell_type": "code",
   "execution_count": 85,
   "metadata": {},
   "outputs": [
    {
     "name": "stdout",
     "output_type": "stream",
     "text": [
      "_________________________________________________________________\n",
      "Layer (type)                 Output Shape              Param #   \n",
      "=================================================================\n",
      "conv1d_21 (Conv1D)           (None, 2, 32)             128       \n",
      "_________________________________________________________________\n",
      "flatten_7 (Flatten)          (None, 64)                0         \n",
      "_________________________________________________________________\n",
      "dense_24 (Dense)             (None, 64)                4160      \n",
      "_________________________________________________________________\n",
      "dense_25 (Dense)             (None, 3)                 195       \n",
      "=================================================================\n",
      "Total params: 4,483\n",
      "Trainable params: 4,483\n",
      "Non-trainable params: 0\n",
      "_________________________________________________________________\n"
     ]
    }
   ],
   "source": [
    "from keras.models import Sequential\n",
    "from keras.layers import Dense,Flatten,Convolution2D,MaxPool2D\n",
    "from __future__ import print_function\n",
    "import keras\n",
    "from keras.datasets import mnist\n",
    "from keras.models import Sequential\n",
    "from keras.layers import Dense, Dropout, Flatten\n",
    "from keras.layers import Conv1D, MaxPooling2D\n",
    "from keras.callbacks import ModelCheckpoint\n",
    "from keras.models import model_from_json\n",
    "from keras import backend as K\n",
    "\n",
    "model = Sequential()\n",
    "model.add(Conv1D(32, (3), input_shape=(4,1), activation='relu'))\n",
    "model.add(Flatten())\n",
    "model.add(Dense(64, activation='relu'))\n",
    "model.add(Dense(num_classes, activation='softmax'))\n",
    "\n",
    "model.compile(loss=keras.losses.categorical_crossentropy,\n",
    "              optimizer=keras.optimizers.Adadelta(),\n",
    "              metrics=['accuracy'])\n",
    "\n",
    "model.summary()"
   ]
  },
  {
   "cell_type": "code",
   "execution_count": 84,
   "metadata": {},
   "outputs": [
    {
     "name": "stdout",
     "output_type": "stream",
     "text": [
      "Train on 100 samples, validate on 50 samples\n",
      "Epoch 1/100\n",
      "100/100 [==============================] - 1s 6ms/step - loss: 1.1557 - acc: 0.3300 - val_loss: 1.1241 - val_acc: 0.3400\n",
      "Epoch 2/100\n",
      "100/100 [==============================] - 0s 57us/step - loss: 1.1381 - acc: 0.3300 - val_loss: 1.1095 - val_acc: 0.3400\n",
      "Epoch 3/100\n",
      "100/100 [==============================] - 0s 30us/step - loss: 1.1203 - acc: 0.3300 - val_loss: 1.0953 - val_acc: 0.3400\n",
      "Epoch 4/100\n",
      "100/100 [==============================] - 0s 40us/step - loss: 1.1033 - acc: 0.3300 - val_loss: 1.0816 - val_acc: 0.3400\n",
      "Epoch 5/100\n",
      "100/100 [==============================] - 0s 40us/step - loss: 1.0868 - acc: 0.3300 - val_loss: 1.0683 - val_acc: 0.3400\n",
      "Epoch 6/100\n",
      "100/100 [==============================] - 0s 40us/step - loss: 1.0709 - acc: 0.3300 - val_loss: 1.0552 - val_acc: 0.3400\n",
      "Epoch 7/100\n",
      "100/100 [==============================] - 0s 40us/step - loss: 1.0556 - acc: 0.3300 - val_loss: 1.0422 - val_acc: 0.3800\n",
      "Epoch 8/100\n",
      "100/100 [==============================] - 0s 40us/step - loss: 1.0403 - acc: 0.3900 - val_loss: 1.0291 - val_acc: 0.4600\n",
      "Epoch 9/100\n",
      "100/100 [==============================] - 0s 40us/step - loss: 1.0250 - acc: 0.6200 - val_loss: 1.0163 - val_acc: 0.6200\n",
      "Epoch 10/100\n",
      "100/100 [==============================] - 0s 40us/step - loss: 1.0098 - acc: 0.6800 - val_loss: 1.0033 - val_acc: 0.6200\n",
      "Epoch 11/100\n",
      "100/100 [==============================] - 0s 40us/step - loss: 0.9948 - acc: 0.6800 - val_loss: 0.9909 - val_acc: 0.6200\n",
      "Epoch 12/100\n",
      "100/100 [==============================] - 0s 30us/step - loss: 0.9801 - acc: 0.6900 - val_loss: 0.9783 - val_acc: 0.6200\n",
      "Epoch 13/100\n",
      "100/100 [==============================] - 0s 40us/step - loss: 0.9656 - acc: 0.6900 - val_loss: 0.9662 - val_acc: 0.6200\n",
      "Epoch 14/100\n",
      "100/100 [==============================] - 0s 30us/step - loss: 0.9514 - acc: 0.6900 - val_loss: 0.9540 - val_acc: 0.6200\n",
      "Epoch 15/100\n",
      "100/100 [==============================] - 0s 40us/step - loss: 0.9374 - acc: 0.6900 - val_loss: 0.9420 - val_acc: 0.6200\n",
      "Epoch 16/100\n",
      "100/100 [==============================] - 0s 30us/step - loss: 0.9231 - acc: 0.6900 - val_loss: 0.9306 - val_acc: 0.6200\n",
      "Epoch 17/100\n",
      "100/100 [==============================] - 0s 40us/step - loss: 0.9099 - acc: 0.6900 - val_loss: 0.9195 - val_acc: 0.6200\n",
      "Epoch 18/100\n",
      "100/100 [==============================] - 0s 40us/step - loss: 0.8971 - acc: 0.6900 - val_loss: 0.9090 - val_acc: 0.6200\n",
      "Epoch 19/100\n",
      "100/100 [==============================] - 0s 40us/step - loss: 0.8849 - acc: 0.6900 - val_loss: 0.8996 - val_acc: 0.6200\n",
      "Epoch 20/100\n",
      "100/100 [==============================] - 0s 30us/step - loss: 0.8741 - acc: 0.6900 - val_loss: 0.8906 - val_acc: 0.6200\n",
      "Epoch 21/100\n",
      "100/100 [==============================] - 0s 40us/step - loss: 0.8638 - acc: 0.6900 - val_loss: 0.8818 - val_acc: 0.6200\n",
      "Epoch 22/100\n",
      "100/100 [==============================] - 0s 40us/step - loss: 0.8537 - acc: 0.6900 - val_loss: 0.8732 - val_acc: 0.6200\n",
      "Epoch 23/100\n",
      "100/100 [==============================] - 0s 40us/step - loss: 0.8437 - acc: 0.6900 - val_loss: 0.8646 - val_acc: 0.6200\n",
      "Epoch 24/100\n",
      "100/100 [==============================] - 0s 30us/step - loss: 0.8339 - acc: 0.6900 - val_loss: 0.8561 - val_acc: 0.6200\n",
      "Epoch 25/100\n",
      "100/100 [==============================] - 0s 30us/step - loss: 0.8241 - acc: 0.6900 - val_loss: 0.8477 - val_acc: 0.6200\n",
      "Epoch 26/100\n",
      "100/100 [==============================] - 0s 30us/step - loss: 0.8145 - acc: 0.6900 - val_loss: 0.8394 - val_acc: 0.6200\n",
      "Epoch 27/100\n",
      "100/100 [==============================] - 0s 30us/step - loss: 0.8050 - acc: 0.6900 - val_loss: 0.8312 - val_acc: 0.6200\n",
      "Epoch 28/100\n",
      "100/100 [==============================] - 0s 30us/step - loss: 0.7957 - acc: 0.6900 - val_loss: 0.8232 - val_acc: 0.6200\n",
      "Epoch 29/100\n",
      "100/100 [==============================] - 0s 40us/step - loss: 0.7864 - acc: 0.6900 - val_loss: 0.8151 - val_acc: 0.6200\n",
      "Epoch 30/100\n",
      "100/100 [==============================] - 0s 30us/step - loss: 0.7772 - acc: 0.6900 - val_loss: 0.8073 - val_acc: 0.6200\n",
      "Epoch 31/100\n",
      "100/100 [==============================] - 0s 30us/step - loss: 0.7682 - acc: 0.6900 - val_loss: 0.7993 - val_acc: 0.6200\n",
      "Epoch 32/100\n",
      "100/100 [==============================] - 0s 40us/step - loss: 0.7592 - acc: 0.6900 - val_loss: 0.7915 - val_acc: 0.6200\n",
      "Epoch 33/100\n",
      "100/100 [==============================] - 0s 30us/step - loss: 0.7504 - acc: 0.6900 - val_loss: 0.7838 - val_acc: 0.6200\n",
      "Epoch 34/100\n",
      "100/100 [==============================] - 0s 30us/step - loss: 0.7417 - acc: 0.6900 - val_loss: 0.7762 - val_acc: 0.6200\n",
      "Epoch 35/100\n",
      "100/100 [==============================] - 0s 30us/step - loss: 0.7331 - acc: 0.6900 - val_loss: 0.7685 - val_acc: 0.6200\n",
      "Epoch 36/100\n",
      "100/100 [==============================] - 0s 40us/step - loss: 0.7245 - acc: 0.6900 - val_loss: 0.7610 - val_acc: 0.6200\n",
      "Epoch 37/100\n",
      "100/100 [==============================] - 0s 40us/step - loss: 0.7161 - acc: 0.6900 - val_loss: 0.7536 - val_acc: 0.6400\n",
      "Epoch 38/100\n",
      "100/100 [==============================] - 0s 40us/step - loss: 0.7078 - acc: 0.6900 - val_loss: 0.7462 - val_acc: 0.6400\n",
      "Epoch 39/100\n",
      "100/100 [==============================] - 0s 40us/step - loss: 0.6995 - acc: 0.6900 - val_loss: 0.7391 - val_acc: 0.6400\n",
      "Epoch 40/100\n",
      "100/100 [==============================] - 0s 30us/step - loss: 0.6914 - acc: 0.7000 - val_loss: 0.7315 - val_acc: 0.6400\n",
      "Epoch 41/100\n",
      "100/100 [==============================] - 0s 30us/step - loss: 0.6833 - acc: 0.7000 - val_loss: 0.7242 - val_acc: 0.6400\n",
      "Epoch 42/100\n",
      "100/100 [==============================] - 0s 30us/step - loss: 0.6750 - acc: 0.7100 - val_loss: 0.7158 - val_acc: 0.6400\n",
      "Epoch 43/100\n",
      "100/100 [==============================] - 0s 40us/step - loss: 0.6659 - acc: 0.7100 - val_loss: 0.7072 - val_acc: 0.6600\n",
      "Epoch 44/100\n",
      "100/100 [==============================] - 0s 40us/step - loss: 0.6570 - acc: 0.7100 - val_loss: 0.6993 - val_acc: 0.6600\n",
      "Epoch 45/100\n",
      "100/100 [==============================] - 0s 40us/step - loss: 0.6486 - acc: 0.7200 - val_loss: 0.6920 - val_acc: 0.6600\n",
      "Epoch 46/100\n",
      "100/100 [==============================] - 0s 40us/step - loss: 0.6409 - acc: 0.7500 - val_loss: 0.6854 - val_acc: 0.6600\n",
      "Epoch 47/100\n",
      "100/100 [==============================] - 0s 40us/step - loss: 0.6334 - acc: 0.7500 - val_loss: 0.6784 - val_acc: 0.6800\n",
      "Epoch 48/100\n",
      "100/100 [==============================] - 0s 40us/step - loss: 0.6260 - acc: 0.7700 - val_loss: 0.6720 - val_acc: 0.7000\n",
      "Epoch 49/100\n",
      "100/100 [==============================] - 0s 50us/step - loss: 0.6187 - acc: 0.7700 - val_loss: 0.6654 - val_acc: 0.7200\n",
      "Epoch 50/100\n",
      "100/100 [==============================] - 0s 40us/step - loss: 0.6115 - acc: 0.7800 - val_loss: 0.6590 - val_acc: 0.7200\n",
      "Epoch 51/100\n",
      "100/100 [==============================] - 0s 40us/step - loss: 0.6044 - acc: 0.7900 - val_loss: 0.6526 - val_acc: 0.7400\n",
      "Epoch 52/100\n",
      "100/100 [==============================] - 0s 40us/step - loss: 0.5975 - acc: 0.8200 - val_loss: 0.6466 - val_acc: 0.7400\n",
      "Epoch 53/100\n",
      "100/100 [==============================] - 0s 50us/step - loss: 0.5908 - acc: 0.8200 - val_loss: 0.6405 - val_acc: 0.7800\n",
      "Epoch 54/100\n",
      "100/100 [==============================] - 0s 40us/step - loss: 0.5841 - acc: 0.8200 - val_loss: 0.6346 - val_acc: 0.8200\n",
      "Epoch 55/100\n",
      "100/100 [==============================] - 0s 40us/step - loss: 0.5776 - acc: 0.8200 - val_loss: 0.6287 - val_acc: 0.8200\n",
      "Epoch 56/100\n",
      "100/100 [==============================] - 0s 30us/step - loss: 0.5712 - acc: 0.8200 - val_loss: 0.6230 - val_acc: 0.8400\n",
      "Epoch 57/100\n",
      "100/100 [==============================] - 0s 40us/step - loss: 0.5649 - acc: 0.8400 - val_loss: 0.6175 - val_acc: 0.8400\n",
      "Epoch 58/100\n",
      "100/100 [==============================] - 0s 50us/step - loss: 0.5587 - acc: 0.8300 - val_loss: 0.6117 - val_acc: 0.8400\n",
      "Epoch 59/100\n",
      "100/100 [==============================] - 0s 50us/step - loss: 0.5527 - acc: 0.8500 - val_loss: 0.6066 - val_acc: 0.8400\n",
      "Epoch 60/100\n",
      "100/100 [==============================] - 0s 40us/step - loss: 0.5467 - acc: 0.8400 - val_loss: 0.6010 - val_acc: 0.8400\n",
      "Epoch 61/100\n",
      "100/100 [==============================] - 0s 40us/step - loss: 0.5409 - acc: 0.8500 - val_loss: 0.5960 - val_acc: 0.8400\n"
     ]
    },
    {
     "name": "stdout",
     "output_type": "stream",
     "text": [
      "Epoch 62/100\n",
      "100/100 [==============================] - 0s 30us/step - loss: 0.5351 - acc: 0.8500 - val_loss: 0.5905 - val_acc: 0.8400\n",
      "Epoch 63/100\n",
      "100/100 [==============================] - 0s 40us/step - loss: 0.5294 - acc: 0.8800 - val_loss: 0.5857 - val_acc: 0.8400\n",
      "Epoch 64/100\n",
      "100/100 [==============================] - 0s 30us/step - loss: 0.5238 - acc: 0.8700 - val_loss: 0.5804 - val_acc: 0.8600\n",
      "Epoch 65/100\n",
      "100/100 [==============================] - 0s 40us/step - loss: 0.5183 - acc: 0.8800 - val_loss: 0.5758 - val_acc: 0.8400\n",
      "Epoch 66/100\n",
      "100/100 [==============================] - 0s 30us/step - loss: 0.5129 - acc: 0.8800 - val_loss: 0.5706 - val_acc: 0.8600\n",
      "Epoch 67/100\n",
      "100/100 [==============================] - 0s 30us/step - loss: 0.5075 - acc: 0.8800 - val_loss: 0.5660 - val_acc: 0.8600\n",
      "Epoch 68/100\n",
      "100/100 [==============================] - 0s 40us/step - loss: 0.5022 - acc: 0.8800 - val_loss: 0.5610 - val_acc: 0.8600\n",
      "Epoch 69/100\n",
      "100/100 [==============================] - 0s 40us/step - loss: 0.4970 - acc: 0.9100 - val_loss: 0.5564 - val_acc: 0.8600\n",
      "Epoch 70/100\n",
      "100/100 [==============================] - 0s 40us/step - loss: 0.4919 - acc: 0.9100 - val_loss: 0.5516 - val_acc: 0.8600\n",
      "Epoch 71/100\n",
      "100/100 [==============================] - 0s 40us/step - loss: 0.4868 - acc: 0.9200 - val_loss: 0.5471 - val_acc: 0.8600\n",
      "Epoch 72/100\n",
      "100/100 [==============================] - 0s 30us/step - loss: 0.4818 - acc: 0.9200 - val_loss: 0.5425 - val_acc: 0.8800\n",
      "Epoch 73/100\n",
      "100/100 [==============================] - 0s 30us/step - loss: 0.4769 - acc: 0.9200 - val_loss: 0.5380 - val_acc: 0.8800\n",
      "Epoch 74/100\n",
      "100/100 [==============================] - 0s 40us/step - loss: 0.4720 - acc: 0.9200 - val_loss: 0.5335 - val_acc: 0.8800\n",
      "Epoch 75/100\n",
      "100/100 [==============================] - 0s 30us/step - loss: 0.4672 - acc: 0.9300 - val_loss: 0.5291 - val_acc: 0.8800\n",
      "Epoch 76/100\n",
      "100/100 [==============================] - 0s 40us/step - loss: 0.4624 - acc: 0.9300 - val_loss: 0.5248 - val_acc: 0.8800\n",
      "Epoch 77/100\n",
      "100/100 [==============================] - 0s 40us/step - loss: 0.4576 - acc: 0.9300 - val_loss: 0.5204 - val_acc: 0.8800\n",
      "Epoch 78/100\n",
      "100/100 [==============================] - 0s 30us/step - loss: 0.4529 - acc: 0.9300 - val_loss: 0.5161 - val_acc: 0.8800\n",
      "Epoch 79/100\n",
      "100/100 [==============================] - 0s 40us/step - loss: 0.4483 - acc: 0.9300 - val_loss: 0.5118 - val_acc: 0.8800\n",
      "Epoch 80/100\n",
      "100/100 [==============================] - 0s 30us/step - loss: 0.4437 - acc: 0.9300 - val_loss: 0.5077 - val_acc: 0.8800\n",
      "Epoch 81/100\n",
      "100/100 [==============================] - 0s 50us/step - loss: 0.4391 - acc: 0.9300 - val_loss: 0.5033 - val_acc: 0.8800\n",
      "Epoch 82/100\n",
      "100/100 [==============================] - 0s 40us/step - loss: 0.4346 - acc: 0.9300 - val_loss: 0.4993 - val_acc: 0.8800\n",
      "Epoch 83/100\n",
      "100/100 [==============================] - 0s 40us/step - loss: 0.4301 - acc: 0.9300 - val_loss: 0.4950 - val_acc: 0.9000\n",
      "Epoch 84/100\n",
      "100/100 [==============================] - 0s 40us/step - loss: 0.4257 - acc: 0.9400 - val_loss: 0.4911 - val_acc: 0.9000\n",
      "Epoch 85/100\n",
      "100/100 [==============================] - 0s 40us/step - loss: 0.4213 - acc: 0.9400 - val_loss: 0.4867 - val_acc: 0.9200\n",
      "Epoch 86/100\n",
      "100/100 [==============================] - 0s 40us/step - loss: 0.4169 - acc: 0.9600 - val_loss: 0.4829 - val_acc: 0.9000\n",
      "Epoch 87/100\n",
      "100/100 [==============================] - 0s 30us/step - loss: 0.4125 - acc: 0.9500 - val_loss: 0.4785 - val_acc: 0.9200\n",
      "Epoch 88/100\n",
      "100/100 [==============================] - 0s 50us/step - loss: 0.4082 - acc: 0.9700 - val_loss: 0.4749 - val_acc: 0.9200\n",
      "Epoch 89/100\n",
      "100/100 [==============================] - 0s 40us/step - loss: 0.4039 - acc: 0.9500 - val_loss: 0.4702 - val_acc: 0.9200\n",
      "Epoch 90/100\n",
      "100/100 [==============================] - 0s 40us/step - loss: 0.3997 - acc: 0.9700 - val_loss: 0.4670 - val_acc: 0.9200\n",
      "Epoch 91/100\n",
      "100/100 [==============================] - 0s 30us/step - loss: 0.3954 - acc: 0.9700 - val_loss: 0.4622 - val_acc: 0.9200\n",
      "Epoch 92/100\n",
      "100/100 [==============================] - 0s 40us/step - loss: 0.3912 - acc: 0.9700 - val_loss: 0.4592 - val_acc: 0.9200\n",
      "Epoch 93/100\n",
      "100/100 [==============================] - 0s 30us/step - loss: 0.3870 - acc: 0.9700 - val_loss: 0.4542 - val_acc: 0.9200\n",
      "Epoch 94/100\n",
      "100/100 [==============================] - 0s 40us/step - loss: 0.3829 - acc: 0.9800 - val_loss: 0.4515 - val_acc: 0.9200\n",
      "Epoch 95/100\n",
      "100/100 [==============================] - 0s 40us/step - loss: 0.3788 - acc: 0.9700 - val_loss: 0.4463 - val_acc: 0.9400\n",
      "Epoch 96/100\n",
      "100/100 [==============================] - 0s 30us/step - loss: 0.3747 - acc: 0.9900 - val_loss: 0.4441 - val_acc: 0.9200\n",
      "Epoch 97/100\n",
      "100/100 [==============================] - 0s 30us/step - loss: 0.3707 - acc: 0.9700 - val_loss: 0.4386 - val_acc: 0.9400\n",
      "Epoch 98/100\n",
      "100/100 [==============================] - 0s 50us/step - loss: 0.3667 - acc: 0.9900 - val_loss: 0.4368 - val_acc: 0.9200\n",
      "Epoch 99/100\n",
      "100/100 [==============================] - 0s 40us/step - loss: 0.3627 - acc: 0.9700 - val_loss: 0.4308 - val_acc: 0.9400\n",
      "Epoch 100/100\n",
      "100/100 [==============================] - 0s 30us/step - loss: 0.3588 - acc: 0.9900 - val_loss: 0.4294 - val_acc: 0.9200\n"
     ]
    },
    {
     "data": {
      "text/plain": [
       "<keras.callbacks.History at 0x2c7a8c8fa58>"
      ]
     },
     "execution_count": 84,
     "metadata": {},
     "output_type": "execute_result"
    }
   ],
   "source": [
    "batch_size = 128\n",
    "epochs = 100\n",
    "model.fit(x_train, y_train_binary,\n",
    "          batch_size=batch_size,\n",
    "          epochs=epochs,\n",
    "          verbose=1,\n",
    "          validation_data=(x_test, y_test_binary))"
   ]
  },
  {
   "cell_type": "code",
   "execution_count": null,
   "metadata": {
    "collapsed": true
   },
   "outputs": [],
   "source": []
  },
  {
   "cell_type": "code",
   "execution_count": 103,
   "metadata": {},
   "outputs": [],
   "source": [
    "from keras.layers import Input, Dense, Activation\n",
    "from keras.models import Model\n",
    "\n",
    "# This returns a tensor\n",
    "inputs = Input(shape=(784,))\n",
    "x = Dense(32, activation='tanh')(inputs)\n",
    "#x = Dense(32)(x)\n",
    "x = Activation('relu')(x)\n",
    "predictions = Dense(8, activation='softmax')(x)\n",
    "\n",
    "# This creates a model that includes\n",
    "# the Input layer and three Dense layers\n",
    "model = Model(inputs=inputs, outputs=predictions)\n",
    "model.compile(optimizer='rmsprop',\n",
    "              loss='categorical_crossentropy',\n",
    "              metrics=['accuracy'])"
   ]
  },
  {
   "cell_type": "code",
   "execution_count": 104,
   "metadata": {},
   "outputs": [
    {
     "name": "stdout",
     "output_type": "stream",
     "text": [
      "_________________________________________________________________\n",
      "Layer (type)                 Output Shape              Param #   \n",
      "=================================================================\n",
      "input_11 (InputLayer)        (None, 784)               0         \n",
      "_________________________________________________________________\n",
      "dense_45 (Dense)             (None, 32)                25120     \n",
      "_________________________________________________________________\n",
      "activation_9 (Activation)    (None, 32)                0         \n",
      "_________________________________________________________________\n",
      "dense_46 (Dense)             (None, 8)                 264       \n",
      "=================================================================\n",
      "Total params: 25,384\n",
      "Trainable params: 25,384\n",
      "Non-trainable params: 0\n",
      "_________________________________________________________________\n"
     ]
    }
   ],
   "source": [
    "model.summary()"
   ]
  },
  {
   "cell_type": "code",
   "execution_count": null,
   "metadata": {
    "collapsed": true
   },
   "outputs": [],
   "source": []
  },
  {
   "cell_type": "code",
   "execution_count": 105,
   "metadata": {
    "collapsed": true
   },
   "outputs": [],
   "source": [
    "df = pd.DataFrame(data={'shopify_customer_id': [1,1,2,3,4,5], \n",
    "                        'financial_status': ['paid', 'refunded', 'paid', 'refunded', 'paid', 'paid'],\n",
    "                        'count': [8, 1, 13, 1, 1, 1], \n",
    "                        'order_amt': [19, 19, 0, 19, 0, 24]})"
   ]
  },
  {
   "cell_type": "code",
   "execution_count": 106,
   "metadata": {},
   "outputs": [
    {
     "data": {
      "text/html": [
       "<div>\n",
       "<style>\n",
       "    .dataframe thead tr:only-child th {\n",
       "        text-align: right;\n",
       "    }\n",
       "\n",
       "    .dataframe thead th {\n",
       "        text-align: left;\n",
       "    }\n",
       "\n",
       "    .dataframe tbody tr th {\n",
       "        vertical-align: top;\n",
       "    }\n",
       "</style>\n",
       "<table border=\"1\" class=\"dataframe\">\n",
       "  <thead>\n",
       "    <tr style=\"text-align: right;\">\n",
       "      <th></th>\n",
       "      <th>count</th>\n",
       "      <th>financial_status</th>\n",
       "      <th>order_amt</th>\n",
       "      <th>shopify_customer_id</th>\n",
       "    </tr>\n",
       "  </thead>\n",
       "  <tbody>\n",
       "    <tr>\n",
       "      <th>0</th>\n",
       "      <td>8</td>\n",
       "      <td>paid</td>\n",
       "      <td>19</td>\n",
       "      <td>1</td>\n",
       "    </tr>\n",
       "    <tr>\n",
       "      <th>1</th>\n",
       "      <td>1</td>\n",
       "      <td>refunded</td>\n",
       "      <td>19</td>\n",
       "      <td>1</td>\n",
       "    </tr>\n",
       "    <tr>\n",
       "      <th>2</th>\n",
       "      <td>13</td>\n",
       "      <td>paid</td>\n",
       "      <td>0</td>\n",
       "      <td>2</td>\n",
       "    </tr>\n",
       "    <tr>\n",
       "      <th>3</th>\n",
       "      <td>1</td>\n",
       "      <td>refunded</td>\n",
       "      <td>19</td>\n",
       "      <td>3</td>\n",
       "    </tr>\n",
       "    <tr>\n",
       "      <th>4</th>\n",
       "      <td>1</td>\n",
       "      <td>paid</td>\n",
       "      <td>0</td>\n",
       "      <td>4</td>\n",
       "    </tr>\n",
       "    <tr>\n",
       "      <th>5</th>\n",
       "      <td>1</td>\n",
       "      <td>paid</td>\n",
       "      <td>24</td>\n",
       "      <td>5</td>\n",
       "    </tr>\n",
       "  </tbody>\n",
       "</table>\n",
       "</div>"
      ],
      "text/plain": [
       "   count financial_status  order_amt  shopify_customer_id\n",
       "0      8             paid         19                    1\n",
       "1      1         refunded         19                    1\n",
       "2     13             paid          0                    2\n",
       "3      1         refunded         19                    3\n",
       "4      1             paid          0                    4\n",
       "5      1             paid         24                    5"
      ]
     },
     "execution_count": 106,
     "metadata": {},
     "output_type": "execute_result"
    }
   ],
   "source": [
    "df"
   ]
  },
  {
   "cell_type": "code",
   "execution_count": 128,
   "metadata": {},
   "outputs": [],
   "source": [
    "shopify_customers = {}\n",
    "for i in df.iterrows():\n",
    "    row = i[1]\n",
    "    if row['shopify_customer_id'] not in shopify_customers:\n",
    "        shopify_customers.update({row['shopify_customer_id']: \n",
    "                                  {'shopify_customer_id': row['shopify_customer_id'],\n",
    "                                   'order_count_paid': 0,\n",
    "                                   'order_count_refunded': 0,\n",
    "                                   'order_amt_paid': 0,\n",
    "                                   'order_amt_refunded': 0}})\n",
    "    \n",
    "    if row['financial_status'] == 'paid':\n",
    "        shopify_customers[row['shopify_customer_id']]['order_count_paid'] += row['count']\n",
    "        shopify_customers[row['shopify_customer_id']]['order_amt_paid'] += row['order_amt']\n",
    "    \n",
    "    elif row['financial_status'] == 'refunded':\n",
    "        shopify_customers[row['shopify_customer_id']]['order_count_refunded'] += row['count']\n",
    "        shopify_customers[row['shopify_customer_id']]['order_amt_refunded'] += row['order_amt']"
   ]
  },
  {
   "cell_type": "code",
   "execution_count": 133,
   "metadata": {},
   "outputs": [],
   "source": [
    "data = [shopify_customers[i] for i in shopify_customers]"
   ]
  },
  {
   "cell_type": "code",
   "execution_count": 135,
   "metadata": {},
   "outputs": [
    {
     "data": {
      "text/html": [
       "<div>\n",
       "<style>\n",
       "    .dataframe thead tr:only-child th {\n",
       "        text-align: right;\n",
       "    }\n",
       "\n",
       "    .dataframe thead th {\n",
       "        text-align: left;\n",
       "    }\n",
       "\n",
       "    .dataframe tbody tr th {\n",
       "        vertical-align: top;\n",
       "    }\n",
       "</style>\n",
       "<table border=\"1\" class=\"dataframe\">\n",
       "  <thead>\n",
       "    <tr style=\"text-align: right;\">\n",
       "      <th></th>\n",
       "      <th>order_amt_paid</th>\n",
       "      <th>order_amt_refunded</th>\n",
       "      <th>order_count_paid</th>\n",
       "      <th>order_count_refunded</th>\n",
       "      <th>shopify_customer_id</th>\n",
       "    </tr>\n",
       "  </thead>\n",
       "  <tbody>\n",
       "    <tr>\n",
       "      <th>0</th>\n",
       "      <td>19</td>\n",
       "      <td>19</td>\n",
       "      <td>8</td>\n",
       "      <td>1</td>\n",
       "      <td>1</td>\n",
       "    </tr>\n",
       "    <tr>\n",
       "      <th>1</th>\n",
       "      <td>0</td>\n",
       "      <td>0</td>\n",
       "      <td>13</td>\n",
       "      <td>0</td>\n",
       "      <td>2</td>\n",
       "    </tr>\n",
       "    <tr>\n",
       "      <th>2</th>\n",
       "      <td>0</td>\n",
       "      <td>19</td>\n",
       "      <td>0</td>\n",
       "      <td>1</td>\n",
       "      <td>3</td>\n",
       "    </tr>\n",
       "    <tr>\n",
       "      <th>3</th>\n",
       "      <td>0</td>\n",
       "      <td>0</td>\n",
       "      <td>1</td>\n",
       "      <td>0</td>\n",
       "      <td>4</td>\n",
       "    </tr>\n",
       "    <tr>\n",
       "      <th>4</th>\n",
       "      <td>24</td>\n",
       "      <td>0</td>\n",
       "      <td>1</td>\n",
       "      <td>0</td>\n",
       "      <td>5</td>\n",
       "    </tr>\n",
       "  </tbody>\n",
       "</table>\n",
       "</div>"
      ],
      "text/plain": [
       "   order_amt_paid  order_amt_refunded  order_count_paid  order_count_refunded  \\\n",
       "0              19                  19                 8                     1   \n",
       "1               0                   0                13                     0   \n",
       "2               0                  19                 0                     1   \n",
       "3               0                   0                 1                     0   \n",
       "4              24                   0                 1                     0   \n",
       "\n",
       "   shopify_customer_id  \n",
       "0                    1  \n",
       "1                    2  \n",
       "2                    3  \n",
       "3                    4  \n",
       "4                    5  "
      ]
     },
     "execution_count": 135,
     "metadata": {},
     "output_type": "execute_result"
    }
   ],
   "source": [
    "pd.DataFrame(data = [shopify_customers[i] for i in shopify_customers])"
   ]
  },
  {
   "cell_type": "code",
   "execution_count": null,
   "metadata": {
    "collapsed": true
   },
   "outputs": [],
   "source": []
  },
  {
   "cell_type": "code",
   "execution_count": 136,
   "metadata": {
    "collapsed": true
   },
   "outputs": [],
   "source": [
    "data = \"\"\"city        store   units_sold  num_employees   cost_$\n",
    "New York    A       10          4               11000\n",
    "New York    B       12          4               11890\n",
    "New York    C       14          5               15260\n",
    "New York    D       17          6               17340\n",
    "London      A       23          5               22770\n",
    "London      B       27          6               25650\n",
    "London      C       22          3               21450\n",
    "Paris       A       4           2               5200\n",
    "Paris       B       7           3               9590\"\"\""
   ]
  },
  {
   "cell_type": "code",
   "execution_count": 150,
   "metadata": {},
   "outputs": [],
   "source": [
    "import pandas as pd\n",
    "\n",
    "data = {'city': ['New York', 'New York', 'New York', 'New York', 'London', 'London', 'London', 'Paris', 'Paris'],\n",
    "        'store': ['A', 'B', 'C', 'D', 'A', 'B', 'C', 'A', 'B'],\n",
    "        'units_sold': [10, 12, 14, 17, 23, 27, 22, 4, 7],\n",
    "        'num_employees': [4,4,5,6,5,6,3,2,3],\n",
    "        'cost': [11000, 11890, 15260, 17340, 22770, 25650, 21450, 5200, 9560]}\n",
    "\n",
    "df = pd.DataFrame(data)\n",
    "\n",
    "df['store'] =df['store'].astype('category').cat.codes\n",
    "df['city'] =df['city'].astype('category').cat.codes"
   ]
  },
  {
   "cell_type": "code",
   "execution_count": 151,
   "metadata": {},
   "outputs": [
    {
     "data": {
      "text/html": [
       "<div>\n",
       "<style>\n",
       "    .dataframe thead tr:only-child th {\n",
       "        text-align: right;\n",
       "    }\n",
       "\n",
       "    .dataframe thead th {\n",
       "        text-align: left;\n",
       "    }\n",
       "\n",
       "    .dataframe tbody tr th {\n",
       "        vertical-align: top;\n",
       "    }\n",
       "</style>\n",
       "<table border=\"1\" class=\"dataframe\">\n",
       "  <thead>\n",
       "    <tr style=\"text-align: right;\">\n",
       "      <th></th>\n",
       "      <th>city</th>\n",
       "      <th>cost</th>\n",
       "      <th>num_employees</th>\n",
       "      <th>store</th>\n",
       "      <th>units_sold</th>\n",
       "    </tr>\n",
       "  </thead>\n",
       "  <tbody>\n",
       "    <tr>\n",
       "      <th>0</th>\n",
       "      <td>1</td>\n",
       "      <td>11000</td>\n",
       "      <td>4</td>\n",
       "      <td>0</td>\n",
       "      <td>10</td>\n",
       "    </tr>\n",
       "    <tr>\n",
       "      <th>1</th>\n",
       "      <td>1</td>\n",
       "      <td>11890</td>\n",
       "      <td>4</td>\n",
       "      <td>1</td>\n",
       "      <td>12</td>\n",
       "    </tr>\n",
       "    <tr>\n",
       "      <th>2</th>\n",
       "      <td>1</td>\n",
       "      <td>15260</td>\n",
       "      <td>5</td>\n",
       "      <td>2</td>\n",
       "      <td>14</td>\n",
       "    </tr>\n",
       "    <tr>\n",
       "      <th>3</th>\n",
       "      <td>1</td>\n",
       "      <td>17340</td>\n",
       "      <td>6</td>\n",
       "      <td>3</td>\n",
       "      <td>17</td>\n",
       "    </tr>\n",
       "    <tr>\n",
       "      <th>4</th>\n",
       "      <td>0</td>\n",
       "      <td>22770</td>\n",
       "      <td>5</td>\n",
       "      <td>0</td>\n",
       "      <td>23</td>\n",
       "    </tr>\n",
       "    <tr>\n",
       "      <th>5</th>\n",
       "      <td>0</td>\n",
       "      <td>25650</td>\n",
       "      <td>6</td>\n",
       "      <td>1</td>\n",
       "      <td>27</td>\n",
       "    </tr>\n",
       "    <tr>\n",
       "      <th>6</th>\n",
       "      <td>0</td>\n",
       "      <td>21450</td>\n",
       "      <td>3</td>\n",
       "      <td>2</td>\n",
       "      <td>22</td>\n",
       "    </tr>\n",
       "    <tr>\n",
       "      <th>7</th>\n",
       "      <td>2</td>\n",
       "      <td>5200</td>\n",
       "      <td>2</td>\n",
       "      <td>0</td>\n",
       "      <td>4</td>\n",
       "    </tr>\n",
       "    <tr>\n",
       "      <th>8</th>\n",
       "      <td>2</td>\n",
       "      <td>9560</td>\n",
       "      <td>3</td>\n",
       "      <td>1</td>\n",
       "      <td>7</td>\n",
       "    </tr>\n",
       "  </tbody>\n",
       "</table>\n",
       "</div>"
      ],
      "text/plain": [
       "   city   cost  num_employees  store  units_sold\n",
       "0     1  11000              4      0          10\n",
       "1     1  11890              4      1          12\n",
       "2     1  15260              5      2          14\n",
       "3     1  17340              6      3          17\n",
       "4     0  22770              5      0          23\n",
       "5     0  25650              6      1          27\n",
       "6     0  21450              3      2          22\n",
       "7     2   5200              2      0           4\n",
       "8     2   9560              3      1           7"
      ]
     },
     "execution_count": 151,
     "metadata": {},
     "output_type": "execute_result"
    }
   ],
   "source": [
    "df"
   ]
  },
  {
   "cell_type": "code",
   "execution_count": 152,
   "metadata": {},
   "outputs": [],
   "source": [
    "import matplotlib.pyplot as plt"
   ]
  },
  {
   "cell_type": "code",
   "execution_count": 160,
   "metadata": {},
   "outputs": [
    {
     "data": {
      "image/png": "[encoded data removed]",
      "text/plain": [
       "<matplotlib.figure.Figure at 0x2c7ab0b7748>"
      ]
     },
     "metadata": {},
     "output_type": "display_data"
    }
   ],
   "source": [
    "plt.scatter(df['num_employees'], df['units_sold'], c = df['cost'])\n",
    "plt.colorbar()\n",
    "plt.show()"
   ]
  },
  {
   "cell_type": "code",
   "execution_count": 164,
   "metadata": {},
   "outputs": [
    {
     "data": {
      "text/html": [
       "<div>\n",
       "<style>\n",
       "    .dataframe thead tr:only-child th {\n",
       "        text-align: right;\n",
       "    }\n",
       "\n",
       "    .dataframe thead th {\n",
       "        text-align: left;\n",
       "    }\n",
       "\n",
       "    .dataframe tbody tr th {\n",
       "        vertical-align: top;\n",
       "    }\n",
       "</style>\n",
       "<table border=\"1\" class=\"dataframe\">\n",
       "  <thead>\n",
       "    <tr style=\"text-align: right;\">\n",
       "      <th></th>\n",
       "      <th>city</th>\n",
       "      <th>cost</th>\n",
       "      <th>num_employees</th>\n",
       "      <th>store</th>\n",
       "      <th>units_sold</th>\n",
       "    </tr>\n",
       "  </thead>\n",
       "  <tbody>\n",
       "    <tr>\n",
       "      <th>0</th>\n",
       "      <td>1</td>\n",
       "      <td>11000</td>\n",
       "      <td>4</td>\n",
       "      <td>0</td>\n",
       "      <td>10</td>\n",
       "    </tr>\n",
       "    <tr>\n",
       "      <th>1</th>\n",
       "      <td>1</td>\n",
       "      <td>11890</td>\n",
       "      <td>4</td>\n",
       "      <td>1</td>\n",
       "      <td>12</td>\n",
       "    </tr>\n",
       "    <tr>\n",
       "      <th>2</th>\n",
       "      <td>1</td>\n",
       "      <td>15260</td>\n",
       "      <td>5</td>\n",
       "      <td>2</td>\n",
       "      <td>14</td>\n",
       "    </tr>\n",
       "    <tr>\n",
       "      <th>3</th>\n",
       "      <td>1</td>\n",
       "      <td>17340</td>\n",
       "      <td>6</td>\n",
       "      <td>3</td>\n",
       "      <td>17</td>\n",
       "    </tr>\n",
       "    <tr>\n",
       "      <th>4</th>\n",
       "      <td>0</td>\n",
       "      <td>22770</td>\n",
       "      <td>5</td>\n",
       "      <td>0</td>\n",
       "      <td>23</td>\n",
       "    </tr>\n",
       "    <tr>\n",
       "      <th>5</th>\n",
       "      <td>0</td>\n",
       "      <td>25650</td>\n",
       "      <td>6</td>\n",
       "      <td>1</td>\n",
       "      <td>27</td>\n",
       "    </tr>\n",
       "    <tr>\n",
       "      <th>6</th>\n",
       "      <td>0</td>\n",
       "      <td>21450</td>\n",
       "      <td>3</td>\n",
       "      <td>2</td>\n",
       "      <td>22</td>\n",
       "    </tr>\n",
       "    <tr>\n",
       "      <th>7</th>\n",
       "      <td>2</td>\n",
       "      <td>5200</td>\n",
       "      <td>2</td>\n",
       "      <td>0</td>\n",
       "      <td>4</td>\n",
       "    </tr>\n",
       "    <tr>\n",
       "      <th>8</th>\n",
       "      <td>2</td>\n",
       "      <td>9560</td>\n",
       "      <td>3</td>\n",
       "      <td>1</td>\n",
       "      <td>7</td>\n",
       "    </tr>\n",
       "  </tbody>\n",
       "</table>\n",
       "</div>"
      ],
      "text/plain": [
       "   city   cost  num_employees  store  units_sold\n",
       "0     1  11000              4      0          10\n",
       "1     1  11890              4      1          12\n",
       "2     1  15260              5      2          14\n",
       "3     1  17340              6      3          17\n",
       "4     0  22770              5      0          23\n",
       "5     0  25650              6      1          27\n",
       "6     0  21450              3      2          22\n",
       "7     2   5200              2      0           4\n",
       "8     2   9560              3      1           7"
      ]
     },
     "execution_count": 164,
     "metadata": {},
     "output_type": "execute_result"
    }
   ],
   "source": [
    "df"
   ]
  },
  {
   "cell_type": "code",
   "execution_count": 171,
   "metadata": {},
   "outputs": [
    {
     "data": {
      "image/png": "[encoded data removed]",
      "text/plain": [
       "<matplotlib.figure.Figure at 0x2c7ab65aef0>"
      ]
     },
     "metadata": {},
     "output_type": "display_data"
    }
   ],
   "source": [
    "plt.matshow(df.corr())\n",
    "plt.xticks(np.arange(5), df.columns, rotation=90)\n",
    "plt.yticks(np.arange(5), df.columns, rotation=0)\n",
    "plt.colorbar()\n",
    "plt.show()"
   ]
  },
  {
   "cell_type": "code",
   "execution_count": 172,
   "metadata": {
    "collapsed": true
   },
   "outputs": [],
   "source": [
    "import numpy as np"
   ]
  },
  {
   "cell_type": "code",
   "execution_count": 173,
   "metadata": {
    "collapsed": true
   },
   "outputs": [],
   "source": [
    "X = np.asarray(df[['city', 'num_employees', 'store', 'units_sold']])\n",
    "Y = np.asarray(df['cost'])"
   ]
  },
  {
   "cell_type": "code",
   "execution_count": 319,
   "metadata": {},
   "outputs": [
    {
     "data": {
      "text/plain": [
       "array([[ 0,  3,  2, 22],\n",
       "       [ 2,  3,  1,  7],\n",
       "       [ 1,  6,  3, 17],\n",
       "       [ 1,  4,  0, 10],\n",
       "       [ 2,  2,  0,  4],\n",
       "       [ 1,  4,  1, 12]], dtype=int64)"
      ]
     },
     "execution_count": 319,
     "metadata": {},
     "output_type": "execute_result"
    }
   ],
   "source": [
    "from sklearn.model_selection import train_test_split\n",
    "X_train, X_test, y_train, y_test = train_test_split(X, Y, test_size=0.33, shuffle= True)\n",
    "\n",
    "X_train\n"
   ]
  },
  {
   "cell_type": "code",
   "execution_count": 346,
   "metadata": {},
   "outputs": [
    {
     "name": "stdout",
     "output_type": "stream",
     "text": [
      "Linear Regression\n",
      "-1.43683760609\n",
      "[ 1284.47358731  1251.8762943   -706.31897708   846.5465552 ]\n",
      "\n",
      "Ridge Regression\n",
      "0.900877146134\n",
      "[ 228.05312491   95.33306385  123.49517018  873.49803782]\n"
     ]
    }
   ],
   "source": [
    "scores = []\n",
    "coefs = []\n",
    "for i in range(1000):\n",
    "    X_train, X_test, y_train, y_test = train_test_split(X, Y, test_size=0.33, shuffle= True)\n",
    "    lineReg = LinearRegression()\n",
    "    lineReg.fit(X_train, y_train)\n",
    "    scores.append(lineReg.score(X_test, y_test))\n",
    "    coefs.append(lineReg.coef_)\n",
    "print('Linear Regression')\n",
    "print(np.mean(scores))\n",
    "print(np.mean(coefs, axis=0))\n",
    "\n",
    "scores = []\n",
    "coefs = []\n",
    "for i in range(1000):\n",
    "    X_train, X_test, y_train, y_test = train_test_split(X, Y, test_size=0.33, shuffle= True)\n",
    "    lineReg = linear_model.Ridge (alpha = .5)\n",
    "    lineReg.fit(X_train, y_train)\n",
    "    scores.append(lineReg.score(X_test, y_test))\n",
    "    coefs.append(lineReg.coef_)\n",
    "print('\\nRidge Regression')\n",
    "print(np.mean(scores))\n",
    "print(np.mean(coefs, axis=0))"
   ]
  },
  {
   "cell_type": "code",
   "execution_count": 347,
   "metadata": {},
   "outputs": [
    {
     "name": "stdout",
     "output_type": "stream",
     "text": [
      "Score:  0.963554136721\n",
      "Weights:  [ 506.87136393  -15.48157725  376.79379444  920.01939237]\n"
     ]
    },
    {
     "data": {
      "image/png": "[encoded data removed]",
      "text/plain": [
       "<matplotlib.figure.Figure at 0x2c7ad282320>"
      ]
     },
     "metadata": {},
     "output_type": "display_data"
    }
   ],
   "source": [
    "from sklearn.linear_model import LinearRegression\n",
    "\n",
    "lineReg = LinearRegression()\n",
    "lineReg.fit(X_train, y_train)\n",
    "print('Score: ', lineReg.score(X_test, y_test))\n",
    "print('Weights: ', lineReg.coef_)\n",
    "\n",
    "plt.plot(lineReg.predict(X_test))\n",
    "plt.plot(y_test)\n",
    "plt.show()"
   ]
  },
  {
   "cell_type": "code",
   "execution_count": 351,
   "metadata": {},
   "outputs": [
    {
     "data": {
      "text/plain": [
       "array([ 12853.2132658])"
      ]
     },
     "execution_count": 351,
     "metadata": {},
     "output_type": "execute_result"
    }
   ],
   "source": [
    "reg.predict([[2,  4,  1,  12]])"
   ]
  },
  {
   "cell_type": "code",
   "execution_count": 342,
   "metadata": {},
   "outputs": [
    {
     "name": "stdout",
     "output_type": "stream",
     "text": [
      "Score:  0.971197683706\n",
      "Weights:  [ 129.78467277    2.034588     97.11724313  877.73906409]\n"
     ]
    },
    {
     "data": {
      "image/png": "[encoded data removed]",
      "text/plain": [
       "<matplotlib.figure.Figure at 0x2c7ae7c1f98>"
      ]
     },
     "metadata": {},
     "output_type": "display_data"
    }
   ],
   "source": [
    "from sklearn import linear_model\n",
    "reg = linear_model.Ridge (alpha = .5)\n",
    "reg.fit(X_train, y_train)\n",
    "print('Score: ', reg.score(X_test, y_test))\n",
    "print('Weights: ', reg.coef_)\n",
    "\n",
    "plt.plot(reg.predict(X_test))\n",
    "plt.plot(y_test)\n",
    "plt.show()"
   ]
  },
  {
   "cell_type": "code",
   "execution_count": 348,
   "metadata": {},
   "outputs": [
    {
     "name": "stdout",
     "output_type": "stream",
     "text": [
      "Score:  0.96360893404\n",
      "Weights:  [ 498.32779961  -14.20197462  376.12969716  919.12624418]\n"
     ]
    },
    {
     "data": {
      "image/png": "[encoded data removed]",
      "text/plain": [
       "<matplotlib.figure.Figure at 0x2c7ad1e5438>"
      ]
     },
     "metadata": {},
     "output_type": "display_data"
    }
   ],
   "source": [
    "reg = linear_model.Lasso(alpha = 0.1)\n",
    "reg.fit(X_train, y_train)\n",
    "print('Score: ', reg.score(X_test, y_test))\n",
    "print('Weights: ', reg.coef_)\n",
    "\n",
    "plt.plot(reg.predict(X_test))\n",
    "plt.plot(y_test)\n",
    "plt.show()"
   ]
  },
  {
   "cell_type": "code",
   "execution_count": 344,
   "metadata": {},
   "outputs": [
    {
     "name": "stdout",
     "output_type": "stream",
     "text": [
      "Score:  0.516005206052\n"
     ]
    },
    {
     "data": {
      "image/png": "[encoded data removed]",
      "text/plain": [
       "<matplotlib.figure.Figure at 0x2c7aaf8f6a0>"
      ]
     },
     "metadata": {},
     "output_type": "display_data"
    }
   ],
   "source": [
    "from sklearn.tree import DecisionTreeRegressor\n",
    "reg = DecisionTreeRegressor(max_depth=3)\n",
    "reg.fit(X_train, y_train)\n",
    "print('Score: ', reg.score(X_test, y_test))\n",
    "\n",
    "plt.plot(reg.predict(X_test))\n",
    "plt.plot(y_test)\n",
    "plt.show()"
   ]
  },
  {
   "cell_type": "code",
   "execution_count": null,
   "metadata": {
    "collapsed": true
   },
   "outputs": [],
   "source": []
  },
  {
   "cell_type": "code",
   "execution_count": 357,
   "metadata": {
    "collapsed": true
   },
   "outputs": [],
   "source": [
    "from sklearn.datasets.samples_generator import make_blobs\n",
    "from matplotlib import pyplot\n",
    "from pandas import DataFrame\n",
    "# generate 2d classification dataset\n",
    "X, y = make_blobs(n_samples=100, centers=2, n_features=3)\n",
    "# scatter plot, dots colored by class value\n"
   ]
  },
  {
   "cell_type": "code",
   "execution_count": 361,
   "metadata": {},
   "outputs": [
    {
     "data": {
      "image/png": "[encoded data removed]",
      "text/plain": [
       "<matplotlib.figure.Figure at 0x2c7ab563a20>"
      ]
     },
     "metadata": {},
     "output_type": "display_data"
    }
   ],
   "source": [
    "plt.scatter(X[:,0], X[:,1], c=y)\n",
    "plt.show()"
   ]
  },
  {
   "cell_type": "code",
   "execution_count": 364,
   "metadata": {},
   "outputs": [
    {
     "data": {
      "image/png": "[encoded data removed]",
      "text/plain": [
       "<matplotlib.figure.Figure at 0x2c7abdd5cc0>"
      ]
     },
     "metadata": {},
     "output_type": "display_data"
    }
   ],
   "source": [
    "from mpl_toolkits.mplot3d import Axes3D\n",
    "\n",
    "fig = plt.figure()\n",
    "ax = fig.add_subplot(111, projection='3d')\n",
    "\n",
    "ax.scatter(X[:,0], X[:,1], X[:,2], c=y)\n",
    "\n",
    "ax.set_xlabel('Temperature')\n",
    "ax.set_ylabel('Color')\n",
    "ax.set_zlabel('Moisture')\n",
    "\n",
    "plt.show()"
   ]
  },
  {
   "cell_type": "code",
   "execution_count": 491,
   "metadata": {},
   "outputs": [
    {
     "data": {
      "text/plain": [
       "95.1744988962199"
      ]
     },
     "execution_count": 491,
     "metadata": {},
     "output_type": "execute_result"
    }
   ],
   "source": [
    "np.random.normal(96, 2)"
   ]
  },
  {
   "cell_type": "code",
   "execution_count": 443,
   "metadata": {},
   "outputs": [
    {
     "data": {
      "text/plain": [
       "5"
      ]
     },
     "execution_count": 443,
     "metadata": {},
     "output_type": "execute_result"
    }
   ],
   "source": [
    "np.random.randint(0,10)"
   ]
  },
  {
   "cell_type": "code",
   "execution_count": 519,
   "metadata": {},
   "outputs": [],
   "source": [
    "import numpy as np\n",
    "\n",
    "# Number of samples\n",
    "n = 100\n",
    "\n",
    "data = []\n",
    "for i in range(n):\n",
    "    temp = {}\n",
    "    \n",
    "    # Get a random normally distributed temperature mean=14 and variance=3\n",
    "    temp.update({'temperature': np.random.normal(14, 3)})\n",
    "    \n",
    "    # Get a color with 80% probability green, 10% probability yellow\n",
    "    # and 10% probability purple\n",
    "    color = 'green'\n",
    "    color_random_value = np.random.randint(0,10)\n",
    "    if color_random_value == 8:\n",
    "        color = 'yellow'\n",
    "    elif color_random_value == 9:\n",
    "        color = 'purple'\n",
    "    temp.update({'color': color})\n",
    "    \n",
    "    # Get a random normally distributed moisture mean=96 and variance=2\n",
    "    temp.update({'moisture': np.random.normal(96, 2)})\n",
    "    \n",
    "    # Verify if the instance is edible (label=0) or not (label=1)\n",
    "    label = 0\n",
    "    if temp['temperature'] < 10 or temp['temperature'] > 18:\n",
    "        label = 1\n",
    "    elif temp['color'] != 'green':\n",
    "        label = 1\n",
    "    elif temp['moisture'] < 94 or temp['moisture'] > 98:\n",
    "        label = 1\n",
    "    temp.update({'label': label})\n",
    "    \n",
    "    data.append(temp)"
   ]
  },
  {
   "cell_type": "code",
   "execution_count": 520,
   "metadata": {},
   "outputs": [
    {
     "data": {
      "text/html": [
       "<div>\n",
       "<style>\n",
       "    .dataframe thead tr:only-child th {\n",
       "        text-align: right;\n",
       "    }\n",
       "\n",
       "    .dataframe thead th {\n",
       "        text-align: left;\n",
       "    }\n",
       "\n",
       "    .dataframe tbody tr th {\n",
       "        vertical-align: top;\n",
       "    }\n",
       "</style>\n",
       "<table border=\"1\" class=\"dataframe\">\n",
       "  <thead>\n",
       "    <tr style=\"text-align: right;\">\n",
       "      <th></th>\n",
       "      <th>color</th>\n",
       "      <th>label</th>\n",
       "      <th>moisture</th>\n",
       "      <th>temperature</th>\n",
       "    </tr>\n",
       "  </thead>\n",
       "  <tbody>\n",
       "    <tr>\n",
       "      <th>0</th>\n",
       "      <td>green</td>\n",
       "      <td>1</td>\n",
       "      <td>98.994606</td>\n",
       "      <td>12.896986</td>\n",
       "    </tr>\n",
       "    <tr>\n",
       "      <th>1</th>\n",
       "      <td>green</td>\n",
       "      <td>0</td>\n",
       "      <td>94.092764</td>\n",
       "      <td>14.514363</td>\n",
       "    </tr>\n",
       "    <tr>\n",
       "      <th>2</th>\n",
       "      <td>green</td>\n",
       "      <td>0</td>\n",
       "      <td>94.988866</td>\n",
       "      <td>15.869838</td>\n",
       "    </tr>\n",
       "    <tr>\n",
       "      <th>3</th>\n",
       "      <td>green</td>\n",
       "      <td>0</td>\n",
       "      <td>95.938690</td>\n",
       "      <td>13.922931</td>\n",
       "    </tr>\n",
       "    <tr>\n",
       "      <th>4</th>\n",
       "      <td>green</td>\n",
       "      <td>0</td>\n",
       "      <td>95.802181</td>\n",
       "      <td>10.350308</td>\n",
       "    </tr>\n",
       "  </tbody>\n",
       "</table>\n",
       "</div>"
      ],
      "text/plain": [
       "   color  label   moisture  temperature\n",
       "0  green      1  98.994606    12.896986\n",
       "1  green      0  94.092764    14.514363\n",
       "2  green      0  94.988866    15.869838\n",
       "3  green      0  95.938690    13.922931\n",
       "4  green      0  95.802181    10.350308"
      ]
     },
     "execution_count": 520,
     "metadata": {},
     "output_type": "execute_result"
    }
   ],
   "source": [
    "df = pd.DataFrame(data=data)\n",
    "df.head()"
   ]
  },
  {
   "cell_type": "code",
   "execution_count": 543,
   "metadata": {},
   "outputs": [
    {
     "data": {
      "text/plain": [
       "array(['green', 'yellow', 'green', 'green', 'green', 'green', 'green',\n",
       "       'green', 'green', 'green', 'green', 'green', 'green', 'purple',\n",
       "       'green', 'green', 'green', 'green', 'green', 'green', 'green',\n",
       "       'yellow', 'green', 'green', 'green', 'green', 'green', 'green',\n",
       "       'green', 'green', 'green', 'green', 'yellow', 'green', 'green',\n",
       "       'green', 'green', 'green', 'green', 'green', 'green', 'green',\n",
       "       'green', 'green', 'green', 'green', 'green', 'green', 'purple',\n",
       "       'green', 'green', 'green', 'yellow', 'green', 'yellow', 'green',\n",
       "       'purple', 'green', 'green', 'purple', 'green', 'green', 'green',\n",
       "       'green', 'green', 'yellow', 'yellow', 'green', 'green', 'green',\n",
       "       'green', 'green', 'purple', 'green', 'yellow', 'green', 'green',\n",
       "       'purple', 'green', 'green', 'green', 'yellow', 'purple', 'green',\n",
       "       'green', 'green', 'green', 'purple', 'green', 'green', 'green',\n",
       "       'green', 'green', 'green', 'green', 'green', 'green', 'green',\n",
       "       'green', 'yellow'],\n",
       "      dtype='<U6')"
      ]
     },
     "execution_count": 543,
     "metadata": {},
     "output_type": "execute_result"
    }
   ],
   "source": [
    "from numpy.random import choice\n",
    "draw = choice(['green', 'yellow', 'purple'], 100, p=[0.8, 0.1, 0.1])\n",
    "draw"
   ]
  },
  {
   "cell_type": "code",
   "execution_count": 554,
   "metadata": {
    "collapsed": true
   },
   "outputs": [],
   "source": [
    "import numpy as np\n",
    "\n",
    "n = 100\n",
    "\n",
    "data = {'temperature': np.random.normal(14, 3, n),\n",
    "        'moisture': np.random.normal(96, 2, n),\n",
    "        'color': np.random.choice(['green', 'yellow', 'purple'], \n",
    "                                  size=100, \n",
    "                                  p=[0.8, 0.1, 0.1])}\n",
    "df = pd.DataFrame(data=data)"
   ]
  },
  {
   "cell_type": "code",
   "execution_count": 555,
   "metadata": {},
   "outputs": [],
   "source": [
    "def get_label(color, moisture, temperature):\n",
    "    if temperature < 10 or temperature > 18:\n",
    "        return 1\n",
    "    elif color != 'green':\n",
    "        return 1\n",
    "    elif moisture < 94 or moisture > 98:\n",
    "        return 1\n",
    "    return 0\n",
    "\n",
    "df['label'] = df.apply(lambda row: get_label(row['color'], \n",
    "                                             row['moisture'], \n",
    "                                             row['temperature']), axis=1)"
   ]
  },
  {
   "cell_type": "code",
   "execution_count": 556,
   "metadata": {},
   "outputs": [
    {
     "data": {
      "text/html": [
       "<div>\n",
       "<style>\n",
       "    .dataframe thead tr:only-child th {\n",
       "        text-align: right;\n",
       "    }\n",
       "\n",
       "    .dataframe thead th {\n",
       "        text-align: left;\n",
       "    }\n",
       "\n",
       "    .dataframe tbody tr th {\n",
       "        vertical-align: top;\n",
       "    }\n",
       "</style>\n",
       "<table border=\"1\" class=\"dataframe\">\n",
       "  <thead>\n",
       "    <tr style=\"text-align: right;\">\n",
       "      <th></th>\n",
       "      <th>color</th>\n",
       "      <th>moisture</th>\n",
       "      <th>temperature</th>\n",
       "      <th>label</th>\n",
       "    </tr>\n",
       "  </thead>\n",
       "  <tbody>\n",
       "    <tr>\n",
       "      <th>0</th>\n",
       "      <td>green</td>\n",
       "      <td>98.155906</td>\n",
       "      <td>12.446165</td>\n",
       "      <td>1</td>\n",
       "    </tr>\n",
       "    <tr>\n",
       "      <th>1</th>\n",
       "      <td>yellow</td>\n",
       "      <td>95.425176</td>\n",
       "      <td>16.597386</td>\n",
       "      <td>1</td>\n",
       "    </tr>\n",
       "    <tr>\n",
       "      <th>2</th>\n",
       "      <td>green</td>\n",
       "      <td>95.600811</td>\n",
       "      <td>17.033967</td>\n",
       "      <td>0</td>\n",
       "    </tr>\n",
       "    <tr>\n",
       "      <th>3</th>\n",
       "      <td>green</td>\n",
       "      <td>97.756570</td>\n",
       "      <td>15.595215</td>\n",
       "      <td>0</td>\n",
       "    </tr>\n",
       "    <tr>\n",
       "      <th>4</th>\n",
       "      <td>green</td>\n",
       "      <td>97.441059</td>\n",
       "      <td>11.057950</td>\n",
       "      <td>0</td>\n",
       "    </tr>\n",
       "  </tbody>\n",
       "</table>\n",
       "</div>"
      ],
      "text/plain": [
       "    color   moisture  temperature  label\n",
       "0   green  98.155906    12.446165      1\n",
       "1  yellow  95.425176    16.597386      1\n",
       "2   green  95.600811    17.033967      0\n",
       "3   green  97.756570    15.595215      0\n",
       "4   green  97.441059    11.057950      0"
      ]
     },
     "execution_count": 556,
     "metadata": {},
     "output_type": "execute_result"
    }
   ],
   "source": [
    "df.head()"
   ]
  },
  {
   "cell_type": "code",
   "execution_count": 557,
   "metadata": {
    "collapsed": true
   },
   "outputs": [],
   "source": [
    "df['color_codes'] =df['color'].astype('category').cat.codes"
   ]
  },
  {
   "cell_type": "code",
   "execution_count": 563,
   "metadata": {},
   "outputs": [],
   "source": [
    "X = np.asarray(df[['color_codes', 'moisture', 'temperature']])\n",
    "y = np.asarray(df['label'])"
   ]
  },
  {
   "cell_type": "code",
   "execution_count": 573,
   "metadata": {},
   "outputs": [
    {
     "data": {
      "image/png": "[encoded data removed]",
      "text/plain": [
       "<matplotlib.figure.Figure at 0x2c7ab314b00>"
      ]
     },
     "metadata": {},
     "output_type": "display_data"
    }
   ],
   "source": [
    "from mpl_toolkits.mplot3d import Axes3D\n",
    "\n",
    "fig = plt.figure()\n",
    "ax = fig.add_subplot(111, projection='3d')\n",
    "\n",
    "ax.scatter(X[:,0], X[:,1], X[:,2], c=y)\n",
    "\n",
    "ax.set_xlabel('Color')\n",
    "ax.set_ylabel('Moisture')\n",
    "ax.set_zlabel('Temperature')\n",
    "\n",
    "plt.show()"
   ]
  },
  {
   "cell_type": "code",
   "execution_count": 564,
   "metadata": {},
   "outputs": [],
   "source": [
    "from sklearn.model_selection import train_test_split\n",
    "\n",
    "X_train, X_test, y_train, y_test = train_test_split(X, y, test_size=0.33)"
   ]
  },
  {
   "cell_type": "code",
   "execution_count": 565,
   "metadata": {},
   "outputs": [
    {
     "data": {
      "image/png": "[encoded data removed]",
      "text/plain": [
       "<matplotlib.figure.Figure at 0x2c7a8cd56d8>"
      ]
     },
     "metadata": {},
     "output_type": "display_data"
    }
   ],
   "source": [
    "import matplotlib.pyplot as plt\n",
    "%matplotlib inline\n",
    "\n",
    "n_classes = 2\n",
    "\n",
    "training_counts = [None] * n_classes \n",
    "testing_counts = [None] * n_classes\n",
    "for i in range(n_classes):\n",
    "    training_counts[i] = len(y_train[y_train == i])/len(y_train)\n",
    "    testing_counts[i] = len(y_test[y_test == i])/len(y_test)\n",
    "\n",
    "# the histogram of the data\n",
    "train_bar = plt.bar(np.arange(n_classes)-0.2, training_counts, align='center', color = 'r', alpha=0.75, width = 0.41, label='Training')\n",
    "test_bar = plt.bar(np.arange(n_classes)+0.2, testing_counts, align='center', color = 'b', alpha=0.75, width = 0.41, label = 'Testing')\n",
    "\n",
    "plt.xlabel('Labels')\n",
    "plt.xticks((0,1))\n",
    "plt.ylabel('Count (%)')\n",
    "plt.title('Label distribution in the training and test set')\n",
    "plt.legend(bbox_to_anchor=(1.05, 1), handles=[train_bar, test_bar], loc=2)\n",
    "plt.grid(True)\n",
    "plt.show()"
   ]
  },
  {
   "cell_type": "code",
   "execution_count": 574,
   "metadata": {},
   "outputs": [
    {
     "data": {
      "text/plain": [
       "0.54545454545454541"
      ]
     },
     "execution_count": 574,
     "metadata": {},
     "output_type": "execute_result"
    }
   ],
   "source": [
    "from sklearn import linear_model\n",
    "clf = linear_model.SGDClassifier(max_iter=1000)\n",
    "clf.fit(X_train, y_train)\n",
    "clf.score(X_test, y_test)"
   ]
  },
  {
   "cell_type": "code",
   "execution_count": 566,
   "metadata": {},
   "outputs": [
    {
     "data": {
      "text/plain": [
       "0.72727272727272729"
      ]
     },
     "execution_count": 566,
     "metadata": {},
     "output_type": "execute_result"
    }
   ],
   "source": [
    "from sklearn.svm import SVC\n",
    "clf = SVC()\n",
    "clf.fit(X_train, y_train)\n",
    "clf.score(X_test, y_test)"
   ]
  },
  {
   "cell_type": "code",
   "execution_count": 567,
   "metadata": {},
   "outputs": [
    {
     "data": {
      "text/plain": [
       "0.66666666666666663"
      ]
     },
     "execution_count": 567,
     "metadata": {},
     "output_type": "execute_result"
    }
   ],
   "source": [
    "from sklearn.neighbors import KNeighborsClassifier\n",
    "neigh = KNeighborsClassifier(n_neighbors=3)\n",
    "neigh.fit(X_train, y_train)\n",
    "neigh.score(X_test, y_test)"
   ]
  },
  {
   "cell_type": "code",
   "execution_count": 568,
   "metadata": {},
   "outputs": [
    {
     "data": {
      "text/plain": [
       "1.0"
      ]
     },
     "execution_count": 568,
     "metadata": {},
     "output_type": "execute_result"
    }
   ],
   "source": [
    "from sklearn import tree\n",
    "clf = tree.DecisionTreeClassifier()\n",
    "clf.fit(X_train, y_train)\n",
    "clf.score(X_test, y_test)"
   ]
  },
  {
   "cell_type": "code",
   "execution_count": 569,
   "metadata": {},
   "outputs": [
    {
     "name": "stdout",
     "output_type": "stream",
     "text": [
      "Score:  1.0\n"
     ]
    }
   ],
   "source": [
    "from sklearn.ensemble import RandomForestClassifier \n",
    "\n",
    "forest = RandomForestClassifier(n_estimators = 100)\n",
    "\n",
    "forest.fit(X_train, y_train)\n",
    "print('Score: ', forest.score(X_test, y_test))\n",
    "predictions = forest.predict(X_test)"
   ]
  },
  {
   "cell_type": "code",
   "execution_count": 570,
   "metadata": {},
   "outputs": [
    {
     "data": {
      "text/plain": [
       "array([[ 100.,    0.],\n",
       "       [   0.,  100.]])"
      ]
     },
     "execution_count": 570,
     "metadata": {},
     "output_type": "execute_result"
    },
    {
     "data": {
      "image/png": "[encoded data removed]",
      "text/plain": [
       "<matplotlib.figure.Figure at 0x2c7ab0d5550>"
      ]
     },
     "metadata": {},
     "output_type": "display_data"
    }
   ],
   "source": [
    "from sklearn.metrics import confusion_matrix\n",
    "\n",
    "# Show a confusion matrix\n",
    "plt.imshow(confusion_matrix(y_test, predictions))\n",
    "conf = confusion_matrix(y_test, predictions)\n",
    "\n",
    "# Print the confusion matrix\n",
    "np.round([conf[ix, :]*100/i for ix, i in enumerate(np.sum(conf, 1))], 3)"
   ]
  },
  {
   "cell_type": "code",
   "execution_count": null,
   "metadata": {
    "collapsed": true
   },
   "outputs": [],
   "source": []
  },
  {
   "cell_type": "code",
   "execution_count": 575,
   "metadata": {
    "collapsed": true
   },
   "outputs": [],
   "source": [
    "Y = [100, 90, 100, 90]\n",
    "Y_p = [10, 10, 10, 10]"
   ]
  },
  {
   "cell_type": "code",
   "execution_count": 590,
   "metadata": {},
   "outputs": [
    {
     "data": {
      "text/plain": [
       "85.14693182963201"
      ]
     },
     "execution_count": 590,
     "metadata": {},
     "output_type": "execute_result"
    }
   ],
   "source": [
    "np.sqrt(np.sum(np.subtract(Y, Y_p)**2)/len(Y))"
   ]
  },
  {
   "cell_type": "code",
   "execution_count": 580,
   "metadata": {},
   "outputs": [
    {
     "ename": "TypeError",
     "evalue": "unsupported operand type(s) for -: 'list' and 'list'",
     "output_type": "error",
     "traceback": [
      "\u001b[1;31m---------------------------------------------------------------------------\u001b[0m",
      "\u001b[1;31mTypeError\u001b[0m                                 Traceback (most recent call last)",
      "\u001b[1;32m<ipython-input-580-768679d59bae>\u001b[0m in \u001b[0;36m<module>\u001b[1;34m()\u001b[0m\n\u001b[1;32m----> 1\u001b[1;33m \u001b[0mnp\u001b[0m\u001b[1;33m.\u001b[0m\u001b[0msqrt\u001b[0m\u001b[1;33m(\u001b[0m\u001b[0msum\u001b[0m\u001b[1;33m(\u001b[0m\u001b[1;33m(\u001b[0m\u001b[0mY\u001b[0m\u001b[1;33m-\u001b[0m\u001b[0mY_p\u001b[0m\u001b[1;33m)\u001b[0m\u001b[1;33m**\u001b[0m\u001b[1;36m2\u001b[0m\u001b[1;33m)\u001b[0m\u001b[1;33m/\u001b[0m\u001b[0mlen\u001b[0m\u001b[1;33m(\u001b[0m\u001b[0mY\u001b[0m\u001b[1;33m)\u001b[0m\u001b[1;33m)\u001b[0m\u001b[1;33m\u001b[0m\u001b[0m\n\u001b[0m",
      "\u001b[1;31mTypeError\u001b[0m: unsupported operand type(s) for -: 'list' and 'list'"
     ]
    }
   ],
   "source": [
    "np.sqrt(sum((Y-Y_p)**2)/len(Y))"
   ]
  },
  {
   "cell_type": "code",
   "execution_count": null,
   "metadata": {
    "collapsed": true
   },
   "outputs": [],
   "source": []
  }
 ],
 "metadata": {
  "kernelspec": {
   "display_name": "Python 3",
   "language": "python",
   "name": "python3"
  }
 },
 "nbformat": 4,
 "nbformat_minor": 2
}
