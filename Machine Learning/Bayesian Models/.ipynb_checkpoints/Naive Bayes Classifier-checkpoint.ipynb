{
 "cells": [
  {
   "cell_type": "markdown",
   "metadata": {},
   "source": [
    "# Naive Bayes Classifier"
   ]
  },
  {
   "cell_type": "markdown",
   "metadata": {},
   "source": [
    "Naive Bayes is an algorithm which builds a probabilistic model using training data. Then for novel instances the model determines ist class by calculating the probability of the instance being within the learned distributions."
   ]
  },
  {
   "cell_type": "code",
   "execution_count": 1,
   "metadata": {},
   "outputs": [],
   "source": [
    "import csv\n",
    "import random\n",
    "import math\n",
    "import pandas as pd\n",
    "import numpy as np"
   ]
  },
  {
   "cell_type": "code",
   "execution_count": 2,
   "metadata": {},
   "outputs": [],
   "source": [
    "# Load the data\n",
    "def loadCSV(filename):\n",
    "    df = pd.read_csv(filename)\n",
    "    return df\n",
    "\n",
    "# Split the data into a tran/test set\n",
    "def split_dataset(dataset, train_percent=.66):\n",
    "    perm = np.random.permutation(dataset)\n",
    "    m = len(dataset)\n",
    "\n",
    "    # Get the split indices\n",
    "    train_end = int(train_percent * m)\n",
    "    train, test = perm[:train_end], perm[train_end:]\n",
    "    return train, test"
   ]
  },
  {
   "cell_type": "code",
   "execution_count": 4,
   "metadata": {},
   "outputs": [],
   "source": [
    "class NaiveBayes(object):\n",
    "    \n",
    "    def __init__(self):\n",
    "        self.groupClass = None\n",
    "        self.stats = None\n",
    "        \n",
    "    def calculateGaussian(self, x, mean, std):    \n",
    "        exponent = np.exp(-1*(np.power(x-mean,2)/(2*np.power(std,2))))\n",
    "        std[std==0] = 0.00001\n",
    "        return (1 / (np.sqrt(2*math.pi) * std)) * exponent\n",
    "    \n",
    "    def predict(self, x):\n",
    "        probs = np.ones((len(x), len(self.stats)))\n",
    "\n",
    "        for ix, instance in enumerate(x):\n",
    "            for label_ix, label in enumerate(self.stats):\n",
    "                probs[ix, int(label)] = probs[ix, int(label)] * \\\n",
    "                                      np.prod(self.calculateGaussian(instance, self.stats[label][0], self.stats[label][1]))\n",
    "        return np.argmax(probs, 1)\n",
    "    \n",
    "    def score(self, x, y):\n",
    "        pred = self.predict(x)\n",
    "        return np.sum(1-np.abs(y - pred))/len(x)\n",
    "        \n",
    "    def train(self, x, y):\n",
    "        self.splitClasses(x, y)\n",
    "        self.getStats()\n",
    "        pass\n",
    "        \n",
    "    def splitClasses(self, x, y):\n",
    "        groupClass = {}\n",
    "\n",
    "        for instance, label in zip(x, y):\n",
    "            if not label in groupClass:\n",
    "                groupClass.update({label: [instance]})\n",
    "            else:\n",
    "                groupClass[label].append(instance)\n",
    "        self.groupClass = groupClass\n",
    "        \n",
    "    def getStats(self):\n",
    "        stats = {}\n",
    "\n",
    "        for label in self.groupClass:\n",
    "            mean = np.mean(np.asarray(self.groupClass[label]), 0)\n",
    "            std = np.std(np.asarray(self.groupClass[label]), 0)\n",
    "            stats.update({label: [mean, std]})\n",
    "        self.stats = stats"
   ]
  },
  {
   "cell_type": "markdown",
   "metadata": {},
   "source": [
    "Test the Naive Bayes algorithm using the **inidians.csv** data."
   ]
  },
  {
   "cell_type": "code",
   "execution_count": 8,
   "metadata": {},
   "outputs": [
    {
     "data": {
      "text/plain": [
       "{0.0: [array([  3.39233038, 110.86725664,  69.16519174,  20.04129794,\n",
       "          70.61356932,  30.44100295,   0.42989086,  31.4159292 ]),\n",
       "  array([  2.99104862,  27.58612294,  16.80977638,  14.74557299,\n",
       "         102.14343518,   7.73148947,   0.3000292 ,  11.73180559])],\n",
       " 1.0: [array([  4.82035928, 140.92215569,  71.7005988 ,  22.85628743,\n",
       "          94.22155689,  34.68802395,   0.546     ,  37.19161677]),\n",
       "  array([  3.71323154,  31.42446395,  20.86928665,  17.7986999 ,\n",
       "         132.09941825,   7.03869376,   0.37407529,  11.06211863])]}"
      ]
     },
     "execution_count": 8,
     "metadata": {},
     "output_type": "execute_result"
    }
   ],
   "source": [
    "clf.stats"
   ]
  },
  {
   "cell_type": "code",
   "execution_count": 9,
   "metadata": {},
   "outputs": [
    {
     "name": "stdout",
     "output_type": "stream",
     "text": [
      "(767, 9)\n",
      "(506, 8)\n",
      "(506,)\n",
      "(261, 8)\n",
      "(261,)\n"
     ]
    },
    {
     "data": {
      "text/plain": [
       "0.7608695652173914"
      ]
     },
     "execution_count": 9,
     "metadata": {},
     "output_type": "execute_result"
    }
   ],
   "source": [
    "filename = 'indians.csv'\n",
    "dataset = loadCSV(filename)\n",
    "\n",
    "print(dataset.shape)\n",
    "\n",
    "train, test = split_dataset(dataset)\n",
    "x_train, y_train = train[:, 0:-1], train[:, -1]\n",
    "x_test, y_test = test[:, 0:-1], test[:, -1]\n",
    "\n",
    "print(x_train.shape)\n",
    "print(y_train.shape)\n",
    "print(x_test.shape)\n",
    "print(y_test.shape)\n",
    "\n",
    "clf = NaiveBayes()\n",
    "clf.train(x_train, y_train)\n",
    "\n",
    "clf.score(x_train, y_train)\n"
   ]
  },
  {
   "cell_type": "code",
   "execution_count": 10,
   "metadata": {},
   "outputs": [
    {
     "data": {
      "text/plain": [
       "0.7126436781609196"
      ]
     },
     "execution_count": 10,
     "metadata": {},
     "output_type": "execute_result"
    }
   ],
   "source": [
    "clf.score(x_test, y_test)"
   ]
  },
  {
   "cell_type": "code",
   "execution_count": null,
   "metadata": {},
   "outputs": [],
   "source": []
  },
  {
   "cell_type": "code",
   "execution_count": null,
   "metadata": {},
   "outputs": [],
   "source": []
  }
 ],
 "metadata": {
  "kernelspec": {
   "display_name": "Python 3",
   "language": "python",
   "name": "python3"
  },
  "language_info": {
   "codemirror_mode": {
    "name": "ipython",
    "version": 3
   },
   "file_extension": ".py",
   "mimetype": "text/x-python",
   "name": "python",
   "nbconvert_exporter": "python",
   "pygments_lexer": "ipython3",
   "version": "3.6.5"
  }
 },
 "nbformat": 4,
 "nbformat_minor": 2
}
