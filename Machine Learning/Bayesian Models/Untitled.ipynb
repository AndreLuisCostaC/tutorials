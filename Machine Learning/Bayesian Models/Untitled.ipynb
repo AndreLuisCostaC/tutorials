{
 "cells": [
  {
   "cell_type": "code",
   "execution_count": 1,
   "metadata": {
    "collapsed": true
   },
   "outputs": [],
   "source": [
    "import csv\n",
    "import random\n",
    "import math\n",
    "import pandas as pd\n",
    "import numpy as np"
   ]
  },
  {
   "cell_type": "code",
   "execution_count": 2,
   "metadata": {
    "collapsed": true
   },
   "outputs": [],
   "source": [
    "# Load the data\n",
    "def loadCSV(filename):\n",
    "    df = pd.read_csv(filename)\n",
    "    return df\n",
    "\n",
    "# Split the data into a tran/test set\n",
    "def split_dataset(dataset, train_percent=.66):\n",
    "    perm = np.random.permutation(dataset)\n",
    "    m = len(dataset)\n",
    "\n",
    "    # Get the split indices\n",
    "    train_end = int(train_percent * m)\n",
    "    train, test = perm[:train_end], perm[train_end:]\n",
    "    return train, test"
   ]
  },
  {
   "cell_type": "code",
   "execution_count": 19,
   "metadata": {},
   "outputs": [],
   "source": [
    "class NaiveBayes(object):\n",
    "    \n",
    "    def __init__(self):\n",
    "        self.groupClass = None\n",
    "        self.stats = None\n",
    "\n",
    "    ################################################\n",
    "    ########## Training Methods ####################\n",
    "    ################################################\n",
    "    def train(self, x, y):\n",
    "        self.splitClasses(x, y)\n",
    "        self.getStats()\n",
    "        pass\n",
    "        \n",
    "    def splitClasses(self, x, y):\n",
    "        \"\"\" Split the classes by their labels\n",
    "        \n",
    "        Create a dictionary which will contain the data for each\n",
    "        label set.\n",
    "        \n",
    "        Args:\n",
    "            - x: the dataset\n",
    "            - y: the labels\n",
    "        \"\"\"\n",
    "        # Dictionary which will hold all the groups\n",
    "        # of data for each label.\n",
    "        groupClass = {}\n",
    "        \n",
    "        # For each datapoint place it in the correct \n",
    "        # dictionary bin.\n",
    "        for instance, label in zip(x, y):\n",
    "            if not label in groupClass:\n",
    "                groupClass.update({label: [instance]})\n",
    "            else:\n",
    "                groupClass[label].append(instance)\n",
    "        self.groupClass = groupClass\n",
    "        \n",
    "    def getStats(self):\n",
    "        \"\"\" Get the statistics.\n",
    "        \n",
    "        For each label group in the dictionary get the relevant\n",
    "        statistics for the Gaussian distribution we will be assuming. \n",
    "        We thus need to get the mean and the variance for each \n",
    "        feature and each label.\n",
    "        \n",
    "        For example. For all datapoints in label 1. Get the mean\n",
    "        and the standard deviation of each feature.\n",
    "        \"\"\"\n",
    "        # Build a dictionary containing all the statistics\n",
    "        stats = {}\n",
    "        # For each label in the dataset\n",
    "        for label in self.groupClass:\n",
    "            # Get the mean and standard deviation.\n",
    "            mean = np.mean(np.asarray(self.groupClass[label]), 0)\n",
    "            std = np.std(np.asarray(self.groupClass[label]), 0)\n",
    "            stats.update({label: [mean, std]})\n",
    "        self.stats = stats\n",
    "    \n",
    "    ################################################\n",
    "    ########## Predicting Methods ##################\n",
    "    ################################################\n",
    "    \n",
    "    def score(self, x, y):\n",
    "        \"\"\" Get the percentage of correctly labeled value.\n",
    "        \n",
    "        For a dataset x and labels y, determine the number\n",
    "        of correctly identified labels from our trained model.\n",
    "        \n",
    "        Args:\n",
    "            - x: the dataset\n",
    "            - y: the labels\n",
    "        \"\"\"\n",
    "        pred = self.predict(x)\n",
    "        return np.sum(1-np.abs(y - pred))/len(x)\n",
    "    \n",
    "    def predict(self, x):\n",
    "        \"\"\" Predict the labels for a dataset \n",
    "        \n",
    "        Args:\n",
    "            - x: the dataset        \n",
    "        \"\"\"\n",
    "        # We will identify the probability of each datapoint\n",
    "        # belonging to each different label class.\n",
    "        # probs shape = (#datapoints X #labels)\n",
    "        probs = np.ones((len(x), len(self.stats)))\n",
    "        \n",
    "        # Iterate through each datapoint\n",
    "        for ix, instance in enumerate(x):\n",
    "            # For each label in the training data\n",
    "            # Calculate the probability of the datapoint\n",
    "            # belonging to that class.\n",
    "            for label in self.stats:\n",
    "                px = self.calculateGaussian(instance, \n",
    "                                            self.stats[label][0], \n",
    "                                            self.stats[label][1])\n",
    "                # Probability of a multiple Gaussians is their products\n",
    "                probs[ix, int(label)] = probs[ix, int(label)] * np.prod(px)\n",
    "        return np.argmax(probs, 1)\n",
    "    \n",
    "    def calculateGaussian(self, x, mean, std):\n",
    "        \"\"\" Calculate the probability of a Gaussian\n",
    "        \n",
    "        Calculate p(x) of a Gaussian with a given \n",
    "        mean and standard deviation.\n",
    "        \n",
    "        Args:\n",
    "            - x: Input value\n",
    "            - mean: The mean of the Gaussian\n",
    "            - std: The standard deviation of the Gaussian        \n",
    "        \"\"\"\n",
    "        exponent = np.exp(-1*(np.power(x-mean,2)/(2*np.power(std,2))))\n",
    "        return (1 / (np.sqrt(2*math.pi) * std)) * exponent"
   ]
  },
  {
   "cell_type": "code",
   "execution_count": 20,
   "metadata": {},
   "outputs": [
    {
     "name": "stdout",
     "output_type": "stream",
     "text": [
      "(767, 9)\n",
      "(506, 8)\n",
      "(506,)\n",
      "(261, 8)\n",
      "(261,)\n"
     ]
    },
    {
     "data": {
      "text/plain": [
       "0.73122529644268774"
      ]
     },
     "execution_count": 20,
     "metadata": {},
     "output_type": "execute_result"
    }
   ],
   "source": [
    "filename = 'indians.csv'\n",
    "dataset = loadCSV(filename)\n",
    "\n",
    "print(dataset.shape)\n",
    "\n",
    "train, test = split_dataset(dataset)\n",
    "x_train, y_train = train[:, 0:-1], train[:, -1]\n",
    "x_test, y_test = test[:, 0:-1], test[:, -1]\n",
    "\n",
    "print(x_train.shape)\n",
    "print(y_train.shape)\n",
    "print(x_test.shape)\n",
    "print(y_test.shape)\n",
    "\n",
    "clf = NaiveBayes()\n",
    "clf.train(x_train, y_train)\n",
    "\n",
    "clf.score(x_train, y_train)\n"
   ]
  },
  {
   "cell_type": "code",
   "execution_count": 21,
   "metadata": {},
   "outputs": [
    {
     "data": {
      "text/plain": [
       "0.77011494252873558"
      ]
     },
     "execution_count": 21,
     "metadata": {},
     "output_type": "execute_result"
    }
   ],
   "source": [
    "clf.score(x_test, y_test)"
   ]
  },
  {
   "cell_type": "code",
   "execution_count": null,
   "metadata": {
    "collapsed": true
   },
   "outputs": [],
   "source": []
  }
 ],
 "metadata": {
  "kernelspec": {
   "display_name": "Python 3",
   "language": "python",
   "name": "python3"
  },
  "language_info": {
   "codemirror_mode": {
    "name": "ipython",
    "version": 3
   },
   "file_extension": ".py",
   "mimetype": "text/x-python",
   "name": "python",
   "nbconvert_exporter": "python",
   "pygments_lexer": "ipython3",
   "version": "3.6.3"
  }
 },
 "nbformat": 4,
 "nbformat_minor": 2
}
