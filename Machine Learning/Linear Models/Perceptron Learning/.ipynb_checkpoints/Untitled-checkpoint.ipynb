{
 "cells": [
  {
   "cell_type": "code",
   "execution_count": 9,
   "metadata": {
    "collapsed": true
   },
   "outputs": [],
   "source": [
    "%matplotlib inline\n",
    "import numpy as np\n",
    "import matplotlib.pyplot as plt"
   ]
  },
  {
   "cell_type": "code",
   "execution_count": 11,
   "metadata": {},
   "outputs": [
    {
     "data": {
      "image/png": "[encoded data removed]",
      "text/plain": [
       "<matplotlib.figure.Figure at 0x29123f84240>"
      ]
     },
     "metadata": {},
     "output_type": "display_data"
    }
   ],
   "source": [
    "df = np.loadtxt(\"perceptron.csv\", delimiter = ',')\n",
    "x = df[:,0:-1]\n",
    "y = df[:,-1]\n",
    "\n",
    "plt.scatter(x[y>0][:,0], x[y>0][:,1], marker = 'x')\n",
    "plt.scatter(x[y<0][:,0], x[y<0][:,1], marker = 'o')\n",
    "plt.title('Perceptron Seperator', fontsize=20)\n",
    "plt.xlabel('Feature 1 ($x_1$)', fontsize=16)\n",
    "plt.ylabel('Feature 2 ($x_2$)', fontsize=16)\n",
    "plt.show()"
   ]
  },
  {
   "cell_type": "code",
   "execution_count": 43,
   "metadata": {},
   "outputs": [],
   "source": [
    "def sigmoid(z):\n",
    "    return 1/(1+np.exp(-1 * z))\n",
    "\n",
    "def derivative_sigmoid(z):\n",
    "    return sigmoid(z) * (1 - sigmoid(z))\n",
    "\n",
    "def derivative_rmse(pred, true):\n",
    "    return np.sum(pred - true)/len(pred)\n",
    "\n",
    "def get_weights(x, y, verbose=0):\n",
    "    shape = x.shape\n",
    "    b = np.zeros((2,))\n",
    "    w = np.random.random_sample((shape[1],))\n",
    "    weights = []\n",
    "    \n",
    "    learning_rate = 0.01\n",
    "    iteration = 0\n",
    "    loss = None\n",
    "    while iteration <= 10 and loss != 0:\n",
    "        \n",
    "        print(x.shape, w.shape)\n",
    "        \n",
    "        print(w)\n",
    "        pred = sigmoid(np.dot(x, w))\n",
    "        print('pred: ', pred)\n",
    "        \n",
    "        d_cost = derivative_rmse(pred, y)\n",
    "        \n",
    "        print(pred - y)\n",
    "        print(d_cost)\n",
    "        \n",
    "        w = w - learning_rate * pred * (1 - pred) * x\n",
    "        weights.append(w) \n",
    "        \n",
    "        iteration += 1\n"
   ]
  },
  {
   "cell_type": "code",
   "execution_count": 44,
   "metadata": {},
   "outputs": [
    {
     "name": "stdout",
     "output_type": "stream",
     "text": [
      "Dataset\n",
      "[[  3.   4.   1.]\n",
      " [  2.   3.   1.]\n",
      " [  5.   5.   1.]\n",
      " [ 10.   9.  -1.]\n",
      " [ 11.  11.  -1.]\n",
      " [  1.  10.   1.]\n",
      " [ 10.   6.  -1.]\n",
      " [  7.   3.  -1.]] \n",
      "\n",
      "(8, 2) (2,)\n",
      "[ 0.39943257  0.76571367]\n",
      "pred:  [ 0.98609018  0.9567277   0.99705803  0.99998128  0.99999728  0.99968309\n",
      "  0.99981382  0.99389892]\n",
      "[ -1.39098248e-02  -4.32722981e-02  -2.94196513e-03   1.99998128e+00\n",
      "   1.99999728e+00  -3.16912055e-04   1.99981382e+00   1.99389892e+00]\n",
      "0.991656287132\n"
     ]
    },
    {
     "ename": "ValueError",
     "evalue": "operands could not be broadcast together with shapes (8,) (8,2) ",
     "output_type": "error",
     "traceback": [
      "\u001b[1;31m---------------------------------------------------------------------------\u001b[0m",
      "\u001b[1;31mValueError\u001b[0m                                Traceback (most recent call last)",
      "\u001b[1;32m<ipython-input-44-ce8ef1e4f55c>\u001b[0m in \u001b[0;36m<module>\u001b[1;34m()\u001b[0m\n\u001b[0;32m      6\u001b[0m \u001b[0mprint\u001b[0m\u001b[1;33m(\u001b[0m\u001b[0mdf\u001b[0m\u001b[1;33m,\u001b[0m \u001b[1;34m'\\n'\u001b[0m\u001b[1;33m)\u001b[0m\u001b[1;33m\u001b[0m\u001b[0m\n\u001b[0;32m      7\u001b[0m \u001b[1;33m\u001b[0m\u001b[0m\n\u001b[1;32m----> 8\u001b[1;33m \u001b[0mw\u001b[0m\u001b[1;33m,\u001b[0m \u001b[0mall_weights\u001b[0m \u001b[1;33m=\u001b[0m \u001b[0mget_weights\u001b[0m\u001b[1;33m(\u001b[0m\u001b[0mx\u001b[0m\u001b[1;33m,\u001b[0m \u001b[0my\u001b[0m\u001b[1;33m)\u001b[0m\u001b[1;33m\u001b[0m\u001b[0m\n\u001b[0m\u001b[0;32m      9\u001b[0m \u001b[0mx\u001b[0m \u001b[1;33m=\u001b[0m \u001b[0mnp\u001b[0m\u001b[1;33m.\u001b[0m\u001b[0minsert\u001b[0m\u001b[1;33m(\u001b[0m\u001b[0mx\u001b[0m\u001b[1;33m,\u001b[0m \u001b[1;36m0\u001b[0m\u001b[1;33m,\u001b[0m \u001b[1;36m1\u001b[0m\u001b[1;33m,\u001b[0m \u001b[0maxis\u001b[0m\u001b[1;33m=\u001b[0m\u001b[1;36m1\u001b[0m\u001b[1;33m)\u001b[0m\u001b[1;33m\u001b[0m\u001b[0m\n\u001b[0;32m     10\u001b[0m \u001b[1;33m\u001b[0m\u001b[0m\n",
      "\u001b[1;32m<ipython-input-43-d904936dfbe1>\u001b[0m in \u001b[0;36mget_weights\u001b[1;34m(x, y, verbose)\u001b[0m\n\u001b[0;32m     27\u001b[0m         \u001b[0mprint\u001b[0m\u001b[1;33m(\u001b[0m\u001b[0md_cost\u001b[0m\u001b[1;33m)\u001b[0m\u001b[1;33m\u001b[0m\u001b[0m\n\u001b[0;32m     28\u001b[0m \u001b[1;33m\u001b[0m\u001b[0m\n\u001b[1;32m---> 29\u001b[1;33m         \u001b[0mw\u001b[0m \u001b[1;33m=\u001b[0m \u001b[0mw\u001b[0m \u001b[1;33m-\u001b[0m \u001b[0mlearning_rate\u001b[0m \u001b[1;33m*\u001b[0m \u001b[0mpred\u001b[0m \u001b[1;33m*\u001b[0m \u001b[1;33m(\u001b[0m\u001b[1;36m1\u001b[0m \u001b[1;33m-\u001b[0m \u001b[0mpred\u001b[0m\u001b[1;33m)\u001b[0m \u001b[1;33m*\u001b[0m \u001b[0mx\u001b[0m\u001b[1;33m\u001b[0m\u001b[0m\n\u001b[0m\u001b[0;32m     30\u001b[0m         \u001b[0mweights\u001b[0m\u001b[1;33m.\u001b[0m\u001b[0mappend\u001b[0m\u001b[1;33m(\u001b[0m\u001b[0mw\u001b[0m\u001b[1;33m)\u001b[0m\u001b[1;33m\u001b[0m\u001b[0m\n\u001b[0;32m     31\u001b[0m \u001b[1;33m\u001b[0m\u001b[0m\n",
      "\u001b[1;31mValueError\u001b[0m: operands could not be broadcast together with shapes (8,) (8,2) "
     ]
    }
   ],
   "source": [
    "df = np.loadtxt(\"perceptron.csv\", delimiter = ',')\n",
    "x = df[:,0:-1]\n",
    "y = df[:,-1]\n",
    "\n",
    "print('Dataset')\n",
    "print(df, '\\n')\n",
    "\n",
    "w, all_weights = get_weights(x, y)\n",
    "x = np.insert(x, 0, 1, axis=1)\n",
    "\n",
    "pred = np.dot(x, w.T)\n",
    "pred[pred > 0] =  1\n",
    "pred[pred < 0] = -1\n",
    "print('Predictions', pred)"
   ]
  },
  {
   "cell_type": "code",
   "execution_count": null,
   "metadata": {
    "collapsed": true
   },
   "outputs": [],
   "source": [
    "def _get_weights_(x, y, verbose = 0):\n",
    "    shape = x.shape\n",
    "    x = x\n",
    "    b = np.zeros((2,))\n",
    "    w = np.random.random_sample((shape[1],))\n",
    "    weights = []\n",
    "    \n",
    "    learning_rate = 0.01\n",
    "    iteration = 0\n",
    "    loss = None\n",
    "    while iteration <= 100 and loss != 0:\n",
    "        \n",
    "        for ix, i in enumerate(x):\n",
    "            \n",
    "            \n",
    "            \n",
    "            pred = 1/(1+np.exp(-1*np.dot(i,w)))\n",
    "            if pred > 0: pred = 1\n",
    "            elif pred < 0: pred = -1\n",
    "            if pred != y[ix]:\n",
    "                w = w - learning_rate * pred * (1-pred) * i\n",
    "            weights.append(w)    \n",
    "            \n",
    "            if verbose == 1:\n",
    "                print('X_i = ', i, '    y = ', y[ix])\n",
    "                print('Pred: ', pred )\n",
    "                print('Weights', w)\n",
    "                print('------------------------------------------')\n",
    "        \n",
    "        \n",
    "        loss = np.dot(x, w)\n",
    "        loss[loss<0] = -1\n",
    "        loss[loss>0] = 1\n",
    "        loss = np.sum(loss - y )\n",
    "        \n",
    "        if verbose == 1:\n",
    "            print('------------------------------------------')\n",
    "            print('------------------------------------------')\n",
    "            print('------------------------------------------')\n",
    "            print(np.sum(loss - y ))\n",
    "            print('------------------------------------------')\n",
    "            print('------------------------------------------')\n",
    "            print('------------------------------------------')\n",
    "        if iteration%10 == 0: learning_rate = learning_rate / 2\n",
    "        iteration += 1    \n",
    "    print('Weights: ', w)\n",
    "    print('Loss: ', loss)\n",
    "    return w, weights"
   ]
  },
  {
   "cell_type": "code",
   "execution_count": null,
   "metadata": {
    "scrolled": false
   },
   "outputs": [],
   "source": [
    "all_weights\n",
    "\n",
    "for ix, w in enumerate(all_weights):\n",
    "    if ix % 10 == 0:\n",
    "        print('Weights:', w)\n",
    "        x1 = np.linspace(np.amin(x[:,1]),np.amax(x[:,2]),2)\n",
    "        x2 = np.zeros((2,))\n",
    "        for ix, i in enumerate(x1):\n",
    "            x2[ix] = (-w[0] - w[1]*i) / w[2]\n",
    "        print('$0 = ' + str(-w[0]) + ' - ' + str(w[1]) + 'x_1'+ ' - ' + str(w[2]) + 'x_2$')\n",
    "        \n",
    "        plt.scatter(x[y>0][:,1], x[y>0][:,2], marker = 'x')\n",
    "        plt.scatter(x[y<0][:,1], x[y<0][:,2], marker = 'o')\n",
    "        plt.plot(x1,x2)\n",
    "        plt.title('Perceptron Seperator', fontsize=20)\n",
    "        plt.xlabel('Feature 1 ($x_1$)', fontsize=16)\n",
    "        plt.ylabel('Feature 2 ($x_2$)', fontsize=16)\n",
    "        plt.show()"
   ]
  },
  {
   "cell_type": "code",
   "execution_count": null,
   "metadata": {
    "collapsed": true
   },
   "outputs": [],
   "source": []
  }
 ],
 "metadata": {
  "kernelspec": {
   "display_name": "Python 3",
   "language": "python",
   "name": "python3"
  },
  "language_info": {
   "codemirror_mode": {
    "name": "ipython",
    "version": 3
   },
   "file_extension": ".py",
   "mimetype": "text/x-python",
   "name": "python",
   "nbconvert_exporter": "python",
   "pygments_lexer": "ipython3",
   "version": "3.6.3"
  }
 },
 "nbformat": 4,
 "nbformat_minor": 2
}
