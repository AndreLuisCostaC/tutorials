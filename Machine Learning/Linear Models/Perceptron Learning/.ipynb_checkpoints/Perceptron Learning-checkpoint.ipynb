{
 "cells": [
  {
   "cell_type": "markdown",
   "source": [
    "# Perceptron learning\n",
    "\n",
    "The perceptron function can take on many functions. In this example we will look at the step function of a linear combination of the inputs. The perceptron function is \n",
    "\n",
    "$\\hat{y_i} = \\begin{cases} -1, & \\mbox{if } w^T x_i<0 \\\\ +1, & \\mbox{if } w^T x_i > 0 \\end{cases}$\n",
    "\n",
    "where the predicted class for an instance $i$ is $\\hat{y_i}$, the weight vector is $w$ and the features of the instance is $x_i$ and has dimensionality $m$.\n",
    "\n",
    "There is no closed form solution for determining $w$ thus we use gradient descent to minimize the prediction errors.\n",
    "\n",
    "## Optimization algorithm\n",
    "\n",
    "Initialize the weight vector to 0.\n",
    "\n",
    "$w = [0, 0, ..., 0_{m+1}]$.\n",
    "\n",
    "Do until convergence:\n",
    "\n",
    "At each iteration, take a random instance $x_i \\in X$ and predict its class $\\hat{y}$.\n",
    "\n",
    "if $\\hat{y} == y_i$: $w^{(k+1)} = w^{(k)} + \\rho^{(k)}\\hat{y_i}x_i$\n",
    "\n",
    "else: do nothing"
   ]
  },
  {
   "cell_type": "code",
   "execution_count": 1,
   "metadata": {
    "collapsed": true
   },
   "outputs": [],
   "source": [
    "%matplotlib inline\n",
    "import numpy as np\n",
    "import matplotlib.pyplot as plt"
   ]
  },
  {
   "cell_type": "code",
   "execution_count": 7,
   "metadata": {},
   "outputs": [],
   "source": [
    "def get_weights(x, y, verbose = 0):\n",
    "    shape = x.shape\n",
    "    x = np.insert(x, 0, 1, axis=1)\n",
    "    w = np.ones((shape[1]+1,))\n",
    "    weights = []\n",
    "    \n",
    "    learning_rate = 10\n",
    "    iteration = 0\n",
    "    loss = None\n",
    "    while iteration <= 1000 and loss != 0:\n",
    "        for ix, i in enumerate(x):\n",
    "            pred = np.dot(i,w)\n",
    "            if pred > 0: pred = 1\n",
    "            elif pred < 0: pred = -1\n",
    "            if pred != y[ix]:\n",
    "                w = w - learning_rate * pred * i\n",
    "            weights.append(w)    \n",
    "            if verbose == 1:\n",
    "                print('X_i = ', i, '    y = ', y[ix])\n",
    "                print('Pred: ', pred )\n",
    "                print('Weights', w)\n",
    "                print('------------------------------------------')\n",
    "        \n",
    "        \n",
    "        loss = np.dot(x, w)\n",
    "        loss[loss<0] = -1\n",
    "        loss[loss>0] = 1\n",
    "        loss = np.sum(loss - y )\n",
    "        \n",
    "        if verbose == 1:\n",
    "            print('------------------------------------------')\n",
    "            print('------------------------------------------')\n",
    "            print('------------------------------------------')\n",
    "            print(np.sum(loss - y ))\n",
    "            print('------------------------------------------')\n",
    "            print('------------------------------------------')\n",
    "            print('------------------------------------------')\n",
    "        if iteration%10 == 0: learning_rate = learning_rate / 2\n",
    "        iteration += 1    \n",
    "    print('Weights: ', w)\n",
    "    print('Loss: ', loss)\n",
    "    return w, weights"
   ]
  },
  {
   "cell_type": "markdown",
   "metadata": {},
   "source": [
    "Import the data from the \"perceptron.csv\" file and seperate into the feature set, $X$, and the labels, $Y$."
   ]
  },
  {
   "cell_type": "code",
   "execution_count": 11,
   "metadata": {},
   "outputs": [
    {
     "name": "stdout",
     "output_type": "stream",
     "text": [
      "Dataset\n",
      "[[  3.   4.   1.]\n",
      " [  2.   3.   1.]\n",
      " [  5.   5.   1.]\n",
      " [ 10.   9.  -1.]\n",
      " [ 11.  11.  -1.]\n",
      " [  1.  10.   1.]\n",
      " [ 10.   6.  -1.]\n",
      " [  7.   3.  -1.]] \n",
      "\n",
      "Weights:  [  88.5 -114.    98.5]\n",
      "Loss:  0.0\n",
      "Predictions [ 1.  1.  1. -1. -1.  1. -1. -1.]\n"
     ]
    }
   ],
   "source": [
    "df = np.loadtxt(\"perceptron.csv\", delimiter = ',')\n",
    "x = df[:,0:-1]\n",
    "y = df[:,-1]\n",
    "\n",
    "print('Dataset')\n",
    "print(df, '\\n')\n",
    "\n",
    "w, all_weights = get_weights(x, y)\n",
    "x = np.insert(x, 0, 1, axis=1)\n",
    "\n",
    "pred = np.dot(x, w)\n",
    "pred[pred > 0] =  1\n",
    "pred[pred < 0] = -1\n",
    "print('Predictions', pred)"
   ]
  },
  {
   "cell_type": "markdown",
   "metadata": {},
   "source": [
    "# Plotting results\n",
    "\n",
    "We can visualize our linear separator by putting the dataset on the plot and drawing the line defined by the weight vector $w$. "
   ]
  },
  {
   "cell_type": "code",
   "execution_count": 12,
   "metadata": {},
   "outputs": [
    {
     "data": {
      "image/png": "[encoded data removed]",
      "text/plain": [
       "<matplotlib.figure.Figure at 0x1c084209ba8>"
      ]
     },
     "metadata": {},
     "output_type": "display_data"
    }
   ],
   "source": [
    "x1 = np.linspace(np.amin(x[:,1]),np.amax(x[:,2]),2)\n",
    "x2 = np.zeros((2,))\n",
    "for ix, i in enumerate(x1):\n",
    "    x2[ix] = (-w[0] - w[1]*i) / w[2]\n",
    "\n",
    "plt.scatter(x[y>0][:,1], x[y>0][:,2], marker = 'x')\n",
    "plt.scatter(x[y<0][:,1], x[y<0][:,2], marker = 'o')\n",
    "plt.plot(x1,x2)\n",
    "plt.title('Perceptron Seperator', fontsize=20)\n",
    "plt.xlabel('Feature 1 ($x_1$)', fontsize=16)\n",
    "plt.ylabel('Feature 2 ($x_2$)', fontsize=16)\n",
    "plt.show()"
   ]
  },
  {
   "cell_type": "code",
   "execution_count": null,
   "metadata": {
    "collapsed": true
   },
   "outputs": [],
   "source": [
    "al"
   ]
  }
 ],
 "metadata": {
  "kernelspec": {
   "display_name": "Python 3",
   "language": "python",
   "name": "python3"
  },
  "language_info": {
   "codemirror_mode": {
    "name": "ipython",
    "version": 3
   },
   "file_extension": ".py",
   "mimetype": "text/x-python",
   "name": "python",
   "nbconvert_exporter": "python",
   "pygments_lexer": "ipython3",
   "version": "3.6.3"
  }
 },
 "nbformat": 4,
 "nbformat_minor": 2
}
