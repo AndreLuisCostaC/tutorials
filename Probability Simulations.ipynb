{
 "cells": [
  {
   "cell_type": "markdown",
   "metadata": {},
   "source": [
    "# Bertrand's box paradox\n",
    "\n",
    "Sometimes even when a logically sound analytical solution is found for a problem skepticism remains. Thus, empirical simulation can be a useful tool to verify results. Bertrand's box paradox is one such example. \n",
    "\n",
    "There are three boxes:\n",
    "\n",
    "- a box containing two gold coins,\n",
    "- a box containing two silver coins,\n",
    "- a box containing one gold coin and a silver coin.\n",
    "\n",
    "The 'paradox' is in the probability, after choosing a box at random and withdrawing one coin at random, if that happens to be a gold coin, of the next coin drawn from the same box also being a gold coin.\n",
    "\n",
    "A quick python script can easily simulate this game thousands of times and get a solid probability for this paradox in expectation. When trying to convince people through simulation it is often wise to be explicit in describing the game to avoid confusion when presenting results."
   ]
  },
  {
   "cell_type": "code",
   "execution_count": 28,
   "metadata": {
    "collapsed": false
   },
   "outputs": [
    {
     "name": "stdout",
     "output_type": "stream",
     "text": [
      "0.6649433286935773\n"
     ]
    }
   ],
   "source": [
    "import numpy as np\n",
    "\n",
    "# Initialize the outcomes\n",
    "success = 0                 # 2 gold coins found\n",
    "good_trials = 0             # 1 gold coin found (1st condition satisfied)\n",
    "\n",
    "# Initialize the boxes as\n",
    "box1 = [0,0];               # 2 silver coins   \n",
    "box2 = [0,1];               # 1 silver and 1 gold coin\n",
    "box3 = [1,1];               # 2 gold coins\n",
    "\n",
    "# The number of times we want to repeat the event\n",
    "n_trials = 10000\n",
    "\n",
    "for i in range(0, n_trials):\n",
    "    # This will explicitly hold the value of the coin that \n",
    "    # was picked during each trial.\n",
    "    pick1 = 0;\n",
    "    pick2 = 0;\n",
    "    \n",
    "    # Randomly select a number [0, 2]. This is the box we have selected.\n",
    "    box_pick = np.random.randint(1, high=4, size=1);\n",
    "\n",
    "    # If box 1 was picked then both coins are silver.\n",
    "    if(box_pick==1):\n",
    "        pick1 = 0;\n",
    "        pick2 = 0;\n",
    "        \n",
    "    # If box 2 was picked\n",
    "    if(box_pick==2):\n",
    "        # Randomly select a number in [0, 1] = [Silver, Gold] \n",
    "        pick1 = box2[np.random.randint(0, high=2, size=1)[0]];\n",
    "        # If a gold coin was picked then the second coin will be silver\n",
    "        # The first condition has been met.\n",
    "        if(pick1==1):\n",
    "            pick2 = 0;\n",
    "            good_trials = good_trials + 1;\n",
    "        # If a silver coin was picked then the second coin will be gold\n",
    "        # The first condition has not been met.\n",
    "        else:\n",
    "            pick2 = 1;\n",
    "     \n",
    "    # If box 3 was picked then both coins are gold\n",
    "    # The first condition will alsways be met.\n",
    "    if(box_pick==3):\n",
    "        pick1 = 1;\n",
    "        pick2 = 1;\n",
    "        good_trials = good_trials + 1;\n",
    "    \n",
    "    # If both coins picked were gold then this is a successful trial.\n",
    "    # It satisfies the second condition.\n",
    "    if(pick1 ==1 and pick2 == 1):\n",
    "        success = success + 1\n",
    "        \n",
    "# Print the probability of both coins being gold given the first ball\n",
    "# picked was gold.\n",
    "print(success/good_trials)        "
   ]
  },
  {
   "cell_type": "markdown",
   "metadata": {
    "collapsed": false
   },
   "source": [
    "The greater the number of times we repeat the event the more accurate our estimate will be. We can see how the number of trials affects the outcomes."
   ]
  },
  {
   "cell_type": "code",
   "execution_count": 41,
   "metadata": {
    "collapsed": false
   },
   "outputs": [],
   "source": [
    "import random\n",
    "import numpy as np\n",
    "import matplotlib.pyplot as plt\n",
    "\n",
    "num_tries = [1,2,5,10,15,25,50,75,100,250,500,1000,10000, 100000, 1000000];\n",
    "results = np.zeros((len(num_tries), 1));\n",
    "\n",
    "for j in range(0, len(num_tries)):\n",
    "    # Initialize the outcomes\n",
    "    success = 0                 # 2 gold coins found\n",
    "    good_trials = 0             # 1 gold coin found (1st condition satisfied)\n",
    "\n",
    "    # Initialize the boxes as\n",
    "    box1 = [0,0];               # 2 silver coins   \n",
    "    box2 = [0,1];               # 1 silver and 1 gold coin\n",
    "    box3 = [1,1];               # 2 gold coins\n",
    "\n",
    "    for i in range(0, num_tries[j]):\n",
    "        # This will explicitly hold the value of the coin that \n",
    "        # was picked during each trial.\n",
    "        pick1 = 0;\n",
    "        pick2 = 0;\n",
    "    \n",
    "        # Randomly select a number [0, 2]. This is the box we have selected.\n",
    "        box_pick = np.random.randint(1, high=4, size=1);\n",
    "\n",
    "        # If box 1 was picked then both coins are silver.\n",
    "        if(box_pick==1):\n",
    "            pick1 = 0;\n",
    "            pick2 = 0;\n",
    "        \n",
    "        # If box 2 was picked\n",
    "        if(box_pick==2):\n",
    "            # Randomly select a number in [0, 1] = [Silver, Gold] \n",
    "            pick1 = box2[np.random.randint(0, high=2, size=1)[0]];\n",
    "            # If a gold coin was picked then the second coin will be silver\n",
    "            # The first condition has been met.\n",
    "            if(pick1==1):\n",
    "                pick2 = 0;\n",
    "                good_trials = good_trials + 1;\n",
    "                # If a silver coin was picked then the second coin will be gold\n",
    "                # The first condition has not been met.\n",
    "            else:\n",
    "                pick2 = 1;\n",
    "     \n",
    "        # If box 3 was picked then both coins are gold\n",
    "        # The first condition will alsways be met.\n",
    "        if(box_pick==3):\n",
    "            pick1 = 1;\n",
    "            pick2 = 1;\n",
    "            good_trials = good_trials + 1;\n",
    "    \n",
    "        # If both coins picked were gold then this is a successful trial.\n",
    "        # It satisfies the second condition.\n",
    "        if(pick1 == 1 and pick2 == 1):\n",
    "            success = success + 1\n",
    "    \n",
    "    if not good_trials == 0:\n",
    "        results[j] = success/good_trials\n",
    "    else:\n",
    "        results[j] = 0\n",
    "\n",
    "plt.plot(np.log(num_tries), results)\n",
    "plt.ylim(0, 1.0)\n",
    "plt.show()"
   ]
  },
  {
   "cell_type": "markdown",
   "metadata": {
    "collapsed": true
   },
   "source": [
    "# Boxes with labels\n",
    "\n",
    "If I have 12 boxes, in order of #1 to #12, and I close my eyes and stick a known label (A to L) on a random box, what is the probability that I get zero correct labels on the corresponding boxes?"
   ]
  },
  {
   "cell_type": "code",
   "execution_count": 76,
   "metadata": {
    "collapsed": false
   },
   "outputs": [
    {
     "name": "stdout",
     "output_type": "stream",
     "text": [
      "[ 0.375078]\n"
     ]
    }
   ],
   "source": [
    "import random\n",
    "import numpy as np\n",
    "import matplotlib.pyplot as plt\n",
    "\n",
    "num_tries = [1,2,5,10,15,25,50,100,500,1000,10000, 100000, 1000000];\n",
    "#num_tries = [1000];\n",
    "\n",
    "x = [1, 2, 3, 4, 5, 6, 7, 8, 9, 10, 11, 12]\n",
    "x = [1,2,3,4]\n",
    "\n",
    "results = np.zeros((len(num_tries), 1));\n",
    "\n",
    "for j in range(0, len(num_tries)):\n",
    "    success = 0\n",
    "    trials = 0\n",
    "    for i in range(0,num_tries[j]):\n",
    "        trials += 1\n",
    "        y = np.random.permutation(len(x)) + 1\n",
    "        \n",
    "        if not 0 in x-y:\n",
    "            success += 1\n",
    "    \n",
    "    results[j] = success/trials\n",
    "\n",
    "print(results[-1])\n",
    "\n",
    "plt.plot(np.log(num_tries), results)\n",
    "plt.ylim(0, 1.0)\n",
    "plt.show()"
   ]
  },
  {
   "cell_type": "markdown",
   "metadata": {},
   "source": [
    "# Monty Hall Game\n",
    "\n",
    "Suppose you're on a game show, and you're given the choice of three doors: Behind one door is a car; behind the others, goats. You pick a door, say No. 1, and the host, who knows what's behind the doors, opens another door, say No. 3, which has a goat. He then says to you, \"Do you want to pick door No. 2?\" Is it to your advantage to switch your choice?"
   ]
  },
  {
   "cell_type": "code",
   "execution_count": 141,
   "metadata": {
    "collapsed": false
   },
   "outputs": [
    {
     "name": "stdout",
     "output_type": "stream",
     "text": [
      "[ 0.666241]\n"
     ]
    }
   ],
   "source": [
    "import random\n",
    "import numpy as np\n",
    "import matplotlib.pyplot as plt\n",
    "\n",
    "num_tries = [1,2,5,10,15,25,50,100,500,1000,10000, 100000, 1000000];\n",
    "#num_tries = [1000];\n",
    "\n",
    "results = np.zeros((len(num_tries), 1));\n",
    "\n",
    "for j in range(0, len(num_tries)):\n",
    "    \n",
    "    decision = 'switch' # 'switch'\n",
    "    num_doors = 3\n",
    "    \n",
    "    success = 0\n",
    "    trials = 0\n",
    "    \n",
    "    for i in range(0,num_tries[j]):\n",
    "        trials += 1\n",
    "        \n",
    "        doors = np.zeros((num_doors,1))\n",
    "        doors[np.random.randint(0, high=num_doors, size=1)[0]] = 1\n",
    "        \n",
    "        door_picked = np.random.randint(0, high=num_doors, size=1)\n",
    "        \n",
    "        if(decision == 'stay'):\n",
    "            if(doors[door_picked] == 1):\n",
    "                success += 1\n",
    "                \n",
    "        if(decision == 'switch'):\n",
    "            if(not doors[door_picked] == 1):\n",
    "                success += 1        \n",
    "    \n",
    "    results[j] = success/trials\n",
    "\n",
    "print(results[-1])\n",
    "\n",
    "plt.plot(np.log(num_tries), results)\n",
    "plt.ylim(0, 1.0)\n",
    "plt.show()"
   ]
  },
  {
   "cell_type": "code",
   "execution_count": null,
   "metadata": {
    "collapsed": true
   },
   "outputs": [],
   "source": []
  }
 ],
 "metadata": {
  "kernelspec": {
   "display_name": "Python 3",
   "language": "python",
   "name": "python3"
  },
  "language_info": {
   "codemirror_mode": {
    "name": "ipython",
    "version": 3
   },
   "file_extension": ".py",
   "mimetype": "text/x-python",
   "name": "python",
   "nbconvert_exporter": "python",
   "pygments_lexer": "ipython3",
   "version": "3.4.5"
  }
 },
 "nbformat": 4,
 "nbformat_minor": 0
}
