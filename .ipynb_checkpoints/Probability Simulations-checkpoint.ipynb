{
 "cells": [
  {
   "cell_type": "markdown",
   "metadata": {},
   "source": [
    "# Bertrand's box paradox\n",
    "\n",
    "Sometimes even when a logically sound analytical solution is found for a problem skepticism remains. Thus, empirical simulation can be a useful tool to verify results. Bertrand's box paradox is one such example. \n",
    "\n",
    "There are three boxes:\n",
    "\n",
    "- a box containing two gold coins,\n",
    "- a box containing two silver coins,\n",
    "- a box containing one gold coin and a silver coin.\n",
    "\n",
    "The 'paradox' is in the probability, after choosing a box at random and withdrawing one coin at random, if that happens to be a gold coin, of the next coin drawn from the same box also being a gold coin.\n",
    "\n",
    "A quick python script can easily simulate this game. We will write the game very explicitly such that the game is clear. However, this code can be significantly optimized."
   ]
  },
  {
   "cell_type": "code",
   "execution_count": 208,
   "metadata": {},
   "outputs": [],
   "source": [
    "def BertrandsBox():\n",
    "    # Initialize the boxes as\n",
    "    # 0 - is a silver coin\n",
    "    # 1 - is a gold coin\n",
    "    boxes = {0: [0,0],\n",
    "             1: [0,1],\n",
    "             2: [1,1]}\n",
    "    \n",
    "    # Randomly select a box\n",
    "    box_pick = np.random.choice([0,1,2])\n",
    "    box = boxes[box_pick]\n",
    "    \n",
    "    # Pick a coin from the box\n",
    "    # Then take the remaining one\n",
    "    pick = np.random.randint(0, len(box))\n",
    "    first_pick = box[pick]\n",
    "    second_pick = box[1-pick]\n",
    "    \n",
    "    # Check if successful\n",
    "    # -1: The initial condition is not met\n",
    "    #  0: The initial condition is met but not the second\n",
    "    #  1: Both the initial and second condition are met\n",
    "    if first_pick == 0:    return -1\n",
    "    elif second_pick == 1: return 1\n",
    "    else:                  return 0"
   ]
  },
  {
   "cell_type": "code",
   "execution_count": 209,
   "metadata": {},
   "outputs": [
    {
     "data": {
      "text/plain": [
       "1"
      ]
     },
     "execution_count": 209,
     "metadata": {},
     "output_type": "execute_result"
    }
   ],
   "source": [
    "BertrandsBox()"
   ]
  },
  {
   "cell_type": "markdown",
   "metadata": {},
   "source": [
    "A quick python script can easily simulate this game thousands of times and get a solid probability for this paradox in expectation. When trying to convince people through simulation it is often wise to be explicit in describing the game to avoid confusion when presenting results."
   ]
  },
  {
   "cell_type": "code",
   "execution_count": 213,
   "metadata": {},
   "outputs": [
    {
     "name": "stdout",
     "output_type": "stream",
     "text": [
      "0.6628628628628629\n"
     ]
    }
   ],
   "source": [
    "import numpy as np\n",
    "\n",
    "# Initialize the outcomes\n",
    "success = 0                 # 2 gold coins found\n",
    "good_trials = 0             # 1 gold coin found (1st condition satisfied)\n",
    "\n",
    "# The number of times we want to repeat the event\n",
    "n_trials = 10000\n",
    "\n",
    "for i in range(0, n_trials):\n",
    "    game_result = BertrandsBox()\n",
    "    if game_result == -1: continue\n",
    "    elif game_result == 1: success += 1\n",
    "    good_trials += 1\n",
    "        \n",
    "# Print the probability of both coins being gold given the first ball\n",
    "# picked was gold.\n",
    "print(success/good_trials)        "
   ]
  },
  {
   "cell_type": "markdown",
   "metadata": {},
   "source": [
    "The greater the number of times we repeat the event the more accurate our estimate will be. We can see how the number of trials affects the outcomes."
   ]
  },
  {
   "cell_type": "code",
   "execution_count": 218,
   "metadata": {},
   "outputs": [
    {
     "name": "stdout",
     "output_type": "stream",
     "text": [
      "Result:  0.6669471235515834\n"
     ]
    },
    {
     "data": {
      "image/png": "[encoded data removed]",
      "text/plain": [
       "<Figure size 432x288 with 1 Axes>"
      ]
     },
     "metadata": {},
     "output_type": "display_data"
    }
   ],
   "source": [
    "import random\n",
    "import numpy as np\n",
    "import matplotlib.pyplot as plt\n",
    "\n",
    "num_tries = [1,2,5,10,15,25,50,75,100,250,500,1000,10000, 100000, 1000000];\n",
    "results = []\n",
    "\n",
    "for j in range(0, len(num_tries)):\n",
    "    # Initialize the outcomes\n",
    "    success = 0                 # 2 gold coins found\n",
    "    good_trials = 0             # 1 gold coin found (1st condition satisfied)\n",
    "\n",
    "    for i in range(0, num_tries[j]):\n",
    "        game_result = BertrandsBox()\n",
    "        # If the first condition is not met\n",
    "        if game_result == -1: continue\n",
    "        # If the game is a success\n",
    "        elif game_result == 1: success += 1\n",
    "        good_trials += 1\n",
    "    \n",
    "    if good_trials == 0: results.append(0)\n",
    "    else: results.append(success/good_trials)\n",
    "\n",
    "print('Result: ', results[-1])\n",
    "plt.plot(np.log(num_tries), results)\n",
    "plt.ylim(0, 1.0)\n",
    "plt.ylabel('Probability')\n",
    "plt.show()"
   ]
  },
  {
   "cell_type": "markdown",
   "metadata": {
    "collapsed": true
   },
   "source": [
    "# Boxes with labels\n",
    "\n",
    "If I have 12 boxes, in order of #1 to #12, and I close my eyes and stick a known label (A to L) on a random box, what is the probability that I get zero correct labels on the corresponding boxes?"
   ]
  },
  {
   "cell_type": "code",
   "execution_count": 234,
   "metadata": {},
   "outputs": [
    {
     "name": "stdout",
     "output_type": "stream",
     "text": [
      "0.375164\n"
     ]
    },
    {
     "data": {
      "image/png": "[encoded data removed]",
      "text/plain": [
       "<Figure size 432x288 with 1 Axes>"
      ]
     },
     "metadata": {},
     "output_type": "display_data"
    }
   ],
   "source": [
    "import random\n",
    "import numpy as np\n",
    "import matplotlib.pyplot as plt\n",
    "\n",
    "num_tries = [1,2,5,10,15,25,50,100,500,1000,10000, 100000, 1000000]\n",
    "#num_tries = [1,2,3,5,100,1000,10000]\n",
    "\n",
    "x = [1, 2, 3, 4, 5, 6, 7, 8, 9, 10, 11, 12]\n",
    "x = [1,2,3,4]\n",
    "\n",
    "results = []\n",
    "\n",
    "for j in range(0, len(num_tries)):\n",
    "    success = 0\n",
    "    trials = 0\n",
    "    \n",
    "    for i in range(0,num_tries[j]):\n",
    "        trials += 1\n",
    "        y = np.random.permutation(len(x)) + 1\n",
    "        if not 0 in x-y: success += 1\n",
    "    results.append(success/trials)\n",
    "\n",
    "print(results[-1])\n",
    "plt.plot(np.log(num_tries), results)\n",
    "plt.ylim(0, 1.0)\n",
    "plt.ylabel('Probability')\n",
    "plt.show()"
   ]
  },
  {
   "cell_type": "markdown",
   "metadata": {},
   "source": [
    "# Monty Hall Game\n",
    "\n",
    "Suppose you're on a game show, and you're given the choice of three doors: Behind one door is a car; behind the others, goats. You pick a door, say No. 1, and the host, who knows what's behind the doors, opens another door, say No. 3, which has a goat. He then says to you, \"Do you want to pick door No. 2?\" Is it to your advantage to switch your choice?"
   ]
  },
  {
   "cell_type": "code",
   "execution_count": 255,
   "metadata": {},
   "outputs": [
    {
     "name": "stdout",
     "output_type": "stream",
     "text": [
      "0.666903\n"
     ]
    },
    {
     "data": {
      "image/png": "[encoded data removed]",
      "text/plain": [
       "<Figure size 432x288 with 1 Axes>"
      ]
     },
     "metadata": {},
     "output_type": "display_data"
    }
   ],
   "source": [
    "import random\n",
    "import numpy as np\n",
    "import matplotlib.pyplot as plt\n",
    "\n",
    "num_tries = [1,2,5,10,15,25,50,100,500,1000,10000, 100000, 1000000]\n",
    "#num_tries = [1, 5, 1000, 10000]\n",
    "\n",
    "results = []\n",
    "\n",
    "for j in range(0, len(num_tries)):\n",
    "    decision = 'switch' # 'switch', 'stay'\n",
    "    num_doors = 3\n",
    "    \n",
    "    success = 0\n",
    "    trials = 0\n",
    "    \n",
    "    for i in range(0,num_tries[j]):\n",
    "        trials += 1\n",
    "        \n",
    "        # Set up the doors and put a prize randomly behind one\n",
    "        doors = np.zeros((num_doors,1))\n",
    "        doors[np.random.choice(range(num_doors))] = 1\n",
    "        \n",
    "        # Pick a random door\n",
    "        door_picked = np.random.randint(0, high=num_doors, size=1)\n",
    "        \n",
    "        if(decision == 'stay'):\n",
    "            if(doors[door_picked] == 1): success += 1\n",
    "        if(decision == 'switch'):\n",
    "            if(not doors[door_picked] == 1): success += 1        \n",
    "    results.append(success/trials)\n",
    "\n",
    "print(results[-1])\n",
    "plt.plot(np.log(num_tries), results)\n",
    "plt.ylim(0, 1.0)\n",
    "plt.ylabel('Probability')\n",
    "plt.show()"
   ]
  },
  {
   "cell_type": "code",
   "execution_count": null,
   "metadata": {
    "collapsed": true
   },
   "outputs": [],
   "source": []
  }
 ],
 "metadata": {
  "kernelspec": {
   "display_name": "Python 3",
   "language": "python",
   "name": "python3"
  },
  "language_info": {
   "codemirror_mode": {
    "name": "ipython",
    "version": 3
   },
   "file_extension": ".py",
   "mimetype": "text/x-python",
   "name": "python",
   "nbconvert_exporter": "python",
   "pygments_lexer": "ipython3",
   "version": "3.6.5"
  }
 },
 "nbformat": 4,
 "nbformat_minor": 1
}
