{
 "cells": [
  {
   "cell_type": "markdown",
   "metadata": {},
   "source": [
    "# Welcome to Python\n",
    "\n",
    "The first step before anything else is to test your installation. Let's test out the classical Hello World. "
   ]
  },
  {
   "cell_type": "code",
   "execution_count": 1,
   "metadata": {
    "collapsed": false
   },
   "outputs": [
    {
     "name": "stdout",
     "output_type": "stream",
     "text": [
      "Hello World\n"
     ]
    }
   ],
   "source": [
    "print('Hello World')"
   ]
  },
  {
   "cell_type": "markdown",
   "metadata": {},
   "source": [
    "That was way too easy!\n",
    "\n",
    "Python is a scripting language which means that it does not need to be compiled such as Java or C. Rather than having to formally describe to the compiler what to execute using a main method, Python executes code sequentially. This means that as long as Python knows where to find all the ressources it needs to execute a line of code, it will execute it. \n",
    "\n",
    "Let's see how sequential programming can be advantageous to us:"
   ]
  },
  {
   "cell_type": "code",
   "execution_count": 1,
   "metadata": {
    "collapsed": false
   },
   "outputs": [
    {
     "name": "stdout",
     "output_type": "stream",
     "text": [
      "1\n",
      "2\n",
      "3\n"
     ]
    },
    {
     "ename": "NameError",
     "evalue": "name 'wow' is not defined",
     "output_type": "error",
     "traceback": [
      "\u001b[1;31m---------------------------------------------------------------------------\u001b[0m",
      "\u001b[1;31mNameError\u001b[0m                                 Traceback (most recent call last)",
      "\u001b[1;32m<ipython-input-1-fc0a0ca39373>\u001b[0m in \u001b[0;36m<module>\u001b[1;34m()\u001b[0m\n\u001b[0;32m      5\u001b[0m \u001b[0mprint\u001b[0m\u001b[1;33m(\u001b[0m\u001b[0mx\u001b[0m\u001b[1;33m+\u001b[0m\u001b[0my\u001b[0m\u001b[1;33m)\u001b[0m\u001b[1;33m\u001b[0m\u001b[0m\n\u001b[0;32m      6\u001b[0m \u001b[1;33m\u001b[0m\u001b[0m\n\u001b[1;32m----> 7\u001b[1;33m \u001b[0mprint\u001b[0m\u001b[1;33m(\u001b[0m\u001b[0mwow\u001b[0m\u001b[1;33m)\u001b[0m\u001b[1;33m\u001b[0m\u001b[0m\n\u001b[0m",
      "\u001b[1;31mNameError\u001b[0m: name 'wow' is not defined"
     ]
    }
   ],
   "source": [
    "x = 1\n",
    "print(x)\n",
    "y = 2\n",
    "print(y)\n",
    "print(x+y)\n",
    "\n",
    "print(wow)"
   ]
  },
  {
   "cell_type": "markdown",
   "metadata": {},
   "source": [
    "The advantage of scripting languages is that if an error is present in your code it will only be flagged when that line is reached. This mean you will not have trouble compiling because some unused legacy code in your packages is missing a semi-colon like in Java. Avoiding disaster saves time. \n",
    "\n",
    "In the above example the variable 'x' and 'y' were set to be integers. In Python you do not need to declare the type of the variable. This is done explicitly by the interpretor. However, small signs will give the interpretor the required information to choose what variable type you are trying to use. \n",
    "\n",
    "You can however specify the datatype you which to use in specific cases when this is absolutely necessary."
   ]
  },
  {
   "cell_type": "code",
   "execution_count": 27,
   "metadata": {
    "collapsed": false
   },
   "outputs": [
    {
     "name": "stdout",
     "output_type": "stream",
     "text": [
      "x is a: <class 'int'> and is equal to: 1\n",
      "x is a: <class 'float'> and is equal to: 1.0\n",
      "x is a: <class 'complex'> and is equal to: (2+3j)\n",
      "x is a: <class 'bytes'> and is equal to: 255\n",
      "x is a: <class 'bool'> and is equal to: True\n",
      "x is a: <class 'str'> and is equal to: wow\n",
      "x is a: <class 'list'> and is equal to: ['Hello', 'World', 1.0, 1, b'\\xff', True]\n",
      "x is a: <class 'tuple'> and is equal to: ('Hello', 'World', 1.0, 1, b'\\xff', True)\n"
     ]
    }
   ],
   "source": [
    "# Integer\n",
    "# In Python 2.7 this is of limited length, however in Python 3 there is no limit.\n",
    "x = 1\n",
    "print('x is a: ' + str(type(x)) + ' and is equal to: ' + str(x))\n",
    "\n",
    "# Floating point\n",
    "x = 1.0\n",
    "print('x is a: ' + str(type(x)) + ' and is equal to: ' + str(x))\n",
    "\n",
    "# Complex Number\n",
    "x = 2+3j\n",
    "print('x is a: ' + str(type(x)) + ' and is equal to: ' + str(x))\n",
    "\n",
    "# Byte (8-bit) \n",
    "# Usually in computer science this is seen as 0xFF which is 255 in decimal. \n",
    "x = b'\\xff'\n",
    "print('x is a: ' + str(type(x)) + ' and is equal to: ' + str(ord(x)))\n",
    "\n",
    "# Boolean\n",
    "# Used to indicate 2 state systems (True/False).\n",
    "x = True\n",
    "print('x is a: ' + str(type(x)) + ' and is equal to: ' + str(x))\n",
    "\n",
    "# String\n",
    "# A list of characters that are stored natively into a list. These can be accessed as you need.\n",
    "x = \"wow\"\n",
    "print('x is a: ' + str(type(x)) + ' and is equal to: ' + str(x))\n",
    "\n",
    "# List\n",
    "# A grouping of variables. Note in Python the same list can contain different types of variables.\n",
    "# Lists are mutable objects, this will be explained in a later section.\n",
    "x = ['Hello', 'World', 1.0, 1, b'\\xff', True]\n",
    "print('x is a: ' + str(type(x)) + ' and is equal to: ' + str(x))\n",
    "\n",
    "# Tuple\n",
    "# Tuples are immutable, this will be explained later.\n",
    "x = ('Hello', 'World', 1.0, 1, b'\\xff', True)\n",
    "print('x is a: ' + str(type(x)) + ' and is equal to: ' + str(x))"
   ]
  },
  {
   "cell_type": "markdown",
   "metadata": {},
   "source": [
    "### Casting\n",
    "\n",
    "You can switch between different data types by casting your variables. However, you must carefully consider what kind of casting you are attempting, it might not be logically possible and thus will cause an error. For example, you cannot make a String into an integer unless the String consists of numbers only. As you can see for the above example we had to cast our output to String in order for us to be able to print it to screen."
   ]
  },
  {
   "cell_type": "code",
   "execution_count": 71,
   "metadata": {
    "collapsed": false
   },
   "outputs": [
    {
     "name": "stdout",
     "output_type": "stream",
     "text": [
      "x is a: <class 'int'> and is equal to: 1\n",
      "x is a: <class 'bool'> and is equal to: True\n",
      "x is a: <class 'complex'> and is equal to: (1+0j)\n",
      "x is a: <class 'float'> and is equal to: 1.0\n",
      "x is a: <class 'str'> and is equal to: 0x1\n",
      "x is a: <class 'str'> and is equal to: 1\n"
     ]
    }
   ],
   "source": [
    "# Initialize our variable x = 1 as an integer\n",
    "x = 1\n",
    "print('x is a: ' + str(type(x)) + ' and is equal to: ' + str(x))\n",
    "\n",
    "# Cast to a boolean\n",
    "x = bool(x)\n",
    "print('x is a: ' + str(type(x)) + ' and is equal to: ' + str(x))\n",
    "\n",
    "# Cast to a complex number\n",
    "x = 1\n",
    "x = complex(x)\n",
    "print('x is a: ' + str(type(x)) + ' and is equal to: ' + str(x))\n",
    "\n",
    "# Cast to a floating point integer (float)\n",
    "x = 1\n",
    "x = float(x)\n",
    "print('x is a: ' + str(type(x)) + ' and is equal to: ' + str(x))\n",
    "\n",
    "# Cast to a hexadecimal number 0x??\n",
    "x = 1\n",
    "x = hex(x)\n",
    "print('x is a: ' + str(type(x)) + ' and is equal to: ' + str(x))\n",
    "\n",
    "# Cast to a String\n",
    "x = 1\n",
    "x = str(x)\n",
    "print('x is a: ' + str(type(x)) + ' and is equal to: ' + str(x))"
   ]
  },
  {
   "cell_type": "markdown",
   "metadata": {},
   "source": [
    "## Python operators\n",
    "\n",
    "You can manipulate your variables by applying operators to them (add, substract, multiply, etc..).\n",
    "\n",
    "### Arithmetic operators"
   ]
  },
  {
   "cell_type": "code",
   "execution_count": 13,
   "metadata": {
    "collapsed": false
   },
   "outputs": [
    {
     "name": "stdout",
     "output_type": "stream",
     "text": [
      "X:  1\n",
      "Y:  2\n",
      "-----\n",
      "X + Y =  3\n",
      "X - Y =  -1\n",
      "X * Y =  2\n",
      "X / Y =  0.5\n",
      "X % Y =  1\n",
      "X // Y =  0\n",
      "X ** Y =  1\n"
     ]
    }
   ],
   "source": [
    "x = 1\n",
    "y = 2\n",
    "\n",
    "print('X: ', x)\n",
    "print('Y: ', y)\n",
    "print('-----')\n",
    "\n",
    "# Addition\n",
    "print('X + Y = ', x+y)\n",
    "\n",
    "# Subtraction\n",
    "print('X - Y = ', x-y)\n",
    "\n",
    "# Multiplication\n",
    "print('X * Y = ', x*y)\n",
    "\n",
    "# Division\n",
    "print('X / Y = ', x/y)\n",
    "\n",
    "# Modulus\n",
    "print('X % Y = ', x%y)\n",
    "\n",
    "# Floor division\n",
    "print('X // Y = ', x//y)\n",
    "\n",
    "# Exponent\n",
    "print('X ** Y = ', x**y)"
   ]
  },
  {
   "cell_type": "markdown",
   "metadata": {},
   "source": [
    "### Comparative operators\n",
    "\n",
    "These are logical statements that will return boolean values (true or false)."
   ]
  },
  {
   "cell_type": "code",
   "execution_count": 14,
   "metadata": {
    "collapsed": false
   },
   "outputs": [
    {
     "name": "stdout",
     "output_type": "stream",
     "text": [
      "X:  1\n",
      "Y:  2\n",
      "-----\n",
      "x > y: False\n",
      "x < y: True\n",
      "x == y: False\n",
      "x != y: True\n",
      "x >= y: False\n",
      "x <= y: True\n"
     ]
    }
   ],
   "source": [
    "x = 1\n",
    "y = 2\n",
    "\n",
    "print('X: ', x)\n",
    "print('Y: ', y)\n",
    "print('-----')\n",
    "\n",
    "# Greater than\n",
    "print('x > y: ' + str(x>y))\n",
    "\n",
    "# Less than\n",
    "print('x < y: ' + str(x<y))\n",
    "\n",
    "# Equal to\n",
    "print('x == y: ' + str(x==y))\n",
    "\n",
    "# Not equal to\n",
    "print('x != y: ' + str(x!=y))\n",
    "\n",
    "# Greater than or equal to\n",
    "print('x >= y: ' + str(x>=y))\n",
    "\n",
    "# Less than or equal to\n",
    "print('x <= y: ' + str(x<=y))"
   ]
  },
  {
   "cell_type": "markdown",
   "metadata": {},
   "source": [
    "### Logical statements"
   ]
  },
  {
   "cell_type": "code",
   "execution_count": 93,
   "metadata": {
    "collapsed": false
   },
   "outputs": [
    {
     "name": "stdout",
     "output_type": "stream",
     "text": [
      "x is larger than y, and y is less than 3: False\n",
      "x is larger than y, or y is less than 3: True\n",
      "x is not greater than y: True\n"
     ]
    }
   ],
   "source": [
    "x = 1\n",
    "y = 2\n",
    "\n",
    "# Logical AND\n",
    "print('x is larger than y, and y is less than 3: ' + str(x > y and y < 3))\n",
    "\n",
    "# Logical OR\n",
    "print('x is larger than y, or y is less than 3: ' + str(x > y or y < 3))\n",
    "\n",
    "# Logical NOT\n",
    "print('x is not greater than y: ' + str(not(x > y)))"
   ]
  },
  {
   "cell_type": "markdown",
   "metadata": {},
   "source": [
    "### Bitwise operations\n",
    "\n",
    "These are especially useful when dealing with binary values. Keep in mind that all data is stored on a computer as binary bits, thus a lot of very clever solutions can be designed using bitwise operators."
   ]
  },
  {
   "cell_type": "code",
   "execution_count": 128,
   "metadata": {
    "collapsed": false
   },
   "outputs": [
    {
     "name": "stdout",
     "output_type": "stream",
     "text": [
      "Decimal: 10   , binary: 1010\n",
      "1010 & 110 = Decimal: 2   , binary: 10\n",
      "1010 | 110 = Decimal: 6   , binary: 110\n",
      "NOT(1010) = Decimal: -7   , binary: -111\n",
      "1010 XOR 110 = Decimal: 12   , binary: 1100\n",
      "Decimal: 2   , binary: 10\n",
      "Decimal: 16   , binary: 10000\n"
     ]
    }
   ],
   "source": [
    "# Input 10 in binary (1010)\n",
    "x = 10\n",
    "print('Decimal: ' + str(x) + '   , binary: ' + format(x, 'b'))\n",
    "\n",
    "# Bitwise AND\n",
    "x = x & 6 # 6 in binary is (110)\n",
    "print('1010 & 110 = Decimal: ' + str(x) + '   , binary: ' + format(x, 'b'))\n",
    "\n",
    "# Bitwise OR\n",
    "x = x | 6 # 6 in binary is (110)\n",
    "print('1010 | 110 = Decimal: ' + str(x) + '   , binary: ' + format(x, 'b'))\n",
    "\n",
    "# Bitwise NOT\n",
    "# Be warned this will affect leading zeros.\n",
    "x = ~x \n",
    "print('NOT(1010) = Decimal: ' + str(x) + '   , binary: ' + format(x, 'b'))\n",
    "\n",
    "# Bitwise XOR\n",
    "x = 10\n",
    "x = x ^ 6 \n",
    "print('1010 XOR 110 = Decimal: ' + str(x) + '   , binary: ' + format(x, 'b'))\n",
    "\n",
    "# Shift the input 2 to the right\n",
    "x = 10\n",
    "x = x >> 2\n",
    "print('Decimal: ' + str(x) + '   , binary: ' + format(x, 'b'))\n",
    "\n",
    "# Shift the input 3 to the right\n",
    "x = x << 3\n",
    "print('Decimal: ' + str(x) + '   , binary: ' + format(x, 'b'))"
   ]
  },
  {
   "cell_type": "markdown",
   "metadata": {},
   "source": [
    "## Identity and membership operators\n",
    "\n",
    "'is' and 'in'. \n",
    "\n",
    "is: Verify is two things are pointing to the same location in memory.\n",
    "\n",
    "in: Verify if a variable is contained in the memory space of another."
   ]
  },
  {
   "cell_type": "code",
   "execution_count": 134,
   "metadata": {
    "collapsed": false
   },
   "outputs": [
    {
     "name": "stdout",
     "output_type": "stream",
     "text": [
      "Is x the same as y: True\n",
      "Is x the same as y: False\n",
      "Is x inside of y: True\n"
     ]
    }
   ],
   "source": [
    "x = 1\n",
    "y = x\n",
    "\n",
    "print('Is x the same as y: ' + str(x is y))\n",
    "\n",
    "x = 3\n",
    "y = [5, 6, x]\n",
    "\n",
    "print('Is x the same as y: ' + str(x is y))\n",
    "print('Is x inside of y: ' + str(x in y))"
   ]
  },
  {
   "cell_type": "code",
   "execution_count": null,
   "metadata": {
    "collapsed": true
   },
   "outputs": [],
   "source": []
  }
 ],
 "metadata": {
  "kernelspec": {
   "display_name": "Python 3",
   "language": "python",
   "name": "python3"
  },
  "language_info": {
   "codemirror_mode": {
    "name": "ipython",
    "version": 3
   },
   "file_extension": ".py",
   "mimetype": "text/x-python",
   "name": "python",
   "nbconvert_exporter": "python",
   "pygments_lexer": "ipython3",
   "version": "3.4.5"
  }
 },
 "nbformat": 4,
 "nbformat_minor": 2
}
