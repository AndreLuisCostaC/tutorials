{
 "cells": [
  {
   "cell_type": "markdown",
   "metadata": {},
   "source": [
    "# Functions in Python\n",
    "\n",
    "In Python function definitions must appear before the function call. As long as the interpretor has read through the definition it will know what you mean when you are calling that function. Furthermore, if the function is found in another worksheet, you must tell Python to go get it, hence 'import math'."
   ]
  },
  {
   "cell_type": "code",
   "execution_count": 1,
   "metadata": {},
   "outputs": [
    {
     "name": "stdout",
     "output_type": "stream",
     "text": [
      "78.53981633974483\n"
     ]
    }
   ],
   "source": [
    "import math\n",
    "\n",
    "def getAreaCircle(r):\n",
    "    \"\"\"Calculates the area of a circle given its radius.\n",
    "    \n",
    "    Calculate the area of a circle given its radius.\n",
    "    \n",
    "    Args:\n",
    "        r: the radius of the circle\n",
    "        \n",
    "    Returns:\n",
    "        area: the area of the circle\n",
    "    \"\"\"\n",
    "    area = math.pi*r**2\n",
    "    return area\n",
    "\n",
    "# Get the area of a circle with radius 5.\n",
    "radius = 5\n",
    "print(getAreaCircle(radius))"
   ]
  },
  {
   "cell_type": "markdown",
   "metadata": {},
   "source": [
    "You can set a default value for an input variable to a function that can be changed if the user wishes"
   ]
  },
  {
   "cell_type": "code",
   "execution_count": 46,
   "metadata": {},
   "outputs": [
    {
     "name": "stdout",
     "output_type": "stream",
     "text": [
      "Cost =  100\n",
      "Cost =  300\n"
     ]
    }
   ],
   "source": [
    "# Here the fare has a default value of 1 unless otherwise stated.\n",
    "def getBusFare(distance, fare_per_km = 1):\n",
    "    return distance * fare_per_km\n",
    "\n",
    "num_km = 100\n",
    "print('Cost = ', getBusFare(num_km))\n",
    "\n",
    "num_km = 100\n",
    "cost = 3\n",
    "print('Cost = ', getBusFare(num_km, cost))"
   ]
  },
  {
   "cell_type": "markdown",
   "metadata": {},
   "source": [
    "We can make functions with a variable number of input arguments"
   ]
  },
  {
   "cell_type": "code",
   "execution_count": 50,
   "metadata": {},
   "outputs": [
    {
     "name": "stdout",
     "output_type": "stream",
     "text": [
      "first\n",
      "second\n",
      "third\n"
     ]
    }
   ],
   "source": [
    "def print_items(*args):\n",
    "    for arg in args:\n",
    "        print(arg)\n",
    "    \n",
    "print_items('first', 'second', 'third')"
   ]
  },
  {
   "cell_type": "markdown",
   "metadata": {},
   "source": [
    "## Creating an object in Python\n",
    "\n",
    "Most of the time you will want to create objects to logically bin the components of your code. Objects can be used to create custom data types that have the same attributes and functions. The keyword 'self' refers to the object itself. "
   ]
  },
  {
   "cell_type": "code",
   "execution_count": 2,
   "metadata": {},
   "outputs": [
    {
     "name": "stdout",
     "output_type": "stream",
     "text": [
      "James van Horne\n",
      "Mike Welterman\n"
     ]
    }
   ],
   "source": [
    "class Person():\n",
    "    \n",
    "    def __init__(self, first_name, last_name):\n",
    "        self.first_name = first_name\n",
    "        self.last_name = last_name\n",
    "        \n",
    "    def getFullName(self):\n",
    "        return self.first_name + ' ' + self.last_name\n",
    "    \n",
    "        \n",
    "p1 = Person('James', 'van Horne')\n",
    "p2 = Person('Mike', 'Welterman')\n",
    "print(p1.getFullName())\n",
    "print(p2.getFullName())"
   ]
  },
  {
   "cell_type": "markdown",
   "metadata": {},
   "source": [
    "Objects can inherit properties and functions from another class. This is defined in the class header."
   ]
  },
  {
   "cell_type": "code",
   "execution_count": 3,
   "metadata": {},
   "outputs": [
    {
     "name": "stdout",
     "output_type": "stream",
     "text": [
      "James van Horne\n"
     ]
    }
   ],
   "source": [
    "# The class Adult inherits from Person.\n",
    "class Adult(Person):\n",
    "    \n",
    "    def __init__(self, first_name, last_name):\n",
    "        self.first_name = first_name\n",
    "        self.last_name = last_name\n",
    "        \n",
    "p1 = Adult('James', 'van Horne')\n",
    "print(p1.getFullName())"
   ]
  },
  {
   "cell_type": "markdown",
   "metadata": {},
   "source": [
    "---"
   ]
  },
  {
   "cell_type": "markdown",
   "metadata": {},
   "source": [
    "# The lamda operator"
   ]
  },
  {
   "cell_type": "markdown",
   "metadata": {},
   "source": [
    "The lamda operator allows you to make throw away functions that are only necessary in a very limited scope of the program. The lamda function has the following syntax\n",
    "\n",
    "func_name = **lambda** input_args: operation\n",
    "\n",
    "However, these become very powerful when matched together with the map() operator as will be shown below."
   ]
  },
  {
   "cell_type": "code",
   "execution_count": 9,
   "metadata": {},
   "outputs": [
    {
     "name": "stdout",
     "output_type": "stream",
     "text": [
      "Sum function:  7\n",
      "Squared function:  9\n"
     ]
    }
   ],
   "source": [
    "# Sums two inputs\n",
    "func1 = lambda x, y: x+y\n",
    "print('Sum function: ', func1(3,4))\n",
    "\n",
    "# Squares an input\n",
    "func2 = lambda x: x**2\n",
    "print('Squared function: ', func2(3))"
   ]
  },
  {
   "cell_type": "markdown",
   "metadata": {},
   "source": [
    "# The map() function"
   ]
  },
  {
   "cell_type": "markdown",
   "metadata": {},
   "source": [
    "The map() function applies a function to all elements of a sequence (list, etc.). The function then returns an iteratable object that contains the operation on each element in the sequence. It is written in the following way\n",
    "\n",
    "r = **map**(function, sequence)\n",
    "\n",
    "Convert the iteratable object to a list to see its contents."
   ]
  },
  {
   "cell_type": "code",
   "execution_count": 44,
   "metadata": {},
   "outputs": [
    {
     "name": "stdout",
     "output_type": "stream",
     "text": [
      "<map object at 0x00000213A71A3710>\n"
     ]
    }
   ],
   "source": [
    "# Gets the square of each element in a list\n",
    "func2 = lambda x: x**2\n",
    "r = map(func2, [1, 2, 3, 4])\n",
    "print(r)\n",
    "print(list(r))"
   ]
  },
  {
   "cell_type": "markdown",
   "metadata": {},
   "source": [
    "# The filter() funtion"
   ]
  },
  {
   "cell_type": "markdown",
   "metadata": {},
   "source": [
    "This function is used to filter the contents of a sequence based on the result of a function.\n",
    "\n",
    "r = **filter**(function, sequence)"
   ]
  },
  {
   "cell_type": "code",
   "execution_count": 19,
   "metadata": {},
   "outputs": [
    {
     "name": "stdout",
     "output_type": "stream",
     "text": [
      "[1, 1, 3, 5, 13, 21, 55]\n"
     ]
    }
   ],
   "source": [
    "fibonacci = [0,1,1,2,3,5,8,13,21,34,55]\n",
    "func = lambda x: x % 2\n",
    "odd_numbers = list(filter(func, fibonacci))\n",
    "print(odd_numbers)"
   ]
  },
  {
   "cell_type": "markdown",
   "metadata": {},
   "source": [
    "# The reduce() function"
   ]
  },
  {
   "cell_type": "markdown",
   "metadata": {},
   "source": [
    "This function has been changed to be a part of the **functools** package. It applies a function iteratively to a sequence from left to right. \n",
    "\n",
    "For example: <br>\n",
    "$[a_1, a_2, a_3, a_4]$ <br>\n",
    "functools.reduce() = $func(func(func(a_1, a_2), a_3),a_4)$"
   ]
  },
  {
   "cell_type": "code",
   "execution_count": 29,
   "metadata": {},
   "outputs": [
    {
     "data": {
      "text/plain": [
       "113"
      ]
     },
     "execution_count": 29,
     "metadata": {},
     "output_type": "execute_result"
    }
   ],
   "source": [
    "# Add all the elements in a list.\n",
    "import functools\n",
    "functools.reduce(lambda x,y: x+y, [47,11,42,13])"
   ]
  },
  {
   "cell_type": "code",
   "execution_count": null,
   "metadata": {},
   "outputs": [],
   "source": []
  }
 ],
 "metadata": {
  "kernelspec": {
   "display_name": "Python 3",
   "language": "python",
   "name": "python3"
  },
  "language_info": {
   "codemirror_mode": {
    "name": "ipython",
    "version": 3
   },
   "file_extension": ".py",
   "mimetype": "text/x-python",
   "name": "python",
   "nbconvert_exporter": "python",
   "pygments_lexer": "ipython3",
   "version": "3.6.3"
  }
 },
 "nbformat": 4,
 "nbformat_minor": 2
}
