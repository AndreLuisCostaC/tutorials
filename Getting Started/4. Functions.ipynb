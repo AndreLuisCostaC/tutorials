{
 "cells": [
  {
   "cell_type": "markdown",
   "metadata": {},
   "source": [
    "# Functions in Python\n",
    "\n",
    "In Python function definitions must appear before the function call. As long as the interpretor has read through the definition it will know what you mean when you are calling that function. Furthermore, if the function is found in another worksheet, you must tell Python to go get it, hence 'import math'."
   ]
  },
  {
   "cell_type": "code",
   "execution_count": 1,
   "metadata": {},
   "outputs": [
    {
     "name": "stdout",
     "output_type": "stream",
     "text": [
      "78.53981633974483\n"
     ]
    }
   ],
   "source": [
    "import math\n",
    "\n",
    "def getAreaCircle(r):\n",
    "    \"\"\"Calculates the area of a circle given its radius.\n",
    "    \n",
    "    Calculate the area of a circle given its radius.\n",
    "    \n",
    "    Args:\n",
    "        r: the radius of the circle\n",
    "        \n",
    "    Returns:\n",
    "        area: the area of the circle\n",
    "    \"\"\"\n",
    "    area = math.pi*r**2\n",
    "    return area\n",
    "\n",
    "# Get the area of a circle with radius 5.\n",
    "radius = 5\n",
    "print(getAreaCircle(radius))"
   ]
  },
  {
   "cell_type": "markdown",
   "metadata": {},
   "source": [
    "You can set a default value for an input variable to a function that can be chnaged if the user wishes"
   ]
  },
  {
   "cell_type": "code",
   "execution_count": 7,
   "metadata": {},
   "outputs": [
    {
     "name": "stdout",
     "output_type": "stream",
     "text": [
      "100\n",
      "300\n"
     ]
    }
   ],
   "source": [
    "# Here the fare has a default value of 1 unless otherwise stated.\n",
    "def getBusFare(distance, fare_per_km = 1):\n",
    "    return distance * fare_per_km\n",
    "\n",
    "num_km = 100\n",
    "print(getBusFare(num_km))\n",
    "\n",
    "num_km = 100\n",
    "cost = 3\n",
    "print(getBusFare(num_km, cost))"
   ]
  },
  {
   "cell_type": "markdown",
   "metadata": {},
   "source": [
    "## Creating an object in Python\n",
    "\n",
    "Most of the time you will want to create objects to logically bin the components of your code. Objects can be used to create custom data types that have the same attributes and functions. The keyword 'self' refers to the object itself. "
   ]
  },
  {
   "cell_type": "code",
   "execution_count": 2,
   "metadata": {},
   "outputs": [
    {
     "name": "stdout",
     "output_type": "stream",
     "text": [
      "James van Horne\n",
      "Mike Welterman\n"
     ]
    }
   ],
   "source": [
    "class Person():\n",
    "    \n",
    "    def __init__(self, first_name, last_name):\n",
    "        self.first_name = first_name\n",
    "        self.last_name = last_name\n",
    "        \n",
    "    def getFullName(self):\n",
    "        return self.first_name + ' ' + self.last_name\n",
    "    \n",
    "        \n",
    "p1 = Person('James', 'van Horne')\n",
    "p2 = Person('Mike', 'Welterman')\n",
    "print(p1.getFullName())\n",
    "print(p2.getFullName())"
   ]
  },
  {
   "cell_type": "markdown",
   "metadata": {},
   "source": [
    "Objects can inherit properties and functions from another class. This is defined in the class header."
   ]
  },
  {
   "cell_type": "code",
   "execution_count": 3,
   "metadata": {},
   "outputs": [
    {
     "name": "stdout",
     "output_type": "stream",
     "text": [
      "James van Horne\n"
     ]
    }
   ],
   "source": [
    "# The class Adult inherits from Person.\n",
    "class Adult(Person):\n",
    "    \n",
    "    def __init__(self, first_name, last_name):\n",
    "        self.first_name = first_name\n",
    "        self.last_name = last_name\n",
    "        \n",
    "p1 = Adult('James', 'van Horne')\n",
    "print(p1.getFullName())"
   ]
  },
  {
   "cell_type": "code",
   "execution_count": null,
   "metadata": {},
   "outputs": [],
   "source": []
  }
 ],
 "metadata": {
  "kernelspec": {
   "display_name": "Python 3",
   "language": "python",
   "name": "python3"
  },
  "language_info": {
   "codemirror_mode": {
    "name": "ipython",
    "version": 3
   },
   "file_extension": ".py",
   "mimetype": "text/x-python",
   "name": "python",
   "nbconvert_exporter": "python",
   "pygments_lexer": "ipython3",
   "version": "3.6.3"
  }
 },
 "nbformat": 4,
 "nbformat_minor": 2
}
