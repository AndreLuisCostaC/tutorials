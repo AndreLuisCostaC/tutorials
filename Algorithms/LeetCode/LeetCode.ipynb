{
 "cells": [
  {
   "cell_type": "markdown",
   "metadata": {},
   "source": [
    "## Problem 1"
   ]
  },
  {
   "cell_type": "code",
   "execution_count": 2,
   "metadata": {},
   "outputs": [],
   "source": [
    "def twoSum(nums, target):\n",
    "    \"\"\"\n",
    "    :type nums: List[int]\n",
    "    :type target: int\n",
    "    :rtype: List[int]\n",
    "    \"\"\"\n",
    "    sorted_nums = sorted(zip(nums, range(len(nums))))\n",
    "    \n",
    "    ix_start = 0\n",
    "    ix_end = len(sorted_nums)-1\n",
    "\n",
    "    while True:\n",
    "        if sorted_nums[ix_start][0] + sorted_nums[ix_end][0] == target:\n",
    "            return [sorted_nums[ix_start][1], sorted_nums[ix_end][1]]\n",
    "        \n",
    "        if sorted_nums[ix_start][0] + sorted_nums[ix_end][0] <= target:\n",
    "            ix_start = ix_start + 1\n",
    "        else: ix_end = ix_end - 1\n",
    "                    "
   ]
  },
  {
   "cell_type": "code",
   "execution_count": 3,
   "metadata": {},
   "outputs": [
    {
     "data": {
      "text/plain": [
       "[1, 2]"
      ]
     },
     "execution_count": 3,
     "metadata": {},
     "output_type": "execute_result"
    }
   ],
   "source": [
    "twoSum([3,2,8,0,1,4], 10)"
   ]
  },
  {
   "cell_type": "markdown",
   "metadata": {},
   "source": [
    "## Problem 546\n",
    "\n",
    "Given several boxes with different colors represented by different positive numbers. \n",
    "You may experience several rounds to remove boxes until there is no box left. Each time you can choose some continuous boxes with the same color (composed of k boxes, k >= 1), remove them and get k*k points.\n",
    "Find the maximum points you can get.\n",
    "\n",
    "Example:<br>\n",
    "Input: [1, 3, 2, 2, 2, 3, 4, 3, 1] <br>\n",
    "Output: 23"
   ]
  },
  {
   "cell_type": "code",
   "execution_count": 26,
   "metadata": {},
   "outputs": [],
   "source": [
    "from collections import Counter\n",
    "\n",
    "def removeBoxes(boxes):\n",
    "    \"\"\"\n",
    "    :type boxes: List[int]\n",
    "    :rtype: int\n",
    "    \"\"\"\n",
    "    print(boxes)\n",
    "    \n",
    "    print(Counter(boxes))\n",
    "    counts = Counter(boxes)\n",
    "    \n",
    "    for i in counts:\n",
    "        print(i, counts[i])\n",
    "        if counts[i] == 1:\n",
    "            boxes.remove(i)\n",
    "            continue\n",
    "        \n",
    "    \n",
    "    print(boxes)\n",
    "    \n",
    "    \n",
    "    \n",
    "    return 0"
   ]
  },
  {
   "cell_type": "code",
   "execution_count": 27,
   "metadata": {},
   "outputs": [
    {
     "name": "stdout",
     "output_type": "stream",
     "text": [
      "[1, 3, 2, 2, 2, 3, 4, 3, 1]\n",
      "Counter({3: 3, 2: 3, 1: 2, 4: 1})\n",
      "1 2\n",
      "3 3\n",
      "2 3\n",
      "4 1\n",
      "[1, 3, 2, 2, 2, 3, 3, 1]\n"
     ]
    },
    {
     "data": {
      "text/plain": [
       "0"
      ]
     },
     "execution_count": 27,
     "metadata": {},
     "output_type": "execute_result"
    }
   ],
   "source": [
    "removeBoxes([1,3,2,2,2,3,4,3,1])"
   ]
  },
  {
   "cell_type": "code",
   "execution_count": null,
   "metadata": {},
   "outputs": [],
   "source": []
  }
 ],
 "metadata": {
  "kernelspec": {
   "display_name": "Python 3",
   "language": "python",
   "name": "python3"
  },
  "language_info": {
   "codemirror_mode": {
    "name": "ipython",
    "version": 3
   },
   "file_extension": ".py",
   "mimetype": "text/x-python",
   "name": "python",
   "nbconvert_exporter": "python",
   "pygments_lexer": "ipython3",
   "version": "3.6.3"
  }
 },
 "nbformat": 4,
 "nbformat_minor": 2
}
