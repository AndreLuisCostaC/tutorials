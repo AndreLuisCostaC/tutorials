{
 "cells": [
  {
   "cell_type": "markdown",
   "metadata": {},
   "source": [
    "Problem 1"
   ]
  },
  {
   "cell_type": "code",
   "execution_count": 1,
   "metadata": {
    "collapsed": true
   },
   "outputs": [],
   "source": [
    "from copy import deepcopy\n",
    "import numpy as np\n",
    "\n",
    "class Solution:\n",
    "    \n",
    "    def cleanList(self, wordList):\n",
    "        new_wordList = []\n",
    "        for word1 in wordList:\n",
    "            valid = 0\n",
    "            for word2 in wordList:\n",
    "                if self.string1off(word1, word2): valid = 1\n",
    "            if valid == 1: new_wordList.append(word1)\n",
    "        return new_wordList\n",
    "    \n",
    "    def string1off(self, str1, str2):\n",
    "        diff = 0\n",
    "        for i in range(len(str1)):\n",
    "            if str1[i] != str2[i]: diff += 1\n",
    "        if diff == 1: return True\n",
    "        else: return False\n",
    "    \n",
    "    def findLadders(self, beginWord, endWord, wordList):\n",
    "        \"\"\"\n",
    "        :type beginWord: str\n",
    "        :type endWord: str\n",
    "        :type wordList: List[str]\n",
    "        :rtype: List[List[str]]\n",
    "        \"\"\"\n",
    "        verbose = 0\n",
    "        wordList = self.cleanList(wordList)\n",
    "        \n",
    "        if endWord not in wordList:\n",
    "            return []\n",
    "        \n",
    "        results_start = [[beginWord]]\n",
    "        results_end = [[endWord]]\n",
    "        \n",
    "        stop = 0\n",
    "        flag = 0\n",
    "        count = 0\n",
    "        \n",
    "        while stop == 0 and count <= 4:\n",
    "            count += 1\n",
    "            \n",
    "            if verbose:\n",
    "                print('--------------------------------------------------------------------')\n",
    "                print('--------------------------------------------------------------------')\n",
    "                print('--------------------------------------------------------------------')\n",
    "                print('COUNT: ', count)\n",
    "                print('results_start: ', results_start)\n",
    "                print('results_end: ', results_end)\n",
    "                print('....................................................................')\n",
    "             \n",
    "            temp_start = []\n",
    "            temp_end = []\n",
    "            length = max(len(results_start), len(results_end))\n",
    "            for word in set(wordList):                \n",
    "                for i in range(length):\n",
    "                    if len(results_start) > i:\n",
    "                        result_start = results_start[i]\n",
    "                        last_word_start = result_start[len(result_start)-1]\n",
    "                        if word not in result_start:\n",
    "                            if self.string1off(last_word_start, word):\n",
    "                                if verbose == 1: print('start: ', word)\n",
    "                                temp_start.append(result_start+[word])\n",
    "                                \n",
    "                    if len(results_end) > i:\n",
    "                        result_end = results_end[i]\n",
    "                        last_word_end = result_end[len(result_end)-1]\n",
    "                        if word not in result_end:\n",
    "                            if self.string1off(last_word_end, word):\n",
    "                                if verbose == 1: print('end: ', word)\n",
    "                                temp_end.append(result_end+[word])\n",
    "                \n",
    "            \n",
    "            \n",
    "            results_start = deepcopy(temp_start)\n",
    "            results_end = deepcopy(temp_end)\n",
    "            \n",
    "            # Check if done\n",
    "            if verbose == 1:\n",
    "                print('results_start: ', results_start)\n",
    "                print('results_end: ', results_end)\n",
    "                \n",
    "                \n",
    "            for result_start in results_start:\n",
    "                for result_end in results_end:\n",
    "                    if result_start[-1] == endWord:\n",
    "                        stop = 1\n",
    "                        flag = 1\n",
    "                        break\n",
    "                    elif result_start[-1] in result_end:\n",
    "                        stop = 1\n",
    "                        flag = 2\n",
    "                        break\n",
    "                    elif result_end[-1] in result_start:\n",
    "                        stop = 1\n",
    "                        flag = 3\n",
    "                        break\n",
    "                    \n",
    "                if stop == 1: break\n",
    "            if stop == 1: break\n",
    "        \n",
    "        print('Flag: ', flag)\n",
    "        \n",
    "        print('results_start: ', results_start)\n",
    "        print('results_end: ', results_end)\n",
    "        \n",
    "        temp = []\n",
    "        for result_start in results_start:\n",
    "            if endWord in result_start:\n",
    "                temp.append(result_start)\n",
    "                next\n",
    "                \n",
    "            for result_end in results_end:\n",
    "                \n",
    "                if result_start[-1] == result_end[-1]:\n",
    "                    val = result_start[0:len(result_start)-1] + result_end[::-1]\n",
    "                    if val not in temp:\n",
    "                        temp.append(val)\n",
    "                        \n",
    "                elif result_start[-1] in result_end:\n",
    "                    val = result_start[0:len(result_start)] + result_end[0:result_end.index(result_start[-1])][::-1]\n",
    "                    if val not in temp:\n",
    "                        temp.append(val)\n",
    "        \n",
    "        # Find the smallest set\n",
    "        min_length = None\n",
    "        for val in temp:\n",
    "            if min_length == None:\n",
    "                min_length = len(val)\n",
    "            elif len(val)<min_length:\n",
    "                min_length = len(val)\n",
    "        print('Min length = ', min_length)\n",
    "        \n",
    "        # Keep only the values with the smaller set\n",
    "        result = []\n",
    "        for val in temp:\n",
    "            if len(val) == min_length:\n",
    "                result.append(val)\n",
    "                \n",
    "        \n",
    "        \n",
    "        \n",
    "        print('------------------------------------------------------------------------------')\n",
    "        print(result)\n",
    "        print('------------------------------------------------------------------------------')\n",
    "        return result"
   ]
  },
  {
   "cell_type": "code",
   "execution_count": 2,
   "metadata": {
    "collapsed": true
   },
   "outputs": [],
   "source": [
    "beginWord = \"hot\"\n",
    "endWord = \"dog\"\n",
    "wordList = [\"hot\",\"dog\"]\n",
    "\n",
    "beginWord = \"hit\"\n",
    "endWord = \"cog\"\n",
    "wordList = [\"hot\",\"dot\",\"dog\",\"lot\",\"log\",\"cog\"]\n",
    "\n",
    "beginWord = \"cet\"\n",
    "endWord = \"ism\"\n",
    "wordList = [\"ism\",\"tag\",\"lim\",\"lsm\",\"tun\",\"woo\",\"erg\",\"luz\",\"brr\",\"gay\",\"sip\",\"kay\",\"per\",\"val\",\"mes\",\"ohs\",\"now\",\"isp\",\"let\",\"lit\",\"lip\",\"sui\",\"ark\",\"has\",\"zip\",\"fez\",\"own\",\"ump\",\"dis\",\"ads\",\"max\",\"jaw\",\"out\",\"btu\",\"ana\",\"gap\",\"cry\",\"led\",\"abe\",\"box\",\"ore\",\"pig\",\"fie\",\"toy\",\"fat\",\"cal\",\"lie\",\"noh\",\"sew\",\"ono\",\"tam\",\"flu\",\"mgm\",\"ply\",\"awe\",\"pry\",\"tit\",\"tie\",\"yet\",\"too\",\"tax\",\"jim\",\"san\",\"pan\",\"map\",\"ski\",\"ova\",\"wed\",\"non\",\"wac\",\"nut\",\"why\",\"bye\",\"lye\",\"oct\",\"old\",\"fin\",\"feb\",\"chi\",\"sap\",\"owl\",\"log\",\"tod\",\"dot\",\"bow\",\"fob\",\"for\",\"joe\",\"ivy\",\"fan\",\"age\",\"fax\",\"hip\",\"jib\",\"mel\",\"hus\",\"sob\",\"ifs\",\"tab\",\"ara\",\"dab\",\"jag\",\"jar\"]\n",
    "\n",
    "beginWord = \"cet\"\n",
    "endWord = \"ism\"\n",
    "wordList = [\"kid\",\"tag\",\"pup\",\"ail\",\"tun\",\"woo\",\"erg\",\"luz\",\"brr\",\"gay\",\"sip\",\"kay\",\"per\",\"val\",\"mes\",\"ohs\",\"now\",\"boa\",\"cet\",\"pal\",\"bar\",\"die\",\"war\",\"hay\",\"eco\",\"pub\",\"lob\",\"rue\",\"fry\",\"lit\",\"rex\",\"jan\",\"cot\",\"bid\",\"ali\",\"pay\",\"col\",\"gum\",\"ger\",\"row\",\"won\",\"dan\",\"rum\",\"fad\",\"tut\",\"sag\",\"yip\",\"sui\",\"ark\",\"has\",\"zip\",\"fez\",\"own\",\"ump\",\"dis\",\"ads\",\"max\",\"jaw\",\"out\",\"btu\",\"ana\",\"gap\",\"cry\",\"led\",\"abe\",\"box\",\"ore\",\"pig\",\"fie\",\"toy\",\"fat\",\"cal\",\"lie\",\"noh\",\"sew\",\"ono\",\"tam\",\"flu\",\"mgm\",\"ply\",\"awe\",\"pry\",\"tit\",\"tie\",\"yet\",\"too\",\"tax\",\"jim\",\"san\",\"pan\",\"map\",\"ski\",\"ova\",\"wed\",\"non\",\"wac\",\"nut\",\"why\",\"bye\",\"lye\",\"oct\",\"old\",\"fin\",\"feb\",\"chi\",\"sap\",\"owl\",\"log\",\"tod\",\"dot\",\"bow\",\"fob\",\"for\",\"joe\",\"ivy\",\"fan\",\"age\",\"fax\",\"hip\",\"jib\",\"mel\",\"hus\",\"sob\",\"ifs\",\"tab\",\"ara\",\"dab\",\"jag\",\"jar\",\"arm\",\"lot\",\"tom\",\"sax\",\"tex\",\"yum\",\"pei\",\"wen\",\"wry\",\"ire\",\"irk\",\"far\",\"mew\",\"wit\",\"doe\",\"gas\",\"rte\",\"ian\",\"pot\",\"ask\",\"wag\",\"hag\",\"amy\",\"nag\",\"ron\",\"soy\",\"gin\",\"don\",\"tug\",\"fay\",\"vic\",\"boo\",\"nam\",\"ave\",\"buy\",\"sop\",\"but\",\"orb\",\"fen\",\"paw\",\"his\",\"sub\",\"bob\",\"yea\",\"oft\",\"inn\",\"rod\",\"yam\",\"pew\",\"web\",\"hod\",\"hun\",\"gyp\",\"wei\",\"wis\",\"rob\",\"gad\",\"pie\",\"mon\",\"dog\",\"bib\",\"rub\",\"ere\",\"dig\",\"era\",\"cat\",\"fox\",\"bee\",\"mod\",\"day\",\"apr\",\"vie\",\"nev\",\"jam\",\"pam\",\"new\",\"aye\",\"ani\",\"and\",\"ibm\",\"yap\",\"can\",\"pyx\",\"tar\",\"kin\",\"fog\",\"hum\",\"pip\",\"cup\",\"dye\",\"lyx\",\"jog\",\"nun\",\"par\",\"wan\",\"fey\",\"bus\",\"oak\",\"bad\",\"ats\",\"set\",\"qom\",\"vat\",\"eat\",\"pus\",\"rev\",\"axe\",\"ion\",\"six\",\"ila\",\"lao\",\"mom\",\"mas\",\"pro\",\"few\",\"opt\",\"poe\",\"art\",\"ash\",\"oar\",\"cap\",\"lop\",\"may\",\"shy\",\"rid\",\"bat\",\"sum\",\"rim\",\"fee\",\"bmw\",\"sky\",\"maj\",\"hue\",\"thy\",\"ava\",\"rap\",\"den\",\"fla\",\"auk\",\"cox\",\"ibo\",\"hey\",\"saw\",\"vim\",\"sec\",\"ltd\",\"you\",\"its\",\"tat\",\"dew\",\"eva\",\"tog\",\"ram\",\"let\",\"see\",\"zit\",\"maw\",\"nix\",\"ate\",\"gig\",\"rep\",\"owe\",\"ind\",\"hog\",\"eve\",\"sam\",\"zoo\",\"any\",\"dow\",\"cod\",\"bed\",\"vet\",\"ham\",\"sis\",\"hex\",\"via\",\"fir\",\"nod\",\"mao\",\"aug\",\"mum\",\"hoe\",\"bah\",\"hal\",\"keg\",\"hew\",\"zed\",\"tow\",\"gog\",\"ass\",\"dem\",\"who\",\"bet\",\"gos\",\"son\",\"ear\",\"spy\",\"kit\",\"boy\",\"due\",\"sen\",\"oaf\",\"mix\",\"hep\",\"fur\",\"ada\",\"bin\",\"nil\",\"mia\",\"ewe\",\"hit\",\"fix\",\"sad\",\"rib\",\"eye\",\"hop\",\"haw\",\"wax\",\"mid\",\"tad\",\"ken\",\"wad\",\"rye\",\"pap\",\"bog\",\"gut\",\"ito\",\"woe\",\"our\",\"ado\",\"sin\",\"mad\",\"ray\",\"hon\",\"roy\",\"dip\",\"hen\",\"iva\",\"lug\",\"asp\",\"hui\",\"yak\",\"bay\",\"poi\",\"yep\",\"bun\",\"try\",\"lad\",\"elm\",\"nat\",\"wyo\",\"gym\",\"dug\",\"toe\",\"dee\",\"wig\",\"sly\",\"rip\",\"geo\",\"cog\",\"pas\",\"zen\",\"odd\",\"nan\",\"lay\",\"pod\",\"fit\",\"hem\",\"joy\",\"bum\",\"rio\",\"yon\",\"dec\",\"leg\",\"put\",\"sue\",\"dim\",\"pet\",\"yaw\",\"nub\",\"bit\",\"bur\",\"sid\",\"sun\",\"oil\",\"red\",\"doc\",\"moe\",\"caw\",\"eel\",\"dix\",\"cub\",\"end\",\"gem\",\"off\",\"yew\",\"hug\",\"pop\",\"tub\",\"sgt\",\"lid\",\"pun\",\"ton\",\"sol\",\"din\",\"yup\",\"jab\",\"pea\",\"bug\",\"gag\",\"mil\",\"jig\",\"hub\",\"low\",\"did\",\"tin\",\"get\",\"gte\",\"sox\",\"lei\",\"mig\",\"fig\",\"lon\",\"use\",\"ban\",\"flo\",\"nov\",\"jut\",\"bag\",\"mir\",\"sty\",\"lap\",\"two\",\"ins\",\"con\",\"ant\",\"net\",\"tux\",\"ode\",\"stu\",\"mug\",\"cad\",\"nap\",\"gun\",\"fop\",\"tot\",\"sow\",\"sal\",\"sic\",\"ted\",\"wot\",\"del\",\"imp\",\"cob\",\"way\",\"ann\",\"tan\",\"mci\",\"job\",\"wet\",\"ism\",\"err\",\"him\",\"all\",\"pad\",\"hah\",\"hie\",\"aim\",\"ike\",\"jed\",\"ego\",\"mac\",\"baa\",\"min\",\"com\",\"ill\",\"was\",\"cab\",\"ago\",\"ina\",\"big\",\"ilk\",\"gal\",\"tap\",\"duh\",\"ola\",\"ran\",\"lab\",\"top\",\"gob\",\"hot\",\"ora\",\"tia\",\"kip\",\"han\",\"met\",\"hut\",\"she\",\"sac\",\"fed\",\"goo\",\"tee\",\"ell\",\"not\",\"act\",\"gil\",\"rut\",\"ala\",\"ape\",\"rig\",\"cid\",\"god\",\"duo\",\"lin\",\"aid\",\"gel\",\"awl\",\"lag\",\"elf\",\"liz\",\"ref\",\"aha\",\"fib\",\"oho\",\"tho\",\"her\",\"nor\",\"ace\",\"adz\",\"fun\",\"ned\",\"coo\",\"win\",\"tao\",\"coy\",\"van\",\"man\",\"pit\",\"guy\",\"foe\",\"hid\",\"mai\",\"sup\",\"jay\",\"hob\",\"mow\",\"jot\",\"are\",\"pol\",\"arc\",\"lax\",\"aft\",\"alb\",\"len\",\"air\",\"pug\",\"pox\",\"vow\",\"got\",\"meg\",\"zoe\",\"amp\",\"ale\",\"bud\",\"gee\",\"pin\",\"dun\",\"pat\",\"ten\",\"mob\"]\n"
   ]
  },
  {
   "cell_type": "code",
   "execution_count": 3,
   "metadata": {},
   "outputs": [
    {
     "name": "stdout",
     "output_type": "stream",
     "text": [
      "599\n"
     ]
    },
    {
     "name": "stderr",
     "output_type": "stream",
     "text": [
      "IOPub data rate exceeded.\n",
      "The notebook server will temporarily stop sending output\n",
      "to the client in order to avoid crashing it.\n",
      "To change this limit, set the config variable\n",
      "`--NotebookApp.iopub_data_rate_limit`.\n"
     ]
    },
    {
     "name": "stdout",
     "output_type": "stream",
     "text": [
      "Min length =  11\n",
      "------------------------------------------------------------------------------\n",
      "[['cet', 'cot', 'con', 'ion', 'inn', 'ins', 'its', 'ito', 'ibo', 'ibm', 'ism'], ['cet', 'cat', 'can', 'ian', 'inn', 'ins', 'its', 'ito', 'ibo', 'ibm', 'ism'], ['cet', 'get', 'gee', 'gte', 'ate', 'ats', 'its', 'ito', 'ibo', 'ibm', 'ism']]\n",
      "------------------------------------------------------------------------------\n",
      "[['cet', 'cot', 'con', 'ion', 'inn', 'ins', 'its', 'ito', 'ibo', 'ibm', 'ism'], ['cet', 'cat', 'can', 'ian', 'inn', 'ins', 'its', 'ito', 'ibo', 'ibm', 'ism'], ['cet', 'get', 'gee', 'gte', 'ate', 'ats', 'its', 'ito', 'ibo', 'ibm', 'ism']]\n",
      "30.468261003494263\n"
     ]
    }
   ],
   "source": [
    "import time\n",
    "\n",
    "sol = Solution()\n",
    "\n",
    "print(len(wordList))\n",
    "t0 = time.time()\n",
    "print(sol.findLadders(beginWord, endWord, wordList))\n",
    "t1 = time.time()\n",
    "\n",
    "tim = t1-t0\n",
    "print(tim)"
   ]
  },
  {
   "cell_type": "markdown",
   "metadata": {},
   "source": [
    "Problem 2"
   ]
  },
  {
   "cell_type": "code",
   "execution_count": 4,
   "metadata": {
    "collapsed": true
   },
   "outputs": [],
   "source": [
    "def isPandigital(mult1, mult2, prod):\n",
    "    digits = str(mult1) + str(mult2) + str(prod)\n",
    "    if len(digits) == 9:\n",
    "        if len(set(['1','2','3','4','5','6','7','8','9'])-set(digits)) > 0:\n",
    "            return False\n",
    "        else:\n",
    "            return True\n",
    "    return False\n",
    "\n",
    "def isUnique(val):\n",
    "    val = str(val)\n",
    "    if len(val) == len(set(val)):\n",
    "        return True\n",
    "    else:\n",
    "        return False"
   ]
  },
  {
   "cell_type": "code",
   "execution_count": 5,
   "metadata": {},
   "outputs": [
    {
     "name": "stdout",
     "output_type": "stream",
     "text": [
      "45228\n",
      "0.29572558403015137\n"
     ]
    }
   ],
   "source": [
    "import time\n",
    "prods = []\n",
    "start_time = time.time()\n",
    "\n",
    "stop = 0\n",
    "for i in range(100000):\n",
    "    if not isUnique(i):\n",
    "        continue\n",
    "    for j in range(100000):\n",
    "        if not isUnique(j):\n",
    "            continue\n",
    "        if isPandigital(i, j, i*j):\n",
    "            if j < i: \n",
    "                stop = 1\n",
    "                break\n",
    "            if i*j not in prods:\n",
    "                prods.append(i*j)\n",
    "            \n",
    "        if len(str(i) + str(j) + str(i*j)) > 9:\n",
    "            break\n",
    "    if stop == 1:\n",
    "        break\n",
    "print(sum(prods))\n",
    "elapsed_time = time.time() - start_time\n",
    "print(elapsed_time)"
   ]
  },
  {
   "cell_type": "markdown",
   "metadata": {},
   "source": [
    "Problem 3"
   ]
  },
  {
   "cell_type": "code",
   "execution_count": 90,
   "metadata": {},
   "outputs": [
    {
     "name": "stdout",
     "output_type": "stream",
     "text": [
      "X\n",
      "[['X', ' ', ' '], [' ', ' ', ' '], [' ', 'O', ' ']]\n"
     ]
    },
    {
     "data": {
      "text/plain": [
       "[['X', ' ', ' '], [' ', ' ', ' '], [' ', 'O', ' ']]"
      ]
     },
     "execution_count": 90,
     "metadata": {},
     "output_type": "execute_result"
    }
   ],
   "source": [
    "def gameOver(board):\n",
    "    #Check rows\n",
    "    for row in board:\n",
    "        if row.count('X') == 3:\n",
    "            return True\n",
    "        if row.count('O') == 3:\n",
    "            return True\n",
    "    \n",
    "    # Check columns\n",
    "    col_ix = 0\n",
    "    total_x = 0\n",
    "    total_y = 0\n",
    "    for col_ix in range(3):\n",
    "        total_x = 0\n",
    "        total_y = 0\n",
    "        for row in board:\n",
    "            if row[col_ix] == 'X': total_x += 1\n",
    "            elif row[col_ix] == 'O': total_y += 1\n",
    "        \n",
    "        if total_x == 3: return True\n",
    "        if total_y == 3: return True\n",
    "                \n",
    "    #Check diagonals\n",
    "    if not board[0][0] == ' ':\n",
    "        if board[0][0] == board[1][1] and board[0][0] == board[2][2]: \n",
    "            return True\n",
    "    if not board[0][2] == ' ':\n",
    "        if board[0][2] == board[1][1] and board[0][0] == board[2][0]: \n",
    "            return True\n",
    "    return False\n",
    "\n",
    "def defensivePlay(board, player):\n",
    "    #Check rows\n",
    "    for row_ix, row in enumerate(board):\n",
    "        if row.count('X') == 2 and row.count('O') == 0 and player == 'O':\n",
    "            row[row.index(' ')] = 'O'\n",
    "            board[row_ix] = row\n",
    "            return board\n",
    "        if row.count('O') == 2 and row.count('X') == 0 and player == 'X':\n",
    "            row[row.index(' ')] = 'X'\n",
    "            board[row_ix] = row\n",
    "            return board\n",
    "        \n",
    "\n",
    "def nextMove(board):\n",
    "    # Check whos turn it is\n",
    "    num_xs = sum([row.count('X') for row in board])\n",
    "    num_os = sum([row.count('O') for row in board])\n",
    "    player = ''\n",
    "    if num_xs == num_os + 1: player = 'O'\n",
    "    elif num_xs == num_os: player = 'X'\n",
    "    # Flag an erroneous board\n",
    "    else: \n",
    "        print('ERROR')\n",
    "        return None\n",
    "    \n",
    "    # Check if the game is already over\n",
    "    if gameOver(board) and num_xs + num_os > 0: \n",
    "        print('Game over.')\n",
    "        return None\n",
    "    \n",
    "    print(player)\n",
    "    # Play next play\n",
    "    if num_xs + num_os == 0:\n",
    "        board[0][0] = 'X'\n",
    "    \n",
    "    elif num_xs + num_os == 1:\n",
    "        if board[1][1] == 'X':\n",
    "            board[0][0] = 'O'\n",
    "        else:\n",
    "            board[1][1] = 'O'\n",
    "    \n",
    "    elif num_xs + num_os == 2:   \n",
    "        pass\n",
    "    \n",
    "    else:\n",
    "        board = defensivePlay(board, player)\n",
    "    \n",
    "    print(board)\n",
    "    return board\n",
    "\n",
    "board = [['X', ' ', ' '],\n",
    "         [' ', ' ', ' '],\n",
    "         [' ', 'O', ' ']]\n",
    "nextMove(board)"
   ]
  },
  {
   "cell_type": "code",
   "execution_count": 87,
   "metadata": {},
   "outputs": [
    {
     "data": {
      "text/plain": [
       "2"
      ]
     },
     "execution_count": 87,
     "metadata": {},
     "output_type": "execute_result"
    }
   ],
   "source": [
    "sum([row.count('X') for row in board])"
   ]
  },
  {
   "cell_type": "code",
   "execution_count": 80,
   "metadata": {
    "collapsed": true
   },
   "outputs": [],
   "source": [
    "row = board[0]"
   ]
  },
  {
   "cell_type": "code",
   "execution_count": 83,
   "metadata": {},
   "outputs": [
    {
     "data": {
      "text/plain": [
       "2"
      ]
     },
     "execution_count": 83,
     "metadata": {},
     "output_type": "execute_result"
    }
   ],
   "source": [
    "row.index(' ')"
   ]
  },
  {
   "cell_type": "code",
   "execution_count": 82,
   "metadata": {},
   "outputs": [
    {
     "data": {
      "text/plain": [
       "[False]"
      ]
     },
     "execution_count": 82,
     "metadata": {},
     "output_type": "execute_result"
    }
   ],
   "source": [
    "[row == 'O']"
   ]
  },
  {
   "cell_type": "raw",
   "metadata": {},
   "source": []
  }
 ],
 "metadata": {
  "kernelspec": {
   "display_name": "Python 3",
   "language": "python",
   "name": "python3"
  },
  "language_info": {
   "codemirror_mode": {
    "name": "ipython",
    "version": 3
   },
   "file_extension": ".py",
   "mimetype": "text/x-python",
   "name": "python",
   "nbconvert_exporter": "python",
   "pygments_lexer": "ipython3",
   "version": "3.6.3"
  }
 },
 "nbformat": 4,
 "nbformat_minor": 2
}
