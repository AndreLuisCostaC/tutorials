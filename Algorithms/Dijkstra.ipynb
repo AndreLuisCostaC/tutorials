{
 "cells": [
  {
   "cell_type": "code",
   "execution_count": 21,
   "metadata": {},
   "outputs": [],
   "source": [
    "import numpy as np\n",
    "import matplotlib.pyplot as plt"
   ]
  },
  {
   "cell_type": "code",
   "execution_count": 29,
   "metadata": {},
   "outputs": [],
   "source": [
    "class Environment(object):\n",
    "    \n",
    "    def __init__(self, map_size, wall_proportion):\n",
    "        self.map_size = map_size\n",
    "        self.wall_prop = int(wall_proportion * map_size**2) # Compute the number of tiles which will be filled by a box\n",
    "        \n",
    "        self.env = np.zeros((map_size+2, map_size+2))\n",
    "        self.env[0, :] = 1\n",
    "        self.env[-1, :] = 1\n",
    "        self.env[:, 0] = 1\n",
    "        self.env[:, -1] = 1\n",
    "        \n",
    "        self.target = None\n",
    "        \n",
    "        self.setWalls()\n",
    "        self.setTarget()\n",
    "        \n",
    "    def setWalls(self):\n",
    "        temp = self.env[1:self.map_size+1, 1:self.map_size+1].reshape((self.map_size**2, 1))\n",
    "        x = np.random.permutation(self.map_size**2)\n",
    "        temp[x[0:self.wall_prop]]= 1\n",
    "        temp = temp.reshape((self.map_size, self.map_size))\n",
    "        self.env[1:self.map_size+1, 1:self.map_size+1] = temp\n",
    "        \n",
    "    def setTarget(self):\n",
    "        x, y = np.random.randint(0, self.map_size+2), np.random.randint(0, self.map_size+2)\n",
    "        while(self.env[x, y] == 1):\n",
    "            x, y = np.random.randint(0, self.map_size+2), np.random.randint(0, self.map_size+2)\n",
    "        self.target = (x, y)\n",
    "        \n",
    "    def getEnvironment(self):\n",
    "        return self.env\n",
    "    \n",
    "    def getTarget(self):\n",
    "        return self.target\n",
    "    \n",
    "    def getDists(self):\n",
    "        board = self.env\n",
    "        target = self.target\n",
    "        \n",
    "        distances = np.full(board.shape, np.inf)\n",
    "        distances[target] = 0\n",
    "    \n",
    "        end = 0\n",
    "        dist = 0\n",
    "        curr_node = target\n",
    "        while True:\n",
    "            # Get the list of indices that are equal to the current distance\n",
    "            ixs = np.where(distances == dist)\n",
    "            dist = dist + 1\n",
    "        \n",
    "            # If distance is not in the matrix then we are done. We have reached the maximum \n",
    "            if len(ixs[0]) == 0: break\n",
    "        \n",
    "            # For each index in the matrix\n",
    "            for i in range(0, len(ixs[0])):\n",
    "                curr_node = (ixs[0][i], ixs[1][i])\n",
    "                # Define the search area as top, bottom, left and right\n",
    "                for i in [(-1, 0), (0, -1), (0, 1), (1, 0)]:\n",
    "                    # Make sure the board is within the bounds. Need to catch the -1 because it doesnt throw an error\n",
    "                    if curr_node[0]+i[0] >= 0 and curr_node[1]+i[1] >= 0:\n",
    "                        try:\n",
    "                            ix = (curr_node[0]+i[0], curr_node[1]+i[1])\n",
    "                            # If the board space is available and has not yet been attributed a distance\n",
    "                            if not board[ix] == 1 and distances[ix] == np.inf: distances[ix] = dist\n",
    "                        except IndexError:\n",
    "                            pass\n",
    "        self.distances = distances\n",
    "        return distances\n",
    "    \n",
    "    def plotEnvironment(self):\n",
    "        env = self.env\n",
    "        env[self.target[0], self.target[1]] = 0.5\n",
    "        plt.imshow(self.env, cmap = 'gray_r')\n",
    "        plt.show()"
   ]
  },
  {
   "cell_type": "code",
   "execution_count": 30,
   "metadata": {},
   "outputs": [],
   "source": [
    "def getDistDijkstra(board, init_node, target, verbose = 1):\n",
    "\n",
    "    values = np.full((size, size), np.inf)\n",
    "    unvisited = np.ones((size, size), dtype=bool)   \n",
    "\n",
    "    values[init_node] = 0\n",
    "    unvisited[init_node] = False\n",
    "    \n",
    "    if verbose == 1:\n",
    "        print(values)\n",
    "        print('Unvisited: \\n' + str(unvisited))\n",
    "        print('-----------------------------------')\n",
    "        \n",
    "    end = 0\n",
    "    curr_node = init_node\n",
    "    \n",
    "    while end == 0:\n",
    "        if verbose == 1: print('Current node: ' + str(curr_node))\n",
    "        \n",
    "        for i in [(-1, 0), (0, -1), (0, 1), (1, 0)]:\n",
    "            # Make sure the board is within the bounds. Need to catch the -1 because it doesnt throw an error\n",
    "            if curr_node[0]+i[0] >= 0 and curr_node[1]+i[1] >= 0:\n",
    "                try:\n",
    "                    ix = (curr_node[0]+i[0], curr_node[1]+i[1])\n",
    "                    if not board[1:-1, 1:-1][ix] == 1:\n",
    "                        if values[ix] > values[curr_node] + 1: \n",
    "                            values[ix] = values[curr_node] + 1\n",
    "                except IndexError:\n",
    "                    if verbose == 1:\n",
    "                        print('ERROR')\n",
    "                        pass\n",
    "        \n",
    "        unvisited[curr_node] = False   \n",
    "        \n",
    "        if verbose == 1:\n",
    "            print('Unvisited: \\n' + str(unvisited))\n",
    "            print('Values: \\n' + str(values))\n",
    "        \n",
    "        if not unvisited[target]: \n",
    "            if verbose == 1: print('Target found')\n",
    "            end = 1\n",
    "        elif np.min(values[unvisited]) == np.inf:\n",
    "            if verbose == 1: print('Nothing else')\n",
    "            end = 1\n",
    "        else:\n",
    "            minim = np.inf\n",
    "            ix = [0, 0]\n",
    "            for i in range(0, size):\n",
    "                for j in range(0, size):\n",
    "                    if unvisited[i, j] == True:\n",
    "                        if values[i, j] < minim:\n",
    "                            minim = values[i, j]\n",
    "                            ix = (i, j)\n",
    "            curr_node = ix\n",
    "            if verbose == 1:\n",
    "                print('Update node to: ' + str(curr_node))\n",
    "        #print('-----------------------------------')\n",
    "    \n",
    "    return values[target]\n",
    "    "
   ]
  },
  {
   "cell_type": "code",
   "execution_count": 53,
   "metadata": {},
   "outputs": [
    {
     "name": "stdout",
     "output_type": "stream",
     "text": [
      "Target: (8, 6)\n"
     ]
    },
    {
     "ename": "IndexError",
     "evalue": "index 8 is out of bounds for axis 0 with size 8",
     "output_type": "error",
     "traceback": [
      "\u001b[1;31m---------------------------------------------------------------------------\u001b[0m",
      "\u001b[1;31mIndexError\u001b[0m                                Traceback (most recent call last)",
      "\u001b[1;32m<ipython-input-53-21a5785fa871>\u001b[0m in \u001b[0;36m<module>\u001b[1;34m()\u001b[0m\n\u001b[0;32m     13\u001b[0m \u001b[1;33m\u001b[0m\u001b[0m\n\u001b[0;32m     14\u001b[0m         \u001b[1;32mif\u001b[0m \u001b[1;32mnot\u001b[0m \u001b[0mboard\u001b[0m\u001b[1;33m[\u001b[0m\u001b[1;36m1\u001b[0m\u001b[1;33m:\u001b[0m\u001b[1;33m-\u001b[0m\u001b[1;36m1\u001b[0m\u001b[1;33m,\u001b[0m \u001b[1;36m1\u001b[0m\u001b[1;33m:\u001b[0m\u001b[1;33m-\u001b[0m\u001b[1;36m1\u001b[0m\u001b[1;33m]\u001b[0m\u001b[1;33m[\u001b[0m\u001b[0mi\u001b[0m\u001b[1;33m,\u001b[0m \u001b[0mj\u001b[0m\u001b[1;33m]\u001b[0m \u001b[1;33m==\u001b[0m \u001b[1;36m1\u001b[0m\u001b[1;33m:\u001b[0m\u001b[1;33m\u001b[0m\u001b[0m\n\u001b[1;32m---> 15\u001b[1;33m             \u001b[0mdistances\u001b[0m\u001b[1;33m[\u001b[0m\u001b[0mi\u001b[0m\u001b[1;33m,\u001b[0m \u001b[0mj\u001b[0m\u001b[1;33m]\u001b[0m \u001b[1;33m=\u001b[0m \u001b[0mgetDistDijkstra\u001b[0m\u001b[1;33m(\u001b[0m\u001b[0mboard\u001b[0m\u001b[1;33m,\u001b[0m \u001b[1;33m(\u001b[0m\u001b[0mi\u001b[0m\u001b[1;33m,\u001b[0m\u001b[0mj\u001b[0m\u001b[1;33m)\u001b[0m\u001b[1;33m,\u001b[0m \u001b[0mtarget\u001b[0m\u001b[1;33m,\u001b[0m \u001b[1;36m0\u001b[0m\u001b[1;33m)\u001b[0m\u001b[1;33m\u001b[0m\u001b[0m\n\u001b[0m\u001b[0;32m     16\u001b[0m         \u001b[1;32melse\u001b[0m\u001b[1;33m:\u001b[0m\u001b[1;33m\u001b[0m\u001b[0m\n\u001b[0;32m     17\u001b[0m             \u001b[0mdistances\u001b[0m\u001b[1;33m[\u001b[0m\u001b[0mi\u001b[0m\u001b[1;33m,\u001b[0m \u001b[0mj\u001b[0m\u001b[1;33m]\u001b[0m \u001b[1;33m=\u001b[0m \u001b[1;33m-\u001b[0m\u001b[1;36m1\u001b[0m\u001b[1;33m\u001b[0m\u001b[0m\n",
      "\u001b[1;32m<ipython-input-30-7a56c61c84bb>\u001b[0m in \u001b[0;36mgetDistDijkstra\u001b[1;34m(board, init_node, target, verbose)\u001b[0m\n\u001b[0;32m     37\u001b[0m             \u001b[0mprint\u001b[0m\u001b[1;33m(\u001b[0m\u001b[1;34m'Values: \\n'\u001b[0m \u001b[1;33m+\u001b[0m \u001b[0mstr\u001b[0m\u001b[1;33m(\u001b[0m\u001b[0mvalues\u001b[0m\u001b[1;33m)\u001b[0m\u001b[1;33m)\u001b[0m\u001b[1;33m\u001b[0m\u001b[0m\n\u001b[0;32m     38\u001b[0m \u001b[1;33m\u001b[0m\u001b[0m\n\u001b[1;32m---> 39\u001b[1;33m         \u001b[1;32mif\u001b[0m \u001b[1;32mnot\u001b[0m \u001b[0munvisited\u001b[0m\u001b[1;33m[\u001b[0m\u001b[0mtarget\u001b[0m\u001b[1;33m]\u001b[0m\u001b[1;33m:\u001b[0m\u001b[1;33m\u001b[0m\u001b[0m\n\u001b[0m\u001b[0;32m     40\u001b[0m             \u001b[1;32mif\u001b[0m \u001b[0mverbose\u001b[0m \u001b[1;33m==\u001b[0m \u001b[1;36m1\u001b[0m\u001b[1;33m:\u001b[0m \u001b[0mprint\u001b[0m\u001b[1;33m(\u001b[0m\u001b[1;34m'Target found'\u001b[0m\u001b[1;33m)\u001b[0m\u001b[1;33m\u001b[0m\u001b[0m\n\u001b[0;32m     41\u001b[0m             \u001b[0mend\u001b[0m \u001b[1;33m=\u001b[0m \u001b[1;36m1\u001b[0m\u001b[1;33m\u001b[0m\u001b[0m\n",
      "\u001b[1;31mIndexError\u001b[0m: index 8 is out of bounds for axis 0 with size 8"
     ]
    }
   ],
   "source": [
    "size = 8\n",
    "\n",
    "env = Environment(size, 1/7)\n",
    "board = env.getEnvironment()\n",
    "\n",
    "target = env.getTarget()\n",
    "board[target[0], target[1]] = 0.5\n",
    "print('Target: ' + str(target))\n",
    "\n",
    "distances = np.zeros((size,size))\n",
    "for i in range(0, size):\n",
    "    for j in range(0, size):\n",
    "        \n",
    "        if not board[1:-1, 1:-1][i, j] == 1:\n",
    "            distances[i, j] = getDistDijkstra(board, (i,j), target, 0)\n",
    "        else:\n",
    "            distances[i, j] = -1\n",
    "        \n",
    "plt.imshow(board, cmap = 'gray_r')\n",
    "plt.show()\n",
    "\n",
    "plt.imshow(distances, cmap = 'Reds')\n",
    "plt.show()"
   ]
  },
  {
   "cell_type": "code",
   "execution_count": 54,
   "metadata": {},
   "outputs": [
    {
     "data": {
      "text/plain": [
       "array([[ 0. ,  0. ,  0. ,  0. ,  0. ,  0. ,  1. ,  0. ],\n",
       "       [ 0. ,  0. ,  0. ,  0. ,  0. ,  0. ,  0. ,  0. ],\n",
       "       [ 0. ,  0. ,  0. ,  0. ,  0. ,  0. ,  0. ,  0. ],\n",
       "       [ 0. ,  0. ,  1. ,  0. ,  1. ,  0. ,  1. ,  0. ],\n",
       "       [ 0. ,  0. ,  0. ,  0. ,  0. ,  0. ,  0. ,  0. ],\n",
       "       [ 0. ,  0. ,  0. ,  1. ,  0. ,  0. ,  0. ,  0. ],\n",
       "       [ 1. ,  0. ,  1. ,  0. ,  0. ,  0. ,  0. ,  0. ],\n",
       "       [ 0. ,  0. ,  1. ,  1. ,  0. ,  0.5,  0. ,  0. ]])"
      ]
     },
     "execution_count": 54,
     "metadata": {},
     "output_type": "execute_result"
    }
   ],
   "source": [
    "board[1:-1, 1:-1]"
   ]
  },
  {
   "cell_type": "code",
   "execution_count": 55,
   "metadata": {},
   "outputs": [
    {
     "data": {
      "text/plain": [
       "array([[ 1. ,  1. ,  1. ,  1. ,  1. ,  1. ,  1. ,  1. ,  1. ,  1. ],\n",
       "       [ 1. ,  0. ,  0. ,  0. ,  0. ,  0. ,  0. ,  1. ,  0. ,  1. ],\n",
       "       [ 1. ,  0. ,  0. ,  0. ,  0. ,  0. ,  0. ,  0. ,  0. ,  1. ],\n",
       "       [ 1. ,  0. ,  0. ,  0. ,  0. ,  0. ,  0. ,  0. ,  0. ,  1. ],\n",
       "       [ 1. ,  0. ,  0. ,  1. ,  0. ,  1. ,  0. ,  1. ,  0. ,  1. ],\n",
       "       [ 1. ,  0. ,  0. ,  0. ,  0. ,  0. ,  0. ,  0. ,  0. ,  1. ],\n",
       "       [ 1. ,  0. ,  0. ,  0. ,  1. ,  0. ,  0. ,  0. ,  0. ,  1. ],\n",
       "       [ 1. ,  1. ,  0. ,  1. ,  0. ,  0. ,  0. ,  0. ,  0. ,  1. ],\n",
       "       [ 1. ,  0. ,  0. ,  1. ,  1. ,  0. ,  0.5,  0. ,  0. ,  1. ],\n",
       "       [ 1. ,  1. ,  1. ,  1. ,  1. ,  1. ,  1. ,  1. ,  1. ,  1. ]])"
      ]
     },
     "execution_count": 55,
     "metadata": {},
     "output_type": "execute_result"
    }
   ],
   "source": [
    "board"
   ]
  },
  {
   "cell_type": "code",
   "execution_count": null,
   "metadata": {},
   "outputs": [],
   "source": []
  }
 ],
 "metadata": {
  "kernelspec": {
   "display_name": "Python 3",
   "language": "python",
   "name": "python3"
  },
  "language_info": {
   "codemirror_mode": {
    "name": "ipython",
    "version": 3
   },
   "file_extension": ".py",
   "mimetype": "text/x-python",
   "name": "python",
   "nbconvert_exporter": "python",
   "pygments_lexer": "ipython3",
   "version": "3.6.3"
  }
 },
 "nbformat": 4,
 "nbformat_minor": 2
}
