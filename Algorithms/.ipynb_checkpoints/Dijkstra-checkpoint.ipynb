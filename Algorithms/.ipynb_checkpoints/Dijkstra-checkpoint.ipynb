{
 "cells": [
  {
   "cell_type": "code",
   "execution_count": 1,
   "metadata": {},
   "outputs": [],
   "source": [
    "import numpy as np\n",
    "import matplotlib.pyplot as plt"
   ]
  },
  {
   "cell_type": "code",
   "execution_count": 55,
   "metadata": {},
   "outputs": [],
   "source": [
    "def getDistDijkstra(board, init_node, target, verbose = 1):\n",
    "\n",
    "    values = np.full((size, size), np.inf)\n",
    "    unvisited = np.ones((size, size), dtype=bool)   \n",
    "\n",
    "    values[init_node] = 0\n",
    "    unvisited[init_node] = False\n",
    "    \n",
    "    if verbose == 1:\n",
    "        print(values)\n",
    "        print('Unvisited: \\n' + str(unvisited))\n",
    "        print('-----------------------------------')\n",
    "        \n",
    "    end = 0\n",
    "    curr_node = init_node\n",
    "    \n",
    "    while end == 0:\n",
    "        if verbose == 1: print('Current node: ' + str(curr_node))\n",
    "        \n",
    "        for i in [(-1, 0), (0, -1), (0, 1), (1, 0)]:\n",
    "            # Make sure the board is within the bounds. Need to catch the -1 because it doesnt throw an error\n",
    "            if curr_node[0]+i[0] >= 0 and curr_node[1]+i[1] >= 0:\n",
    "                try:\n",
    "                    ix = (curr_node[0]+i[0], curr_node[1]+i[1])\n",
    "                    if not board[1:-1, 1:-1][ix] == 1:\n",
    "                        if values[ix] > values[curr_node] + 1: \n",
    "                            values[ix] = values[curr_node] + 1\n",
    "                except IndexError:\n",
    "                    if verbose == 1:\n",
    "                        print('ERROR')\n",
    "                        pass\n",
    "        \n",
    "        unvisited[curr_node] = False   \n",
    "        \n",
    "        if verbose == 1:\n",
    "            print('Unvisited: \\n' + str(unvisited))\n",
    "            print('Values: \\n' + str(values))\n",
    "        \n",
    "        if not unvisited[target]: \n",
    "            if verbose == 1: print('Target found')\n",
    "            end = 1\n",
    "        elif np.min(values[unvisited]) == np.inf:\n",
    "            if verbose == 1: print('Nothing else')\n",
    "            end = 1\n",
    "        else:\n",
    "            minim = np.inf\n",
    "            ix = [0, 0]\n",
    "            for i in range(0, size):\n",
    "                for j in range(0, size):\n",
    "                    if unvisited[i, j] == True:\n",
    "                        if values[i, j] < minim:\n",
    "                            minim = values[i, j]\n",
    "                            ix = (i, j)\n",
    "            curr_node = ix\n",
    "            if verbose == 1:\n",
    "                print('Update node to: ' + str(curr_node))\n",
    "    \n",
    "    return values[target]"
   ]
  },
  {
   "cell_type": "code",
   "execution_count": 54,
   "metadata": {},
   "outputs": [],
   "source": [
    "class Environment(object):\n",
    "    \n",
    "    def __init__(self, map_size, wall_proportion):\n",
    "        self.map_size = map_size\n",
    "        \n",
    "        self.env = np.ones((map_size+2, map_size+2))\n",
    "        self.env[1:-1, 1:-1] = 0\n",
    "        \n",
    "        self.target = None\n",
    "        self.setWalls(wall_proportion)\n",
    "        self.setTarget()\n",
    "        \n",
    "    def setWalls(self, prop):\n",
    "        temp = self.env[1:-1, 1:-1].reshape(self.map_size**2,)\n",
    "        ixs = np.random.choice(range(len(temp)), size = int(prop*self.map_size**2), replace = False)\n",
    "        temp[ixs] = 1\n",
    "        self.env[1:-1, 1:-1] = temp.reshape(self.map_size,self.map_size)\n",
    "        \n",
    "    def setTarget(self):\n",
    "        x, y = np.random.randint(1, self.map_size+2), np.random.randint(1, self.map_size+2)\n",
    "        while(self.env[x, y] == 1):\n",
    "            x, y = np.random.randint(1, self.map_size+2), np.random.randint(1, self.map_size+2)\n",
    "        self.target = (x, y)\n",
    "        \n",
    "    def getEnvironment(self):\n",
    "        return self.env\n",
    "    \n",
    "    def getTarget(self):\n",
    "        return self.target\n",
    "    \n",
    "    def getDists(self):\n",
    "        board = self.env\n",
    "        target = self.target\n",
    "        \n",
    "        distances = np.full(board.shape, np.inf)\n",
    "        distances[target] = 0\n",
    "    \n",
    "        end = 0\n",
    "        dist = 0\n",
    "        curr_node = target\n",
    "        while True:\n",
    "            # Get the list of indices that are equal to the current distance\n",
    "            ixs = np.where(distances == dist)\n",
    "            dist += 1\n",
    "        \n",
    "            # If distance is not in the matrix then we are done. We have reached the maximum \n",
    "            if len(ixs[0]) == 0: break\n",
    "        \n",
    "            # For each index in the matrix\n",
    "            for i in range(0, len(ixs[0])):\n",
    "                curr_node = (ixs[0][i], ixs[1][i])\n",
    "                # Define the search area as top, bottom, left and right\n",
    "                for i in [(-1, 0), (0, -1), (0, 1), (1, 0)]:\n",
    "                    # Make sure the board is within the bounds. Need to catch the -1 because it doesnt throw an error\n",
    "                    if curr_node[0]+i[0] >= 0 and curr_node[1]+i[1] >= 0:\n",
    "                        try:\n",
    "                            ix = (curr_node[0]+i[0], curr_node[1]+i[1])\n",
    "                            # If the board space is available and has not yet been attributed a distance\n",
    "                            if not board[ix] == 1 and distances[ix] == np.inf: distances[ix] = dist\n",
    "                        except IndexError: pass\n",
    "        self.distances = distances\n",
    "        return distances\n",
    "    \n",
    "    def plotEnvironment(self):\n",
    "        env = self.env\n",
    "        env[self.target[0], self.target[1]] = 0.5\n",
    "        plt.imshow(self.env, cmap = 'gray_r')\n",
    "        plt.show()"
   ]
  },
  {
   "cell_type": "code",
   "execution_count": 70,
   "metadata": {},
   "outputs": [
    {
     "name": "stdout",
     "output_type": "stream",
     "text": [
      "Target: (7, 9)\n"
     ]
    },
    {
     "data": {
      "image/png": "[encoded data removed]",
      "text/plain": [
       "<Figure size 432x288 with 1 Axes>"
      ]
     },
     "metadata": {},
     "output_type": "display_data"
    },
    {
     "data": {
      "image/png": "[encoded data removed]",
      "text/plain": [
       "<Figure size 432x288 with 1 Axes>"
      ]
     },
     "metadata": {},
     "output_type": "display_data"
    }
   ],
   "source": [
    "size = 10\n",
    "\n",
    "env = Environment(size, 1/6)\n",
    "board = env.getEnvironment()\n",
    "\n",
    "target = env.getTarget()\n",
    "board[target[0], target[1]] = 0.5\n",
    "print('Target: ' + str(target))\n",
    "\n",
    "distances = np.zeros((size,size))\n",
    "for i in range(0, size):\n",
    "    for j in range(0, size):\n",
    "        \n",
    "        if not board[1:-1, 1:-1][i, j] == 1:\n",
    "            distances[i, j] = getDistDijkstra(board, (i,j), target, 0)\n",
    "        else:\n",
    "            distances[i, j] = -1\n",
    "        \n",
    "plt.imshow(board, cmap = 'gray_r')\n",
    "plt.show()\n",
    "\n",
    "plt.imshow(distances, cmap = 'Reds')\n",
    "plt.show()"
   ]
  },
  {
   "cell_type": "code",
   "execution_count": null,
   "metadata": {},
   "outputs": [],
   "source": []
  }
 ],
 "metadata": {
  "kernelspec": {
   "display_name": "Python 3",
   "language": "python",
   "name": "python3"
  },
  "language_info": {
   "codemirror_mode": {
    "name": "ipython",
    "version": 3
   },
   "file_extension": ".py",
   "mimetype": "text/x-python",
   "name": "python",
   "nbconvert_exporter": "python",
   "pygments_lexer": "ipython3",
   "version": "3.6.5"
  }
 },
 "nbformat": 4,
 "nbformat_minor": 2
}
