{
 "cells": [
  {
   "cell_type": "markdown",
   "metadata": {},
   "source": [
    "# Quicksort"
   ]
  },
  {
   "cell_type": "code",
   "execution_count": 1,
   "metadata": {},
   "outputs": [],
   "source": [
    "def quickSort(lst):\n",
    "    if len(lst) <= 1: \n",
    "        return lst\n",
    "    smaller = [x for x in lst[1:] if x < lst[0]]\n",
    "    larger = [x for x in lst[1:] if x >= lst[0]]\n",
    "    return quickSort(smaller) + [lst[0]] + quickSort(larger)"
   ]
  },
  {
   "cell_type": "code",
   "execution_count": 2,
   "metadata": {},
   "outputs": [
    {
     "data": {
      "text/plain": [
       "[1, 2, 2, 3, 4, 5, 5, 5, 5, 6, 6, 6, 12, 14, 23]"
      ]
     },
     "execution_count": 2,
     "metadata": {},
     "output_type": "execute_result"
    }
   ],
   "source": [
    "quickSort([6,12,4,5,2,5,14,23,1,5,5,6,3,2,6])"
   ]
  },
  {
   "cell_type": "markdown",
   "metadata": {},
   "source": [
    "# Using Deep Learning"
   ]
  },
  {
   "cell_type": "code",
   "execution_count": 3,
   "metadata": {},
   "outputs": [
    {
     "name": "stderr",
     "output_type": "stream",
     "text": [
      "Using TensorFlow backend.\n"
     ]
    }
   ],
   "source": [
    "from __future__ import print_function\n",
    "import keras\n",
    "from keras.datasets import mnist\n",
    "from keras.models import Sequential\n",
    "from keras.layers import Dense, Dropout, Flatten\n",
    "from keras.layers import Conv1D, MaxPooling1D, Reshape\n",
    "from keras.callbacks import ModelCheckpoint\n",
    "from keras.models import model_from_json\n",
    "from keras import backend as K"
   ]
  },
  {
   "cell_type": "code",
   "execution_count": 4,
   "metadata": {},
   "outputs": [
    {
     "name": "stdout",
     "output_type": "stream",
     "text": [
      "[[  5.  13.  12.   6.]]\n",
      "[  5.   6.  12.  13.]\n"
     ]
    }
   ],
   "source": [
    "import numpy as np\n",
    "\n",
    "n = 100000\n",
    "x_train = np.zeros((n,4))\n",
    "for i in range(n):\n",
    "    x_train[i,:] = np.random.permutation(50)[0:4]\n",
    "\n",
    "x_train = x_train.reshape(n, 4, 1)\n",
    "y_train = np.sort(x_train, axis=1).reshape(n, 4,)\n",
    "\n",
    "n = 1000\n",
    "x_test = np.zeros((n,4))\n",
    "for i in range(n):\n",
    "    x_test[i,:] = np.random.permutation(50)[0:4]\n",
    "\n",
    "x_test = x_test.reshape(n, 4, 1)\n",
    "y_test = np.sort(x_test, axis=1).reshape(n, 4,)\n",
    "\n",
    "print(x_test[0].T)\n",
    "print(y_test[0])"
   ]
  },
  {
   "cell_type": "code",
   "execution_count": 5,
   "metadata": {},
   "outputs": [],
   "source": [
    "input_shape = (4,1)\n",
    "\n",
    "model = Sequential()\n",
    "model.add(Conv1D(32, kernel_size=(2),\n",
    "                 activation='relu',\n",
    "                 input_shape=input_shape,\n",
    "                 padding='same'))\n",
    "\n",
    "model.add(Conv1D(64, (2), activation='relu', padding='same'))\n",
    "model.add(MaxPooling1D(pool_size=(2)))\n",
    "model.add(Reshape((64,2)))\n",
    "\n",
    "model.add(Conv1D(32, (2), activation='relu', padding='same'))\n",
    "model.add(MaxPooling1D(pool_size=(2)))\n",
    "\n",
    "model.add(Flatten())\n",
    "model.add(Dense(4))\n",
    "\n",
    "model.compile(loss=keras.losses.mean_squared_error,\n",
    "              optimizer=keras.optimizers.Adadelta(),\n",
    "              metrics=['accuracy'])"
   ]
  },
  {
   "cell_type": "code",
   "execution_count": 6,
   "metadata": {},
   "outputs": [
    {
     "name": "stdout",
     "output_type": "stream",
     "text": [
      "_________________________________________________________________\n",
      "Layer (type)                 Output Shape              Param #   \n",
      "=================================================================\n",
      "conv1d_1 (Conv1D)            (None, 4, 32)             96        \n",
      "_________________________________________________________________\n",
      "conv1d_2 (Conv1D)            (None, 4, 64)             4160      \n",
      "_________________________________________________________________\n",
      "max_pooling1d_1 (MaxPooling1 (None, 2, 64)             0         \n",
      "_________________________________________________________________\n",
      "reshape_1 (Reshape)          (None, 64, 2)             0         \n",
      "_________________________________________________________________\n",
      "conv1d_3 (Conv1D)            (None, 64, 32)            160       \n",
      "_________________________________________________________________\n",
      "max_pooling1d_2 (MaxPooling1 (None, 32, 32)            0         \n",
      "_________________________________________________________________\n",
      "flatten_1 (Flatten)          (None, 1024)              0         \n",
      "_________________________________________________________________\n",
      "dense_1 (Dense)              (None, 4)                 4100      \n",
      "=================================================================\n",
      "Total params: 8,516\n",
      "Trainable params: 8,516\n",
      "Non-trainable params: 0\n",
      "_________________________________________________________________\n"
     ]
    }
   ],
   "source": [
    "model.summary()"
   ]
  },
  {
   "cell_type": "code",
   "execution_count": 7,
   "metadata": {},
   "outputs": [
    {
     "name": "stdout",
     "output_type": "stream",
     "text": [
      "Train on 100000 samples, validate on 1000 samples\n",
      "Epoch 1/10\n",
      "100000/100000 [==============================] - 5s 55us/step - loss: 33.4356 - acc: 0.9621 - val_loss: 4.7095 - val_acc: 0.9720\n",
      "Epoch 2/10\n",
      "100000/100000 [==============================] - 5s 51us/step - loss: 3.1306 - acc: 0.9930 - val_loss: 2.2853 - val_acc: 1.0000\n",
      "Epoch 3/10\n",
      "100000/100000 [==============================] - 5s 51us/step - loss: 1.9076 - acc: 0.9954 - val_loss: 1.4483 - val_acc: 0.9970\n",
      "Epoch 4/10\n",
      "100000/100000 [==============================] - 5s 51us/step - loss: 1.6007 - acc: 0.9956 - val_loss: 1.6690 - val_acc: 0.9960\n",
      "Epoch 5/10\n",
      "100000/100000 [==============================] - 5s 50us/step - loss: 1.3533 - acc: 0.9957 - val_loss: 1.2232 - val_acc: 0.9970\n",
      "Epoch 6/10\n",
      "100000/100000 [==============================] - 5s 50us/step - loss: 1.2481 - acc: 0.9961 - val_loss: 1.1105 - val_acc: 1.0000\n",
      "Epoch 7/10\n",
      "100000/100000 [==============================] - 5s 50us/step - loss: 1.1052 - acc: 0.9957 - val_loss: 0.9695 - val_acc: 1.0000\n",
      "Epoch 8/10\n",
      "100000/100000 [==============================] - 5s 50us/step - loss: 1.0887 - acc: 0.9961 - val_loss: 1.1187 - val_acc: 1.0000\n",
      "Epoch 9/10\n",
      "100000/100000 [==============================] - 5s 50us/step - loss: 0.9798 - acc: 0.9959 - val_loss: 1.1146 - val_acc: 1.0000\n",
      "Epoch 10/10\n",
      "100000/100000 [==============================] - 5s 51us/step - loss: 0.9646 - acc: 0.9965 - val_loss: 1.1080 - val_acc: 1.0000\n"
     ]
    }
   ],
   "source": [
    "epochs = 10\n",
    "batch_size = 128\n",
    "# Fit the model weights.\n",
    "history = model.fit(x_train, y_train,\n",
    "          batch_size=batch_size,\n",
    "          epochs=epochs,\n",
    "          verbose=1,\n",
    "          validation_data=(x_test, y_test))"
   ]
  },
  {
   "cell_type": "code",
   "execution_count": 8,
   "metadata": {},
   "outputs": [
    {
     "data": {
      "image/png": "[encoded data removed]",
      "text/plain": [
       "<matplotlib.figure.Figure at 0x1f164bd2438>"
      ]
     },
     "metadata": {},
     "output_type": "display_data"
    },
    {
     "data": {
      "image/png": "[encoded data removed]",
      "text/plain": [
       "<matplotlib.figure.Figure at 0x1f164f816d8>"
      ]
     },
     "metadata": {},
     "output_type": "display_data"
    }
   ],
   "source": [
    "import matplotlib.pyplot as plt\n",
    "%matplotlib inline\n",
    "\n",
    "# summarize history for accuracy\n",
    "plt.plot(history.history['acc'])\n",
    "plt.plot(history.history['val_acc'])\n",
    "plt.title('model accuracy')\n",
    "plt.ylabel('accuracy')\n",
    "plt.xlabel('epoch')\n",
    "plt.legend(['train', 'validation'], loc='lower right')\n",
    "plt.show()\n",
    "\n",
    "\n",
    "# summarize history for loss\n",
    "plt.plot(history.history['loss'])\n",
    "plt.plot(history.history['val_loss'])\n",
    "plt.title('model loss')\n",
    "plt.ylabel('loss')\n",
    "plt.xlabel('epoch')\n",
    "plt.legend(['train', 'validation'], loc='upper right')\n",
    "plt.show()"
   ]
  },
  {
   "cell_type": "code",
   "execution_count": 9,
   "metadata": {},
   "outputs": [
    {
     "name": "stdout",
     "output_type": "stream",
     "text": [
      "[ 15.  44.  11.  35.]\n",
      "\n",
      "[[ 12.28593826  15.92690372  36.17679977  44.94926834]]\n"
     ]
    },
    {
     "data": {
      "text/plain": [
       "[11, 15, 35, 44]"
      ]
     },
     "execution_count": 9,
     "metadata": {},
     "output_type": "execute_result"
    }
   ],
   "source": [
    "ix = 120\n",
    "print(x_test[ix,:,0])\n",
    "print()\n",
    "\n",
    "pred = model.predict(x_test[ix:ix+1,:,:])\n",
    "print(pred)\n",
    "[int(x_test[ix].reshape(4,)[np.abs(x_test[ix].reshape(4,) - i).argmin()]) for i in list(pred[0])]"
   ]
  },
  {
   "cell_type": "code",
   "execution_count": 16,
   "metadata": {},
   "outputs": [
    {
     "name": "stdout",
     "output_type": "stream",
     "text": [
      "[100, 1672, 6, 226]\n",
      "[[   49.83705521   101.28887939   292.64419556  1676.4005127 ]]\n",
      "[6, 100, 226, 1672]\n"
     ]
    }
   ],
   "source": [
    "test_list = [100,1672,6,226]\n",
    "pred = model.predict(np.asarray(test_list).reshape(1,4,1))\n",
    "print(test_list)\n",
    "print(pred)\n",
    "\n",
    "print([np.asarray(test_list).reshape(4,)[np.abs(np.asarray(test_list).reshape(4,) - i).argmin()] for i in list(pred[0])])"
   ]
  },
  {
   "cell_type": "code",
   "execution_count": null,
   "metadata": {},
   "outputs": [],
   "source": []
  }
 ],
 "metadata": {
  "kernelspec": {
   "display_name": "Python 3",
   "language": "python",
   "name": "python3"
  },
  "language_info": {
   "codemirror_mode": {
    "name": "ipython",
    "version": 3
   },
   "file_extension": ".py",
   "mimetype": "text/x-python",
   "name": "python",
   "nbconvert_exporter": "python",
   "pygments_lexer": "ipython3",
   "version": "3.6.3"
  }
 },
 "nbformat": 4,
 "nbformat_minor": 2
}
