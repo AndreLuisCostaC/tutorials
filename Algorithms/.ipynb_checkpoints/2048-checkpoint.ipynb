{
 "cells": [
  {
   "cell_type": "markdown",
   "metadata": {},
   "source": [
    "# 2048 Game"
   ]
  },
  {
   "cell_type": "markdown",
   "metadata": {},
   "source": [
    "This is an implementation of the game 2048 using a tkinter GUI."
   ]
  },
  {
   "cell_type": "code",
   "execution_count": 2,
   "metadata": {},
   "outputs": [],
   "source": [
    "import matplotlib as mpl\n",
    "import matplotlib.pyplot as plt\n",
    "import numpy as np\n",
    "import sys\n",
    "import tkinter as tk\n",
    "import matplotlib.backends.tkagg as tkagg\n",
    "from matplotlib.backends.backend_agg import FigureCanvasAgg\n",
    "from tkinter import Tk, Label, Button, Canvas\n",
    "from matplotlib.figure import Figure\n",
    "from matplotlib.backends.backend_tkagg import FigureCanvasTkAgg\n",
    "from copy import deepcopy\n",
    "import matplotlib.colors"
   ]
  },
  {
   "cell_type": "markdown",
   "metadata": {},
   "source": [
    "This class is the implementation of the game 2048."
   ]
  },
  {
   "cell_type": "code",
   "execution_count": 120,
   "metadata": {},
   "outputs": [],
   "source": [
    "class Environment(object):\n",
    "    \"\"\" The game 2048\n",
    "    \n",
    "    Attrs:\n",
    "        state (int): The state of the game\n",
    "                     0 - Playing\n",
    "                     1 - Game over\n",
    "        board (2d numpy): The game board       \n",
    "    \n",
    "    \"\"\"\n",
    "    \n",
    "    def __init__(self):\n",
    "        self.state = 0\n",
    "        self.board = None\n",
    "        self.initBoard()\n",
    "    \n",
    "    def initBoard(self):\n",
    "        \"\"\" Initializes a new game\n",
    "        \n",
    "        Sets up a 4 by 4 numpy matrix which corresponds\n",
    "        with the locations in the 2048 environment. \n",
    "        \"\"\"\n",
    "        self.board = np.zeros((4,4))\n",
    "        self.newPiece()\n",
    "        self.newPiece()\n",
    "        \n",
    "    def newPiece(self):\n",
    "        \"\"\" Add a new piece to an empty location\n",
    "        \n",
    "        Determines the indices where the numpy matrix is 0.\n",
    "        Adds a new block (2 or 4) to this location.\n",
    "        \"\"\"\n",
    "        ixs = np.where(self.board == 0)\n",
    "        ix = np.random.randint(len(ixs[0]))\n",
    "        self.board[ixs[0][ix], ixs[1][ix]] = np.random.choice(np.arange(1, 3), p=[0.9, 0.1])\n",
    "    \n",
    "    def updateBoard(self, move):\n",
    "        old_board = deepcopy(np.asarray(self.getBoard()))\n",
    "        self.shift(move)\n",
    "        if not np.array_equal(old_board, np.asarray(self.getBoard())):\n",
    "            self.newPiece()\n",
    "        if self.gameOver(): \n",
    "            self.state = 1\n",
    "            self.board = np.zeros((4,4))\n",
    "    \n",
    "    def shift(self, move):\n",
    "        board = self.board\n",
    "        for i in range(0, 4):\n",
    "            if move == 'left': row = board[i]\n",
    "            elif move == 'right': row = reversed(board[i])\n",
    "            elif move == 'up': row = board[:,i]\n",
    "            elif move == 'down': row = reversed(board[:,i])\n",
    "                \n",
    "            temp = [num for num in row if num != 0]\n",
    "            temp = temp + [0] * (4 - len(temp))\n",
    "            \n",
    "            if move == 'left': board[i] = self.concatRow(temp)\n",
    "            elif move == 'right': board[i] = list(reversed(self.concatRow(temp)))\n",
    "            elif move == 'up': board[:,i] = self.concatRow(temp)\n",
    "            elif move == 'down': board[:,i] = list(reversed(self.concatRow(temp)))\n",
    "        self.board = board\n",
    "        \n",
    "        \n",
    "    def concatRow(self, row):\n",
    "        new_row = []\n",
    "        ix = 0\n",
    "        while ix < len(row):\n",
    "            if ix < len(row) - 1 and row[ix] == row[ix + 1] and not row[ix] == 0:\n",
    "                new_row = new_row + [int(row[ix]+1)]\n",
    "                ix += 2\n",
    "            else:\n",
    "                new_row = new_row + [row[ix]]\n",
    "                ix += 1\n",
    "        new_row = new_row + [0] * (4 - len(new_row))\n",
    "        return new_row\n",
    "        \n",
    "    def getBoard(self):\n",
    "        return self.board\n",
    "    \n",
    "    def gameOver(self):        \n",
    "        # Check if all locations are full\n",
    "        if len(np.where(self.board == 0)[0]) == 0:\n",
    "            # Check if any adjacent pieces. If one has a same adjacent tile\n",
    "            # then return False. The game is not over.\n",
    "            for i in range(0, 4):\n",
    "                for j in range(0, 4):\n",
    "                    value = self.board[i, j]\n",
    "                    for off in [(-1, 0), (1, 0), (0, -1), (0, 1)]:\n",
    "                        ix = (i+off[0], j+off[1])\n",
    "                        if not (ix[0]<0 or ix[0]>3 or ix[1]<0 or ix[1]>3):\n",
    "                            if self.board[ix] == value: return False               \n",
    "            return True\n",
    "        return False # If there are still empty places the game is not over\n",
    "    \n",
    "    def set_state(self, state):\n",
    "        if state == 0:\n",
    "            self.state = state\n",
    "            self.initBoard()"
   ]
  },
  {
   "cell_type": "markdown",
   "metadata": {},
   "source": [
    "This is the implementation of the tkinter GUI."
   ]
  },
  {
   "cell_type": "code",
   "execution_count": 121,
   "metadata": {},
   "outputs": [],
   "source": [
    "class GUI(object):\n",
    "    def __init__(self, master):\n",
    "        self.master = master\n",
    "        self.master.geometry('400x400')\n",
    "        \n",
    "        self.canv = Canvas(root, background='white')\n",
    "\n",
    "        self.button1 = Button(root, text = 'Restart')\n",
    "        self.button1.config(command = self.restart)\n",
    "        self.button1.place(relx = 0., rely = 0.8, relwidth=0.5, relheight=0.2)\n",
    "\n",
    "        self.button2 = Button(root, text = 'Quit')\n",
    "        self.button2.config(command = self.quit)\n",
    "        self.button2.place(relx = 0.5, rely = 0.8, relwidth=0.5, relheight=0.2)\n",
    "        \n",
    "        self.master.bind(\"<KeyPress>\", self.keydown)\n",
    "        \n",
    "        self.env = Environment()\n",
    "        self.update_screen(self.env.getBoard())\n",
    "        \n",
    "    def keydown(self, e):\n",
    "        directions = {37: 'left',\n",
    "                      38: 'up',\n",
    "                      39: 'right',\n",
    "                      40: 'down'}\n",
    "        \n",
    "        if e.keycode in directions:\n",
    "            self.env.updateBoard(directions[e.keycode])\n",
    "            self.update_screen(self.env.getBoard())\n",
    "    \n",
    "    def quit(self):\n",
    "        self.master.destroy()\n",
    "    \n",
    "    def restart(self):\n",
    "        self.env.set_state(0)\n",
    "        self.update_screen(self.env.getBoard())\n",
    "        \n",
    "    def update_screen(self, mat):\n",
    "        levels = [0, 1, 2, 3, 4, 5, 6, 7, 8, 9, 10, 11, 12]\n",
    "        levels = np.subtract(levels, 0.1)\n",
    "        colors = ['white', \n",
    "                  'blue', \n",
    "                  'royalblue',\n",
    "                  'lightblue',\n",
    "                  'deepskyblue',\n",
    "                  'turquoise',\n",
    "                  'green',\n",
    "                  'limegreen',\n",
    "                  'yellow',\n",
    "                  'gold',\n",
    "                  'orange',\n",
    "                  'red']\n",
    "        cmap, norm = matplotlib.colors.from_levels_and_colors(levels, colors)\n",
    "        \n",
    "        f = Figure()\n",
    "        a = f.add_subplot(111)\n",
    "        a.matshow(mat, cmap=cmap, norm=norm, interpolation='none', alpha = 0.5)\n",
    "\n",
    "        # Labels for major ticks\n",
    "        a.set_xticklabels([])\n",
    "        a.set_yticklabels([])\n",
    "\n",
    "        # Minor ticks\n",
    "        a.set_xticks(np.arange(-0.5, 4, 1), minor=True)\n",
    "        a.set_yticks(np.arange(-0.5, 4, 1), minor=True)\n",
    "        a.grid(which='minor', color='lightgray', linestyle='-', linewidth=2)\n",
    "        \n",
    "        for (i, j), z in np.ndenumerate(mat):\n",
    "            if z != 0:\n",
    "                a.text(j, i, '{:d}'.format(int(2**z)), ha='center', va='center', \n",
    "                       fontsize=24, family = 'monospace', color='#373D3F')\n",
    "        \n",
    "        self.canv = Canvas(root)\n",
    "        self.canv.place(relx = 0.0, rely = 0.0, relwidth=1, relheight=0.8)\n",
    "        \n",
    "        self.canv = FigureCanvasTkAgg(f, master=self.canv)\n",
    "        self.canv.draw()\n",
    "        self.canv.get_tk_widget().configure(background='royalblue')\n",
    "        self.canv.get_tk_widget().pack(side=\"top\", fill=\"both\")\n",
    "        self.canv._tkcanvas.pack(side=\"top\", fill=\"both\", expand=1)\n"
   ]
  },
  {
   "cell_type": "markdown",
   "metadata": {},
   "source": [
    "Run the game!"
   ]
  },
  {
   "cell_type": "code",
   "execution_count": 122,
   "metadata": {},
   "outputs": [],
   "source": [
    "from tkinter import ttk\n",
    "\n",
    "root = Tk()\n",
    "root.style = ttk.Style()\n",
    "root.style.theme_use(\"winnative\")\n",
    "my_gui = GUI(root)\n",
    "\n",
    "root.mainloop()"
   ]
  },
  {
   "cell_type": "code",
   "execution_count": 119,
   "metadata": {},
   "outputs": [
    {
     "data": {
      "text/plain": [
       "2"
      ]
     },
     "execution_count": 119,
     "metadata": {},
     "output_type": "execute_result"
    }
   ],
   "source": [
    "np.random.choice(np.arange(1, 3), p=[0.9, 0.1])"
   ]
  },
  {
   "cell_type": "code",
   "execution_count": null,
   "metadata": {},
   "outputs": [],
   "source": []
  }
 ],
 "metadata": {
  "kernelspec": {
   "display_name": "Python 3",
   "language": "python",
   "name": "python3"
  },
  "language_info": {
   "codemirror_mode": {
    "name": "ipython",
    "version": 3
   },
   "file_extension": ".py",
   "mimetype": "text/x-python",
   "name": "python",
   "nbconvert_exporter": "python",
   "pygments_lexer": "ipython3",
   "version": "3.6.5"
  }
 },
 "nbformat": 4,
 "nbformat_minor": 2
}
