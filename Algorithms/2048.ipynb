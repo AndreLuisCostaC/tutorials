{
 "cells": [
  {
   "cell_type": "code",
   "execution_count": 1,
   "metadata": {},
   "outputs": [],
   "source": [
    "import numpy as np\n",
    "import matplotlib.pyplot as plt\n",
    "from pynput import keyboard\n",
    "import time"
   ]
  },
  {
   "cell_type": "code",
   "execution_count": 2,
   "metadata": {},
   "outputs": [],
   "source": [
    "class MyListener(keyboard.Listener):\n",
    "    def __init__(self):\n",
    "        super(MyListener, self).__init__(self.on_press, self.on_release)\n",
    "        self.key_pressed = None\n",
    "\n",
    "    def on_press(self, key):\n",
    "        self.key_pressed = key\n",
    "\n",
    "    def on_release(self, key):\n",
    "        self.key_pressed = None"
   ]
  },
  {
   "cell_type": "code",
   "execution_count": 3,
   "metadata": {},
   "outputs": [],
   "source": [
    "class Environment(object):\n",
    "    \n",
    "    def __init__(self):\n",
    "        self.initBoard()\n",
    "    \n",
    "    def initBoard(self):\n",
    "        self.board = np.zeros((4,4))\n",
    "        self.newPiece()\n",
    "    \n",
    "    def updateBoard(self, move):\n",
    "        print(move)\n",
    "        self.shift(move)\n",
    "        self.newPiece()\n",
    "        print(self.getBoard())\n",
    "    \n",
    "    def shift(self, move):\n",
    "        board = self.board\n",
    "        for i in range(0, 4):\n",
    "            if move == 'left':\n",
    "                print('in left')\n",
    "                row = board[i]\n",
    "                temp = [num for num in row if num != 0]\n",
    "                temp = temp + [0] * (4 - len(temp))\n",
    "                board[i] = self.concatRow(temp)\n",
    "            elif move == 'up':\n",
    "                col = board[:,i]\n",
    "                temp = [num for num in col if num != 0]\n",
    "                temp = temp + [0] * (4 - len(temp))\n",
    "                board[:,i] = self.concatRow(temp)\n",
    "            elif move == 'right':\n",
    "                row = board[i]\n",
    "                temp = [num for num in row if num != 0]\n",
    "                temp = [0] * (4 - len(temp)) + temp \n",
    "                temp = list(reversed(temp))\n",
    "                board[i] = list(reversed(self.concatRow(temp)))\n",
    "            elif move == 'down':\n",
    "                row = board[:,i]\n",
    "                temp = [num for num in row if num != 0]\n",
    "                temp = [0] * (4 - len(temp)) + temp \n",
    "                temp = list(reversed(temp))\n",
    "                board[:,i] = list(reversed(self.concatRow(temp)))\n",
    "        self.board = board\n",
    "        \n",
    "    def concatRow(self, row):\n",
    "        new_row = []\n",
    "        ix = 0\n",
    "        while ix < len(row):\n",
    "            if ix < len(row) - 1 and row[ix] == row[ix + 1] and not row[ix] == 0:\n",
    "                new_row = new_row + [int(row[ix]*2)]\n",
    "                ix += 2\n",
    "                print(ix)\n",
    "            else:\n",
    "                new_row = new_row + [row[ix]]\n",
    "                ix += 1\n",
    "        print(new_row)\n",
    "        new_row = new_row + [0] * (4 - len(new_row))\n",
    "        return new_row\n",
    "    \n",
    "    def newPiece(self):\n",
    "        board = self.board.reshape((16,1))\n",
    "        empty = 0\n",
    "        while empty == 0:\n",
    "            ix = np.random.randint(16)\n",
    "            if board[ix] == 0:\n",
    "                empty = 1\n",
    "                board[ix] = np.random.randint(1,3)\n",
    "        self.board = board.reshape((4,4))\n",
    "        \n",
    "    def getBoard(self):\n",
    "        return self.board\n",
    "    \n",
    "    def gameOver(self):        \n",
    "        # Check if all locations are full\n",
    "        if len(np.where(self.board == 0)[0]) == 0:\n",
    "            # Check if any adjacent pieces. If one has a same adjacent tile\n",
    "            # then return False. The game is not over.\n",
    "            for i in range(0, 4):\n",
    "                for j in range(0, 4):\n",
    "                    value = self.board[i, j]\n",
    "                    for off in [(-1, 0), (1, 0), (0, -1), (0, 1)]:\n",
    "                        ix = (i+off[0], j+off[1])\n",
    "                        if not (ix[0]<0 or ix[0]>3 or ix[1]<0 or ix[1]>3):\n",
    "                            if self.board[ix] == value: return False               \n",
    "            return True\n",
    "        return False # If there are still empty places the game is not over\n",
    "    \n",
    "    def plotBoard(self):\n",
    "        plt.imshow(self.board, cmap = 'gray_r')\n",
    "        plt.show()"
   ]
  },
  {
   "cell_type": "code",
   "execution_count": null,
   "metadata": {},
   "outputs": [
    {
     "name": "stdout",
     "output_type": "stream",
     "text": [
      "[[ 0.  1.  0.  0.]\n",
      " [ 0.  0.  0.  0.]\n",
      " [ 0.  0.  0.  0.]\n",
      " [ 0.  0.  0.  0.]]\n"
     ]
    },
    {
     "data": {
      "image/png": "[encoded data removed]",
      "text/plain": [
       "<matplotlib.figure.Figure at 0x1c8e142c240>"
      ]
     },
     "metadata": {},
     "output_type": "display_data"
    }
   ],
   "source": [
    "from pynput import keyboard\n",
    "\n",
    "listener = MyListener()\n",
    "listener.start()\n",
    "env = Environment()\n",
    "\n",
    "print(env.getBoard())\n",
    "\n",
    "plt.imshow(env.getBoard())\n",
    "plt.show()\n",
    "\n",
    "counter = 0\n",
    "while (not env.gameOver()) and counter < 4:\n",
    "    time.sleep(0.1)\n",
    "    key_pressed = listener.key_pressed\n",
    "    \n",
    "    while not listener.key_pressed == None:\n",
    "        pass\n",
    "    \n",
    "    if key_pressed == keyboard.Key.up:\n",
    "        env.updateBoard('up')\n",
    "        plt.imshow(env.getBoard())\n",
    "        plt.show()\n",
    "        counter += 1\n",
    "    if key_pressed == keyboard.Key.right:\n",
    "        env.updateBoard('right')\n",
    "        plt.imshow(env.getBoard())\n",
    "        plt.show()\n",
    "        counter += 1\n",
    "    if key_pressed == keyboard.Key.down:\n",
    "        env.updateBoard('down')\n",
    "        plt.imshow(env.getBoard())\n",
    "        plt.show()\n",
    "        counter += 1\n",
    "    if key_pressed == keyboard.Key.left:\n",
    "        env.updateBoard('left')\n",
    "        plt.imshow(env.getBoard())\n",
    "        plt.show()\n",
    "        counter += 1\n",
    "\n",
    "print('Game Over')\n",
    "print('DONE!')"
   ]
  },
  {
   "cell_type": "code",
   "execution_count": 10,
   "metadata": {},
   "outputs": [
    {
     "name": "stdout",
     "output_type": "stream",
     "text": [
      "[0, 0, 1, 1]\n"
     ]
    }
   ],
   "source": [
    "a = [0, 0, 1, 1]\n",
    "\n",
    "print(a)"
   ]
  },
  {
   "cell_type": "code",
   "execution_count": 11,
   "metadata": {},
   "outputs": [
    {
     "data": {
      "text/plain": [
       "[1, 1, 0, 0]"
      ]
     },
     "execution_count": 11,
     "metadata": {},
     "output_type": "execute_result"
    }
   ],
   "source": [
    "non_zero_list = [num for num in a if num != 0]\n",
    "\n",
    "non_zero_list + [0] * (4 - len(non_zero_list))"
   ]
  },
  {
   "cell_type": "code",
   "execution_count": 12,
   "metadata": {},
   "outputs": [
    {
     "data": {
      "text/plain": [
       "[1, 1]"
      ]
     },
     "execution_count": 12,
     "metadata": {},
     "output_type": "execute_result"
    }
   ],
   "source": [
    "non_zero_list"
   ]
  },
  {
   "cell_type": "code",
   "execution_count": 13,
   "metadata": {},
   "outputs": [
    {
     "name": "stdout",
     "output_type": "stream",
     "text": [
      "[2, 2, 2, 2]\n",
      "2\n",
      "4\n",
      "[4, 4]\n",
      "[4, 4, 0, 0]\n"
     ]
    }
   ],
   "source": [
    "row = [2, 2, 2, 2]\n",
    "\n",
    "temp = [num for num in row if num != 0]\n",
    "row = temp + [0] * (4 - len(temp))\n",
    "\n",
    "print(row)\n",
    "\n",
    "new_row = []\n",
    "ix = 0\n",
    "\n",
    "while ix < len(row):\n",
    "    if ix < len(row) - 1:\n",
    "        if row[ix] == row[ix + 1] and not row[ix] == 0:\n",
    "            new_row = new_row + [row[ix]*2]\n",
    "            ix += 2\n",
    "            print(ix)\n",
    "        else:\n",
    "            new_row = new_row + [row[ix]]\n",
    "            ix += 1\n",
    "    else:\n",
    "        new_row = new_row + [row[ix]]\n",
    "        ix += 1\n",
    "    \n",
    "print(new_row)\n",
    "\n",
    "new_row = new_row + [0] * (4 - len(new_row))\n",
    "\n",
    "print(new_row)"
   ]
  },
  {
   "cell_type": "code",
   "execution_count": 14,
   "metadata": {},
   "outputs": [
    {
     "name": "stdout",
     "output_type": "stream",
     "text": [
      "[2, 2, 2, 4]\n",
      "4\n",
      "2\n",
      "0\n",
      "[2, 4, 4]\n",
      "[0, 2, 4, 4]\n"
     ]
    }
   ],
   "source": [
    "row = [2, 2, 2, 4]\n",
    "\n",
    "temp = [num for num in row if num != 0]\n",
    "row = [0] * (4 - len(temp)) + temp \n",
    "\n",
    "print(row)\n",
    "\n",
    "new_row = []\n",
    "ix = len(row) - 1\n",
    "\n",
    "while ix >= 0:\n",
    "    if ix > 0:\n",
    "        print(row[ix])\n",
    "        if row[ix] == row[ix - 1] and not row[ix] == 0:\n",
    "            new_row = [row[ix]*2] + new_row\n",
    "            ix -= 2\n",
    "            print(ix)\n",
    "        else:\n",
    "            new_row = [row[ix]] + new_row\n",
    "            ix -= 1\n",
    "    else:\n",
    "        new_row = [row[ix]] + new_row\n",
    "        ix -= 1\n",
    "    \n",
    "print(new_row)\n",
    "\n",
    "new_row = [0] * (4 - len(new_row)) + new_row\n",
    "\n",
    "print(new_row)"
   ]
  },
  {
   "cell_type": "code",
   "execution_count": 15,
   "metadata": {},
   "outputs": [
    {
     "data": {
      "text/plain": [
       "[4, 2, 2, 2]"
      ]
     },
     "execution_count": 15,
     "metadata": {},
     "output_type": "execute_result"
    }
   ],
   "source": [
    "row = [2, 2, 2, 4]\n",
    "list(reversed(row))"
   ]
  },
  {
   "cell_type": "code",
   "execution_count": null,
   "metadata": {},
   "outputs": [],
   "source": []
  }
 ],
 "metadata": {
  "kernelspec": {
   "display_name": "Python 3",
   "language": "python",
   "name": "python3"
  },
  "language_info": {
   "codemirror_mode": {
    "name": "ipython",
    "version": 3
   },
   "file_extension": ".py",
   "mimetype": "text/x-python",
   "name": "python",
   "nbconvert_exporter": "python",
   "pygments_lexer": "ipython3",
   "version": "3.6.3"
  }
 },
 "nbformat": 4,
 "nbformat_minor": 2
}
